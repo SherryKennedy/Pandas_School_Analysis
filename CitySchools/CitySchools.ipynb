{
 "cells": [
  {
   "cell_type": "markdown",
   "metadata": {},
   "source": [
    "### Note\n",
    "* Instructions have been included for each segment. You do not have to follow them exactly, but they are included to help you think through the steps."
   ]
  },
  {
   "cell_type": "code",
   "execution_count": 1,
   "metadata": {},
   "outputs": [],
   "source": [
    "# Dependencies and Setup\n",
    "import pandas as pd\n",
    "import os\n",
    "\n",
    "# File to Load \n",
    "school_data_to_load = os.path.join(\"Resources/schools_complete.csv\")\n",
    "student_data_to_load = os.path.join(\"Resources/students_complete.csv\")\n",
    "\n",
    "# Read School and Student Data File and store into Pandas DataFrames\n",
    "school_data = pd.read_csv(school_data_to_load)\n",
    "student_data = pd.read_csv(student_data_to_load)\n",
    "\n",
    "# Combine the data into a single dataset.  \n",
    "school_data_complete = pd.merge(student_data, school_data, how=\"left\", on=[\"school_name\", \"school_name\"])"
   ]
  },
  {
   "cell_type": "markdown",
   "metadata": {},
   "source": [
    "## District Summary\n",
    "\n",
    "* Calculate the total number of schools\n",
    "\n",
    "* Calculate the total number of students\n",
    "\n",
    "* Calculate the total budget\n",
    "\n",
    "* Calculate the average math score \n",
    "\n",
    "* Calculate the average reading score\n",
    "\n",
    "* Calculate the percentage of students with a passing math score (70 or greater)\n",
    "\n",
    "* Calculate the percentage of students with a passing reading score (70 or greater)\n",
    "\n",
    "* Calculate the percentage of students who passed math **and** reading (% Overall Passing)\n",
    "\n",
    "* Create a dataframe to hold the above results\n",
    "\n",
    "* Optional: give the displayed data cleaner formatting"
   ]
  },
  {
   "cell_type": "code",
   "execution_count": 2,
   "metadata": {},
   "outputs": [
    {
     "data": {
      "text/html": [
       "<div>\n",
       "<style scoped>\n",
       "    .dataframe tbody tr th:only-of-type {\n",
       "        vertical-align: middle;\n",
       "    }\n",
       "\n",
       "    .dataframe tbody tr th {\n",
       "        vertical-align: top;\n",
       "    }\n",
       "\n",
       "    .dataframe thead th {\n",
       "        text-align: right;\n",
       "    }\n",
       "</style>\n",
       "<table border=\"1\" class=\"dataframe\">\n",
       "  <thead>\n",
       "    <tr style=\"text-align: right;\">\n",
       "      <th></th>\n",
       "      <th>Student ID</th>\n",
       "      <th>student_name</th>\n",
       "      <th>gender</th>\n",
       "      <th>grade</th>\n",
       "      <th>school_name</th>\n",
       "      <th>reading_score</th>\n",
       "      <th>math_score</th>\n",
       "    </tr>\n",
       "  </thead>\n",
       "  <tbody>\n",
       "    <tr>\n",
       "      <th>0</th>\n",
       "      <td>0</td>\n",
       "      <td>Paul Bradley</td>\n",
       "      <td>M</td>\n",
       "      <td>9th</td>\n",
       "      <td>Huang High School</td>\n",
       "      <td>66</td>\n",
       "      <td>79</td>\n",
       "    </tr>\n",
       "    <tr>\n",
       "      <th>1</th>\n",
       "      <td>1</td>\n",
       "      <td>Victor Smith</td>\n",
       "      <td>M</td>\n",
       "      <td>12th</td>\n",
       "      <td>Huang High School</td>\n",
       "      <td>94</td>\n",
       "      <td>61</td>\n",
       "    </tr>\n",
       "    <tr>\n",
       "      <th>2</th>\n",
       "      <td>2</td>\n",
       "      <td>Kevin Rodriguez</td>\n",
       "      <td>M</td>\n",
       "      <td>12th</td>\n",
       "      <td>Huang High School</td>\n",
       "      <td>90</td>\n",
       "      <td>60</td>\n",
       "    </tr>\n",
       "    <tr>\n",
       "      <th>3</th>\n",
       "      <td>3</td>\n",
       "      <td>Dr. Richard Scott</td>\n",
       "      <td>M</td>\n",
       "      <td>12th</td>\n",
       "      <td>Huang High School</td>\n",
       "      <td>67</td>\n",
       "      <td>58</td>\n",
       "    </tr>\n",
       "    <tr>\n",
       "      <th>4</th>\n",
       "      <td>4</td>\n",
       "      <td>Bonnie Ray</td>\n",
       "      <td>F</td>\n",
       "      <td>9th</td>\n",
       "      <td>Huang High School</td>\n",
       "      <td>97</td>\n",
       "      <td>84</td>\n",
       "    </tr>\n",
       "  </tbody>\n",
       "</table>\n",
       "</div>"
      ],
      "text/plain": [
       "   Student ID       student_name gender grade        school_name  \\\n",
       "0           0       Paul Bradley      M   9th  Huang High School   \n",
       "1           1       Victor Smith      M  12th  Huang High School   \n",
       "2           2    Kevin Rodriguez      M  12th  Huang High School   \n",
       "3           3  Dr. Richard Scott      M  12th  Huang High School   \n",
       "4           4         Bonnie Ray      F   9th  Huang High School   \n",
       "\n",
       "   reading_score  math_score  \n",
       "0             66          79  \n",
       "1             94          61  \n",
       "2             90          60  \n",
       "3             67          58  \n",
       "4             97          84  "
      ]
     },
     "execution_count": 2,
     "metadata": {},
     "output_type": "execute_result"
    }
   ],
   "source": [
    "#check information in files, data types to do math, and if files are clean\n",
    "student_data.head()"
   ]
  },
  {
   "cell_type": "code",
   "execution_count": 3,
   "metadata": {},
   "outputs": [
    {
     "data": {
      "text/plain": [
       "Student ID        int64\n",
       "student_name     object\n",
       "gender           object\n",
       "grade            object\n",
       "school_name      object\n",
       "reading_score     int64\n",
       "math_score        int64\n",
       "dtype: object"
      ]
     },
     "execution_count": 3,
     "metadata": {},
     "output_type": "execute_result"
    }
   ],
   "source": [
    "#reading score,math score, and student id are int64\n",
    "student_data.dtypes"
   ]
  },
  {
   "cell_type": "code",
   "execution_count": 4,
   "metadata": {},
   "outputs": [
    {
     "data": {
      "text/plain": [
       "Student ID       0\n",
       "student_name     0\n",
       "gender           0\n",
       "grade            0\n",
       "school_name      0\n",
       "reading_score    0\n",
       "math_score       0\n",
       "dtype: int64"
      ]
     },
     "execution_count": 4,
     "metadata": {},
     "output_type": "execute_result"
    }
   ],
   "source": [
    "#no nulls\n",
    "student_data.isnull().sum()"
   ]
  },
  {
   "cell_type": "code",
   "execution_count": 5,
   "metadata": {},
   "outputs": [
    {
     "data": {
      "text/html": [
       "<div>\n",
       "<style scoped>\n",
       "    .dataframe tbody tr th:only-of-type {\n",
       "        vertical-align: middle;\n",
       "    }\n",
       "\n",
       "    .dataframe tbody tr th {\n",
       "        vertical-align: top;\n",
       "    }\n",
       "\n",
       "    .dataframe thead th {\n",
       "        text-align: right;\n",
       "    }\n",
       "</style>\n",
       "<table border=\"1\" class=\"dataframe\">\n",
       "  <thead>\n",
       "    <tr style=\"text-align: right;\">\n",
       "      <th></th>\n",
       "      <th>School ID</th>\n",
       "      <th>school_name</th>\n",
       "      <th>type</th>\n",
       "      <th>size</th>\n",
       "      <th>budget</th>\n",
       "    </tr>\n",
       "  </thead>\n",
       "  <tbody>\n",
       "    <tr>\n",
       "      <th>0</th>\n",
       "      <td>0</td>\n",
       "      <td>Huang High School</td>\n",
       "      <td>District</td>\n",
       "      <td>2917</td>\n",
       "      <td>1910635</td>\n",
       "    </tr>\n",
       "    <tr>\n",
       "      <th>1</th>\n",
       "      <td>1</td>\n",
       "      <td>Figueroa High School</td>\n",
       "      <td>District</td>\n",
       "      <td>2949</td>\n",
       "      <td>1884411</td>\n",
       "    </tr>\n",
       "    <tr>\n",
       "      <th>2</th>\n",
       "      <td>2</td>\n",
       "      <td>Shelton High School</td>\n",
       "      <td>Charter</td>\n",
       "      <td>1761</td>\n",
       "      <td>1056600</td>\n",
       "    </tr>\n",
       "    <tr>\n",
       "      <th>3</th>\n",
       "      <td>3</td>\n",
       "      <td>Hernandez High School</td>\n",
       "      <td>District</td>\n",
       "      <td>4635</td>\n",
       "      <td>3022020</td>\n",
       "    </tr>\n",
       "    <tr>\n",
       "      <th>4</th>\n",
       "      <td>4</td>\n",
       "      <td>Griffin High School</td>\n",
       "      <td>Charter</td>\n",
       "      <td>1468</td>\n",
       "      <td>917500</td>\n",
       "    </tr>\n",
       "  </tbody>\n",
       "</table>\n",
       "</div>"
      ],
      "text/plain": [
       "   School ID            school_name      type  size   budget\n",
       "0          0      Huang High School  District  2917  1910635\n",
       "1          1   Figueroa High School  District  2949  1884411\n",
       "2          2    Shelton High School   Charter  1761  1056600\n",
       "3          3  Hernandez High School  District  4635  3022020\n",
       "4          4    Griffin High School   Charter  1468   917500"
      ]
     },
     "execution_count": 5,
     "metadata": {},
     "output_type": "execute_result"
    }
   ],
   "source": [
    "school_data.head()"
   ]
  },
  {
   "cell_type": "code",
   "execution_count": 6,
   "metadata": {},
   "outputs": [
    {
     "data": {
      "text/plain": [
       "School ID       int64\n",
       "school_name    object\n",
       "type           object\n",
       "size            int64\n",
       "budget          int64\n",
       "dtype: object"
      ]
     },
     "execution_count": 6,
     "metadata": {},
     "output_type": "execute_result"
    }
   ],
   "source": [
    "#school id, size and budget are int 64\n",
    "school_data.dtypes"
   ]
  },
  {
   "cell_type": "code",
   "execution_count": 7,
   "metadata": {},
   "outputs": [
    {
     "data": {
      "text/plain": [
       "School ID      0\n",
       "school_name    0\n",
       "type           0\n",
       "size           0\n",
       "budget         0\n",
       "dtype: int64"
      ]
     },
     "execution_count": 7,
     "metadata": {},
     "output_type": "execute_result"
    }
   ],
   "source": [
    "#no nulls\n",
    "school_data.isnull().sum()"
   ]
  },
  {
   "cell_type": "code",
   "execution_count": 8,
   "metadata": {},
   "outputs": [
    {
     "data": {
      "text/plain": [
       "15"
      ]
     },
     "execution_count": 8,
     "metadata": {},
     "output_type": "execute_result"
    }
   ],
   "source": [
    "#Calculate the total number of schools\n",
    "ttl_schools =student_data['school_name'].nunique()\n",
    "ttl_schools\n"
   ]
  },
  {
   "cell_type": "code",
   "execution_count": 9,
   "metadata": {},
   "outputs": [
    {
     "data": {
      "text/plain": [
       "39170"
      ]
     },
     "execution_count": 9,
     "metadata": {},
     "output_type": "execute_result"
    }
   ],
   "source": [
    "#Calculate the total number of students\n",
    "ttl_students = student_data['student_name'].count()\n",
    "ttl_students  \n"
   ]
  },
  {
   "cell_type": "code",
   "execution_count": 10,
   "metadata": {},
   "outputs": [
    {
     "data": {
      "text/plain": [
       "24649428"
      ]
     },
     "execution_count": 10,
     "metadata": {},
     "output_type": "execute_result"
    }
   ],
   "source": [
    "#Calculate the total budget\n",
    "ttl_budget= school_data['budget'].sum()\n",
    "ttl_budget"
   ]
  },
  {
   "cell_type": "code",
   "execution_count": 11,
   "metadata": {},
   "outputs": [
    {
     "data": {
      "text/plain": [
       "reading_score    81.877840\n",
       "math_score       78.985371\n",
       "dtype: float64"
      ]
     },
     "execution_count": 11,
     "metadata": {},
     "output_type": "execute_result"
    }
   ],
   "source": [
    "#Calculate the average math score\n",
    "#Calculate the average reading score\n",
    "avg_scores =student_data.iloc[:,[5,6]].mean()\n",
    "avg_scores\n"
   ]
  },
  {
   "cell_type": "code",
   "execution_count": 12,
   "metadata": {},
   "outputs": [
    {
     "data": {
      "text/plain": [
       "pandas.core.series.Series"
      ]
     },
     "execution_count": 12,
     "metadata": {},
     "output_type": "execute_result"
    }
   ],
   "source": [
    "#check type returns\n",
    "type(avg_scores)"
   ]
  },
  {
   "cell_type": "code",
   "execution_count": 13,
   "metadata": {},
   "outputs": [
    {
     "data": {
      "text/plain": [
       "81.87784018381414"
      ]
     },
     "execution_count": 13,
     "metadata": {},
     "output_type": "execute_result"
    }
   ],
   "source": [
    "#check how to return each individually, reading\n",
    "avg_scores['reading_score']"
   ]
  },
  {
   "cell_type": "code",
   "execution_count": 14,
   "metadata": {},
   "outputs": [
    {
     "data": {
      "text/plain": [
       "78.98537145774827"
      ]
     },
     "execution_count": 14,
     "metadata": {},
     "output_type": "execute_result"
    }
   ],
   "source": [
    "#check how to return each individually, math\n",
    "avg_scores['math_score']"
   ]
  },
  {
   "cell_type": "code",
   "execution_count": 15,
   "metadata": {},
   "outputs": [],
   "source": [
    "#Calculate the percentage of students with a passing math score (70 or greater)\n",
    "#get as a dataframe and do math on it  \n",
    "df_passing_math = student_data[(student_data['math_score'] >= 70)]"
   ]
  },
  {
   "cell_type": "code",
   "execution_count": 16,
   "metadata": {},
   "outputs": [
    {
     "data": {
      "text/plain": [
       "74.980853"
      ]
     },
     "execution_count": 16,
     "metadata": {},
     "output_type": "execute_result"
    }
   ],
   "source": [
    "##Math to get passing math score\n",
    "passing_math = round(df_passing_math['math_score'].count() / ttl_students *100,6)\n",
    "passing_math"
   ]
  },
  {
   "cell_type": "code",
   "execution_count": 17,
   "metadata": {},
   "outputs": [],
   "source": [
    "#Calculate the percentage of students with a passing reading score (70 or greater)\n",
    "#get as a dataframe and do math on it \n",
    "df_passing_read = student_data[(student_data['reading_score'] >= 70)]"
   ]
  },
  {
   "cell_type": "code",
   "execution_count": 18,
   "metadata": {},
   "outputs": [
    {
     "data": {
      "text/plain": [
       "85.805463"
      ]
     },
     "execution_count": 18,
     "metadata": {},
     "output_type": "execute_result"
    }
   ],
   "source": [
    "#Calculate the percentage of students who passed math and reading (% Overall Passing)\n",
    "#Dataframe of those passing, then calculate\n",
    "passing_reading = round(df_passing_read['reading_score'].count() / ttl_students *100,6)\n",
    "passing_reading"
   ]
  },
  {
   "cell_type": "code",
   "execution_count": 19,
   "metadata": {},
   "outputs": [],
   "source": [
    "#Math to get the \n",
    "df_overall_pass = student_data[(student_data['reading_score'] >= 70) & (student_data['math_score'] >= 70)]"
   ]
  },
  {
   "cell_type": "code",
   "execution_count": 20,
   "metadata": {},
   "outputs": [],
   "source": [
    "#use student count on any row to get % passed against total students\n",
    "overall_pass= round(df_overall_pass['reading_score'].count() / ttl_students *100,6)"
   ]
  },
  {
   "cell_type": "code",
   "execution_count": 21,
   "metadata": {},
   "outputs": [
    {
     "data": {
      "text/plain": [
       "65.172326"
      ]
     },
     "execution_count": 21,
     "metadata": {},
     "output_type": "execute_result"
    }
   ],
   "source": [
    "overall_pass"
   ]
  },
  {
   "cell_type": "code",
   "execution_count": 22,
   "metadata": {},
   "outputs": [],
   "source": [
    "#Create a dataframe to hold the above results (showing one way to do some formatting)\n",
    "#add all of the values to a dataframe\n",
    "district_summary_df = pd.DataFrame([{'Total Schools': ttl_schools,\n",
    "                                   'Total Students': \"{:,}\".format(ttl_students),\n",
    "                                   'Total Budget': \"${:,.2f}\".format(ttl_budget),\n",
    "                                   'Average Math Score': round(avg_scores['math_score'],6),\n",
    "                                   'Average Reading Score':round(avg_scores['reading_score'],6),\n",
    "                                   '% Passing Math': passing_math,\n",
    "                                   '% Passing Reading': passing_reading,\n",
    "                                   '% Overall Passing': overall_pass}])"
   ]
  },
  {
   "cell_type": "markdown",
   "metadata": {},
   "source": [
    "## District School Summary:"
   ]
  },
  {
   "cell_type": "code",
   "execution_count": 23,
   "metadata": {},
   "outputs": [
    {
     "data": {
      "text/html": [
       "<div>\n",
       "<style scoped>\n",
       "    .dataframe tbody tr th:only-of-type {\n",
       "        vertical-align: middle;\n",
       "    }\n",
       "\n",
       "    .dataframe tbody tr th {\n",
       "        vertical-align: top;\n",
       "    }\n",
       "\n",
       "    .dataframe thead th {\n",
       "        text-align: right;\n",
       "    }\n",
       "</style>\n",
       "<table border=\"1\" class=\"dataframe\">\n",
       "  <thead>\n",
       "    <tr style=\"text-align: right;\">\n",
       "      <th></th>\n",
       "      <th>Total Schools</th>\n",
       "      <th>Total Students</th>\n",
       "      <th>Total Budget</th>\n",
       "      <th>Average Math Score</th>\n",
       "      <th>Average Reading Score</th>\n",
       "      <th>% Passing Math</th>\n",
       "      <th>% Passing Reading</th>\n",
       "      <th>% Overall Passing</th>\n",
       "    </tr>\n",
       "  </thead>\n",
       "  <tbody>\n",
       "    <tr>\n",
       "      <th>0</th>\n",
       "      <td>15</td>\n",
       "      <td>39,170</td>\n",
       "      <td>$24,649,428.00</td>\n",
       "      <td>78.985371</td>\n",
       "      <td>81.87784</td>\n",
       "      <td>74.980853</td>\n",
       "      <td>85.805463</td>\n",
       "      <td>65.172326</td>\n",
       "    </tr>\n",
       "  </tbody>\n",
       "</table>\n",
       "</div>"
      ],
      "text/plain": [
       "   Total Schools Total Students    Total Budget  Average Math Score  \\\n",
       "0             15         39,170  $24,649,428.00           78.985371   \n",
       "\n",
       "   Average Reading Score  % Passing Math  % Passing Reading  % Overall Passing  \n",
       "0               81.87784       74.980853          85.805463          65.172326  "
      ]
     },
     "execution_count": 23,
     "metadata": {},
     "output_type": "execute_result"
    }
   ],
   "source": [
    "district_summary_df"
   ]
  },
  {
   "cell_type": "markdown",
   "metadata": {},
   "source": [
    "## School Summary"
   ]
  },
  {
   "cell_type": "markdown",
   "metadata": {},
   "source": [
    "* Create an overview table that summarizes key metrics about each school, including:\n",
    "  * School Name\n",
    "  * School Type\n",
    "  * Total Students\n",
    "  * Total School Budget\n",
    "  * Per Student Budget\n",
    "  * Average Math Score\n",
    "  * Average Reading Score\n",
    "  * % Passing Math\n",
    "  * % Passing Reading\n",
    "  * % Overall Passing (The percentage of students that passed math **and** reading.)\n",
    "  \n",
    "* Create a dataframe to hold the above results"
   ]
  },
  {
   "cell_type": "code",
   "execution_count": 24,
   "metadata": {},
   "outputs": [],
   "source": [
    "#As seen below:"
   ]
  },
  {
   "cell_type": "code",
   "execution_count": 25,
   "metadata": {},
   "outputs": [
    {
     "data": {
      "text/html": [
       "<div>\n",
       "<style scoped>\n",
       "    .dataframe tbody tr th:only-of-type {\n",
       "        vertical-align: middle;\n",
       "    }\n",
       "\n",
       "    .dataframe tbody tr th {\n",
       "        vertical-align: top;\n",
       "    }\n",
       "\n",
       "    .dataframe thead th {\n",
       "        text-align: right;\n",
       "    }\n",
       "</style>\n",
       "<table border=\"1\" class=\"dataframe\">\n",
       "  <thead>\n",
       "    <tr style=\"text-align: right;\">\n",
       "      <th></th>\n",
       "      <th>Student ID</th>\n",
       "      <th>student_name</th>\n",
       "      <th>gender</th>\n",
       "      <th>grade</th>\n",
       "      <th>school_name</th>\n",
       "      <th>reading_score</th>\n",
       "      <th>math_score</th>\n",
       "      <th>School ID</th>\n",
       "      <th>type</th>\n",
       "      <th>size</th>\n",
       "      <th>budget</th>\n",
       "    </tr>\n",
       "  </thead>\n",
       "  <tbody>\n",
       "    <tr>\n",
       "      <th>0</th>\n",
       "      <td>0</td>\n",
       "      <td>Paul Bradley</td>\n",
       "      <td>M</td>\n",
       "      <td>9th</td>\n",
       "      <td>Huang High School</td>\n",
       "      <td>66</td>\n",
       "      <td>79</td>\n",
       "      <td>0</td>\n",
       "      <td>District</td>\n",
       "      <td>2917</td>\n",
       "      <td>1910635</td>\n",
       "    </tr>\n",
       "    <tr>\n",
       "      <th>1</th>\n",
       "      <td>1</td>\n",
       "      <td>Victor Smith</td>\n",
       "      <td>M</td>\n",
       "      <td>12th</td>\n",
       "      <td>Huang High School</td>\n",
       "      <td>94</td>\n",
       "      <td>61</td>\n",
       "      <td>0</td>\n",
       "      <td>District</td>\n",
       "      <td>2917</td>\n",
       "      <td>1910635</td>\n",
       "    </tr>\n",
       "    <tr>\n",
       "      <th>2</th>\n",
       "      <td>2</td>\n",
       "      <td>Kevin Rodriguez</td>\n",
       "      <td>M</td>\n",
       "      <td>12th</td>\n",
       "      <td>Huang High School</td>\n",
       "      <td>90</td>\n",
       "      <td>60</td>\n",
       "      <td>0</td>\n",
       "      <td>District</td>\n",
       "      <td>2917</td>\n",
       "      <td>1910635</td>\n",
       "    </tr>\n",
       "    <tr>\n",
       "      <th>3</th>\n",
       "      <td>3</td>\n",
       "      <td>Dr. Richard Scott</td>\n",
       "      <td>M</td>\n",
       "      <td>12th</td>\n",
       "      <td>Huang High School</td>\n",
       "      <td>67</td>\n",
       "      <td>58</td>\n",
       "      <td>0</td>\n",
       "      <td>District</td>\n",
       "      <td>2917</td>\n",
       "      <td>1910635</td>\n",
       "    </tr>\n",
       "    <tr>\n",
       "      <th>4</th>\n",
       "      <td>4</td>\n",
       "      <td>Bonnie Ray</td>\n",
       "      <td>F</td>\n",
       "      <td>9th</td>\n",
       "      <td>Huang High School</td>\n",
       "      <td>97</td>\n",
       "      <td>84</td>\n",
       "      <td>0</td>\n",
       "      <td>District</td>\n",
       "      <td>2917</td>\n",
       "      <td>1910635</td>\n",
       "    </tr>\n",
       "  </tbody>\n",
       "</table>\n",
       "</div>"
      ],
      "text/plain": [
       "   Student ID       student_name gender grade        school_name  \\\n",
       "0           0       Paul Bradley      M   9th  Huang High School   \n",
       "1           1       Victor Smith      M  12th  Huang High School   \n",
       "2           2    Kevin Rodriguez      M  12th  Huang High School   \n",
       "3           3  Dr. Richard Scott      M  12th  Huang High School   \n",
       "4           4         Bonnie Ray      F   9th  Huang High School   \n",
       "\n",
       "   reading_score  math_score  School ID      type  size   budget  \n",
       "0             66          79          0  District  2917  1910635  \n",
       "1             94          61          0  District  2917  1910635  \n",
       "2             90          60          0  District  2917  1910635  \n",
       "3             67          58          0  District  2917  1910635  \n",
       "4             97          84          0  District  2917  1910635  "
      ]
     },
     "execution_count": 25,
     "metadata": {},
     "output_type": "execute_result"
    }
   ],
   "source": [
    "#review data looking at and see if clean\n",
    "school_data_complete.head()"
   ]
  },
  {
   "cell_type": "code",
   "execution_count": 26,
   "metadata": {},
   "outputs": [
    {
     "data": {
      "text/plain": [
       "Student ID       0\n",
       "student_name     0\n",
       "gender           0\n",
       "grade            0\n",
       "school_name      0\n",
       "reading_score    0\n",
       "math_score       0\n",
       "School ID        0\n",
       "type             0\n",
       "size             0\n",
       "budget           0\n",
       "dtype: int64"
      ]
     },
     "execution_count": 26,
     "metadata": {},
     "output_type": "execute_result"
    }
   ],
   "source": [
    "#check for nulls\n",
    "school_data_complete.isnull().sum()"
   ]
  },
  {
   "cell_type": "code",
   "execution_count": 27,
   "metadata": {},
   "outputs": [
    {
     "data": {
      "text/plain": [
       "Student ID        int64\n",
       "student_name     object\n",
       "gender           object\n",
       "grade            object\n",
       "school_name      object\n",
       "reading_score     int64\n",
       "math_score        int64\n",
       "School ID         int64\n",
       "type             object\n",
       "size              int64\n",
       "budget            int64\n",
       "dtype: object"
      ]
     },
     "execution_count": 27,
     "metadata": {},
     "output_type": "execute_result"
    }
   ],
   "source": [
    "#check types of objects, for math calculations \n",
    "school_data_complete.dtypes"
   ]
  },
  {
   "cell_type": "markdown",
   "metadata": {},
   "source": [
    "## Dataframe (table) for:\n",
    "1. School Name\n",
    "2. School Type\n",
    "3. Total Students\n",
    "4. Total School Budget\n",
    "5. Per Student Budget\n",
    "6. Average Math Score\n",
    "7. Average Reading Score\n",
    "8. % Passing Math\n",
    "9. % Passing Reading\n",
    "10. % Overall Passing (The percentage of students that passed math and reading.)"
   ]
  },
  {
   "cell_type": "code",
   "execution_count": 28,
   "metadata": {},
   "outputs": [],
   "source": [
    "#Create an overview table:\n",
    "#First create a dataframe which can accomodate the following aggregate functions:\n",
    "#School Name, School Type, Total Students, Total School Budget, Average Math Score, Average Reading Score\n",
    "\n",
    "#School name groupby to get School Names\n",
    "data = school_data_complete.groupby(['school_name']).agg({\n",
    "    #School Type\n",
    "    'type': \"first\",\n",
    "    #Total Students, usuing Student ID count\n",
    "    'Student ID': \"count\",\n",
    "    #Total Budget\n",
    "    'budget': \"max\",\n",
    "    #Average math score\n",
    "    'math_score':'mean',\n",
    "    #Average reading score\n",
    "    'reading_score':'mean'\n",
    "})"
   ]
  },
  {
   "cell_type": "code",
   "execution_count": 29,
   "metadata": {},
   "outputs": [
    {
     "data": {
      "text/html": [
       "<div>\n",
       "<style scoped>\n",
       "    .dataframe tbody tr th:only-of-type {\n",
       "        vertical-align: middle;\n",
       "    }\n",
       "\n",
       "    .dataframe tbody tr th {\n",
       "        vertical-align: top;\n",
       "    }\n",
       "\n",
       "    .dataframe thead th {\n",
       "        text-align: right;\n",
       "    }\n",
       "</style>\n",
       "<table border=\"1\" class=\"dataframe\">\n",
       "  <thead>\n",
       "    <tr style=\"text-align: right;\">\n",
       "      <th></th>\n",
       "      <th>type</th>\n",
       "      <th>Student ID</th>\n",
       "      <th>budget</th>\n",
       "      <th>math_score</th>\n",
       "      <th>reading_score</th>\n",
       "    </tr>\n",
       "    <tr>\n",
       "      <th>school_name</th>\n",
       "      <th></th>\n",
       "      <th></th>\n",
       "      <th></th>\n",
       "      <th></th>\n",
       "      <th></th>\n",
       "    </tr>\n",
       "  </thead>\n",
       "  <tbody>\n",
       "    <tr>\n",
       "      <th>Bailey High School</th>\n",
       "      <td>District</td>\n",
       "      <td>4976</td>\n",
       "      <td>3124928</td>\n",
       "      <td>77.048432</td>\n",
       "      <td>81.033963</td>\n",
       "    </tr>\n",
       "    <tr>\n",
       "      <th>Cabrera High School</th>\n",
       "      <td>Charter</td>\n",
       "      <td>1858</td>\n",
       "      <td>1081356</td>\n",
       "      <td>83.061895</td>\n",
       "      <td>83.975780</td>\n",
       "    </tr>\n",
       "    <tr>\n",
       "      <th>Figueroa High School</th>\n",
       "      <td>District</td>\n",
       "      <td>2949</td>\n",
       "      <td>1884411</td>\n",
       "      <td>76.711767</td>\n",
       "      <td>81.158020</td>\n",
       "    </tr>\n",
       "    <tr>\n",
       "      <th>Ford High School</th>\n",
       "      <td>District</td>\n",
       "      <td>2739</td>\n",
       "      <td>1763916</td>\n",
       "      <td>77.102592</td>\n",
       "      <td>80.746258</td>\n",
       "    </tr>\n",
       "    <tr>\n",
       "      <th>Griffin High School</th>\n",
       "      <td>Charter</td>\n",
       "      <td>1468</td>\n",
       "      <td>917500</td>\n",
       "      <td>83.351499</td>\n",
       "      <td>83.816757</td>\n",
       "    </tr>\n",
       "  </tbody>\n",
       "</table>\n",
       "</div>"
      ],
      "text/plain": [
       "                          type  Student ID   budget  math_score  reading_score\n",
       "school_name                                                                   \n",
       "Bailey High School    District        4976  3124928   77.048432      81.033963\n",
       "Cabrera High School    Charter        1858  1081356   83.061895      83.975780\n",
       "Figueroa High School  District        2949  1884411   76.711767      81.158020\n",
       "Ford High School      District        2739  1763916   77.102592      80.746258\n",
       "Griffin High School    Charter        1468   917500   83.351499      83.816757"
      ]
     },
     "execution_count": 29,
     "metadata": {},
     "output_type": "execute_result"
    }
   ],
   "source": [
    "data.head()"
   ]
  },
  {
   "cell_type": "markdown",
   "metadata": {},
   "source": [
    "## This leaves: \n",
    "1. Per Student Budget\n",
    "2. % Passing Math\n",
    "3. % Passing Reading\n",
    "4. % Overall Passing (The percentage of students that passed math and reading.)"
   ]
  },
  {
   "cell_type": "code",
   "execution_count": 30,
   "metadata": {},
   "outputs": [
    {
     "data": {
      "text/plain": [
       "school_name\n",
       "Huang High School        655.0\n",
       "Figueroa High School     639.0\n",
       "Shelton High School      600.0\n",
       "Hernandez High School    652.0\n",
       "Griffin High School      625.0\n",
       "Wilson High School       578.0\n",
       "Cabrera High School      582.0\n",
       "Bailey High School       628.0\n",
       "Holden High School       581.0\n",
       "Pena High School         609.0\n",
       "Wright High School       583.0\n",
       "Rodriguez High School    637.0\n",
       "Johnson High School      650.0\n",
       "Ford High School         644.0\n",
       "Thomas High School       638.0\n",
       "dtype: float64"
      ]
     },
     "execution_count": 30,
     "metadata": {},
     "output_type": "execute_result"
    }
   ],
   "source": [
    "#1. Per Student Budget:\n",
    "#Creates a series with a matching index of school name, thus easy to insert into the dataframe\n",
    "per_stu_budget= school_data.set_index('school_name')['budget']/school_data.set_index('school_name')['size']\n",
    "per_stu_budget "
   ]
  },
  {
   "cell_type": "code",
   "execution_count": 31,
   "metadata": {},
   "outputs": [
    {
     "data": {
      "text/plain": [
       "pandas.core.series.Series"
      ]
     },
     "execution_count": 31,
     "metadata": {},
     "output_type": "execute_result"
    }
   ],
   "source": [
    "type(per_stu_budget)"
   ]
  },
  {
   "cell_type": "code",
   "execution_count": 32,
   "metadata": {},
   "outputs": [
    {
     "data": {
      "text/plain": [
       "Index(['Bailey High School', 'Cabrera High School', 'Figueroa High School',\n",
       "       'Ford High School', 'Griffin High School', 'Hernandez High School',\n",
       "       'Holden High School', 'Huang High School', 'Johnson High School',\n",
       "       'Pena High School', 'Rodriguez High School', 'Shelton High School',\n",
       "       'Thomas High School', 'Wilson High School', 'Wright High School'],\n",
       "      dtype='object', name='school_name')"
      ]
     },
     "execution_count": 32,
     "metadata": {},
     "output_type": "execute_result"
    }
   ],
   "source": [
    "data.index"
   ]
  },
  {
   "cell_type": "code",
   "execution_count": 33,
   "metadata": {},
   "outputs": [],
   "source": [
    "#same index , but not in the same order\n",
    "#test inserting : True will match indexes\n",
    "data.insert(3,\"Per Student Budget\",per_stu_budget,True)"
   ]
  },
  {
   "cell_type": "code",
   "execution_count": 34,
   "metadata": {},
   "outputs": [
    {
     "data": {
      "text/html": [
       "<div>\n",
       "<style scoped>\n",
       "    .dataframe tbody tr th:only-of-type {\n",
       "        vertical-align: middle;\n",
       "    }\n",
       "\n",
       "    .dataframe tbody tr th {\n",
       "        vertical-align: top;\n",
       "    }\n",
       "\n",
       "    .dataframe thead th {\n",
       "        text-align: right;\n",
       "    }\n",
       "</style>\n",
       "<table border=\"1\" class=\"dataframe\">\n",
       "  <thead>\n",
       "    <tr style=\"text-align: right;\">\n",
       "      <th></th>\n",
       "      <th>type</th>\n",
       "      <th>Student ID</th>\n",
       "      <th>budget</th>\n",
       "      <th>Per Student Budget</th>\n",
       "      <th>math_score</th>\n",
       "      <th>reading_score</th>\n",
       "    </tr>\n",
       "    <tr>\n",
       "      <th>school_name</th>\n",
       "      <th></th>\n",
       "      <th></th>\n",
       "      <th></th>\n",
       "      <th></th>\n",
       "      <th></th>\n",
       "      <th></th>\n",
       "    </tr>\n",
       "  </thead>\n",
       "  <tbody>\n",
       "    <tr>\n",
       "      <th>Bailey High School</th>\n",
       "      <td>District</td>\n",
       "      <td>4976</td>\n",
       "      <td>3124928</td>\n",
       "      <td>628.0</td>\n",
       "      <td>77.048432</td>\n",
       "      <td>81.033963</td>\n",
       "    </tr>\n",
       "  </tbody>\n",
       "</table>\n",
       "</div>"
      ],
      "text/plain": [
       "                        type  Student ID   budget  Per Student Budget  \\\n",
       "school_name                                                             \n",
       "Bailey High School  District        4976  3124928               628.0   \n",
       "\n",
       "                    math_score  reading_score  \n",
       "school_name                                    \n",
       "Bailey High School   77.048432      81.033963  "
      ]
     },
     "execution_count": 34,
     "metadata": {},
     "output_type": "execute_result"
    }
   ],
   "source": [
    "data.head(1)"
   ]
  },
  {
   "cell_type": "code",
   "execution_count": 35,
   "metadata": {},
   "outputs": [
    {
     "data": {
      "text/plain": [
       "school_name\n",
       "Bailey High School       4976\n",
       "Cabrera High School      1858\n",
       "Figueroa High School     2949\n",
       "Ford High School         2739\n",
       "Griffin High School      1468\n",
       "Hernandez High School    4635\n",
       "Holden High School        427\n",
       "Huang High School        2917\n",
       "Johnson High School      4761\n",
       "Pena High School          962\n",
       "Rodriguez High School    3999\n",
       "Shelton High School      1761\n",
       "Thomas High School       1635\n",
       "Wilson High School       2283\n",
       "Wright High School       1800\n",
       "Name: Student ID, dtype: int64"
      ]
     },
     "execution_count": 35,
     "metadata": {},
     "output_type": "execute_result"
    }
   ],
   "source": [
    "#2. % Passing Math (passing math by school / total students by school *100)\n",
    "# total students by school\n",
    "# Need same indexes by school\n",
    "students_bySchoolName= school_data_complete.groupby(['school_name'])\n",
    "ttl_students_bySchool= students_bySchoolName['Student ID'].count()\n",
    "ttl_students_bySchool\n"
   ]
  },
  {
   "cell_type": "code",
   "execution_count": 36,
   "metadata": {},
   "outputs": [
    {
     "data": {
      "text/plain": [
       "school_name\n",
       "Bailey High School       3318\n",
       "Cabrera High School      1749\n",
       "Figueroa High School     1946\n",
       "Ford High School         1871\n",
       "Griffin High School      1371\n",
       "Hernandez High School    3094\n",
       "Holden High School        395\n",
       "Huang High School        1916\n",
       "Johnson High School      3145\n",
       "Pena High School          910\n",
       "Rodriguez High School    2654\n",
       "Shelton High School      1653\n",
       "Thomas High School       1525\n",
       "Wilson High School       2143\n",
       "Wright High School       1680\n",
       "Name: Student ID, dtype: int64"
      ]
     },
     "execution_count": 36,
     "metadata": {},
     "output_type": "execute_result"
    }
   ],
   "source": [
    "#2. % Passing Math\n",
    "# Passing math by school\n",
    "#number of students passing per school with school grouped\n",
    "passing_math_bySchool = school_data_complete[school_data_complete['math_score']>=70].groupby('school_name')['Student ID'].count()\n",
    "passing_math_bySchool \n"
   ]
  },
  {
   "cell_type": "code",
   "execution_count": 37,
   "metadata": {},
   "outputs": [],
   "source": [
    "#2. % Passing Math: \n",
    "percent_math_pass = passing_math_bySchool / ttl_students_bySchool * 100"
   ]
  },
  {
   "cell_type": "code",
   "execution_count": 38,
   "metadata": {},
   "outputs": [
    {
     "data": {
      "text/plain": [
       "school_name\n",
       "Bailey High School      66.680064\n",
       "Cabrera High School     94.133477\n",
       "Figueroa High School    65.988471\n",
       "Ford High School        68.309602\n",
       "Griffin High School     93.392371\n",
       "Name: Student ID, dtype: float64"
      ]
     },
     "execution_count": 38,
     "metadata": {},
     "output_type": "execute_result"
    }
   ],
   "source": [
    "percent_math_pass.head()"
   ]
  },
  {
   "cell_type": "code",
   "execution_count": 39,
   "metadata": {},
   "outputs": [
    {
     "data": {
      "text/plain": [
       "school_name\n",
       "Bailey High School       4077\n",
       "Cabrera High School      1803\n",
       "Figueroa High School     2381\n",
       "Ford High School         2172\n",
       "Griffin High School      1426\n",
       "Hernandez High School    3748\n",
       "Holden High School        411\n",
       "Huang High School        2372\n",
       "Johnson High School      3867\n",
       "Pena High School          923\n",
       "Rodriguez High School    3208\n",
       "Shelton High School      1688\n",
       "Thomas High School       1591\n",
       "Wilson High School       2204\n",
       "Wright High School       1739\n",
       "Name: Student ID, dtype: int64"
      ]
     },
     "execution_count": 39,
     "metadata": {},
     "output_type": "execute_result"
    }
   ],
   "source": [
    "#3. % Passing Reading  (those passing reading by school/ total students by school)\n",
    "#number of students passing per school with school grouped\n",
    "passing_reading_bySchool = school_data_complete[school_data_complete['reading_score']>=70].groupby('school_name')['Student ID'].count()\n",
    "passing_reading_bySchool \n",
    "\n"
   ]
  },
  {
   "cell_type": "code",
   "execution_count": 40,
   "metadata": {},
   "outputs": [],
   "source": [
    "#3. % Passing Reading : (total passing reading by school/ total students by school *100)\n",
    "percent_reading_pass = passing_reading_bySchool / ttl_students_bySchool * 100"
   ]
  },
  {
   "cell_type": "code",
   "execution_count": 41,
   "metadata": {},
   "outputs": [
    {
     "data": {
      "text/plain": [
       "school_name\n",
       "Bailey High School      81.933280\n",
       "Cabrera High School     97.039828\n",
       "Figueroa High School    80.739234\n",
       "Ford High School        79.299014\n",
       "Griffin High School     97.138965\n",
       "Name: Student ID, dtype: float64"
      ]
     },
     "execution_count": 41,
     "metadata": {},
     "output_type": "execute_result"
    }
   ],
   "source": [
    "percent_reading_pass.head()"
   ]
  },
  {
   "cell_type": "code",
   "execution_count": 42,
   "metadata": {},
   "outputs": [
    {
     "data": {
      "text/plain": [
       "school_name\n",
       "Bailey High School       2719\n",
       "Cabrera High School      1697\n",
       "Figueroa High School     1569\n",
       "Ford High School         1487\n",
       "Griffin High School      1330\n",
       "Hernandez High School    2481\n",
       "Holden High School        381\n",
       "Huang High School        1561\n",
       "Johnson High School      2549\n",
       "Pena High School          871\n",
       "Rodriguez High School    2119\n",
       "Shelton High School      1583\n",
       "Thomas High School       1487\n",
       "Wilson High School       2068\n",
       "Wright High School       1626\n",
       "Name: Student ID, dtype: int64"
      ]
     },
     "execution_count": 42,
     "metadata": {},
     "output_type": "execute_result"
    }
   ],
   "source": [
    "#4. % Overall Passing (The percentage of students that passed math and reading.)\n",
    "# Those passing overall reading and math by school / total students by school * 100\n",
    "passing_bySchool = school_data_complete[(school_data_complete['reading_score']>=70) & \n",
    "                                           (school_data_complete['math_score']>=70)].groupby('school_name')['Student ID'].count()\n",
    "\n",
    "passing_bySchool \n"
   ]
  },
  {
   "cell_type": "code",
   "execution_count": 43,
   "metadata": {},
   "outputs": [],
   "source": [
    "#4 % Overall Passing \n",
    "percent_pass = passing_bySchool / ttl_students_bySchool * 100"
   ]
  },
  {
   "cell_type": "code",
   "execution_count": 44,
   "metadata": {},
   "outputs": [
    {
     "data": {
      "text/plain": [
       "school_name\n",
       "Bailey High School       54.642283\n",
       "Cabrera High School      91.334769\n",
       "Figueroa High School     53.204476\n",
       "Ford High School         54.289887\n",
       "Griffin High School      90.599455\n",
       "Hernandez High School    53.527508\n",
       "Holden High School       89.227166\n",
       "Huang High School        53.513884\n",
       "Johnson High School      53.539172\n",
       "Pena High School         90.540541\n",
       "Rodriguez High School    52.988247\n",
       "Shelton High School      89.892107\n",
       "Thomas High School       90.948012\n",
       "Wilson High School       90.582567\n",
       "Wright High School       90.333333\n",
       "Name: Student ID, dtype: float64"
      ]
     },
     "execution_count": 44,
     "metadata": {},
     "output_type": "execute_result"
    }
   ],
   "source": [
    "percent_pass.head(15)"
   ]
  },
  {
   "cell_type": "code",
   "execution_count": 45,
   "metadata": {},
   "outputs": [
    {
     "data": {
      "text/html": [
       "<div>\n",
       "<style scoped>\n",
       "    .dataframe tbody tr th:only-of-type {\n",
       "        vertical-align: middle;\n",
       "    }\n",
       "\n",
       "    .dataframe tbody tr th {\n",
       "        vertical-align: top;\n",
       "    }\n",
       "\n",
       "    .dataframe thead th {\n",
       "        text-align: right;\n",
       "    }\n",
       "</style>\n",
       "<table border=\"1\" class=\"dataframe\">\n",
       "  <thead>\n",
       "    <tr style=\"text-align: right;\">\n",
       "      <th></th>\n",
       "      <th>type</th>\n",
       "      <th>Student ID</th>\n",
       "      <th>budget</th>\n",
       "      <th>Per Student Budget</th>\n",
       "      <th>math_score</th>\n",
       "      <th>reading_score</th>\n",
       "    </tr>\n",
       "    <tr>\n",
       "      <th>school_name</th>\n",
       "      <th></th>\n",
       "      <th></th>\n",
       "      <th></th>\n",
       "      <th></th>\n",
       "      <th></th>\n",
       "      <th></th>\n",
       "    </tr>\n",
       "  </thead>\n",
       "  <tbody>\n",
       "    <tr>\n",
       "      <th>Bailey High School</th>\n",
       "      <td>District</td>\n",
       "      <td>4976</td>\n",
       "      <td>3124928</td>\n",
       "      <td>628.0</td>\n",
       "      <td>77.048432</td>\n",
       "      <td>81.033963</td>\n",
       "    </tr>\n",
       "    <tr>\n",
       "      <th>Cabrera High School</th>\n",
       "      <td>Charter</td>\n",
       "      <td>1858</td>\n",
       "      <td>1081356</td>\n",
       "      <td>582.0</td>\n",
       "      <td>83.061895</td>\n",
       "      <td>83.975780</td>\n",
       "    </tr>\n",
       "    <tr>\n",
       "      <th>Figueroa High School</th>\n",
       "      <td>District</td>\n",
       "      <td>2949</td>\n",
       "      <td>1884411</td>\n",
       "      <td>639.0</td>\n",
       "      <td>76.711767</td>\n",
       "      <td>81.158020</td>\n",
       "    </tr>\n",
       "    <tr>\n",
       "      <th>Ford High School</th>\n",
       "      <td>District</td>\n",
       "      <td>2739</td>\n",
       "      <td>1763916</td>\n",
       "      <td>644.0</td>\n",
       "      <td>77.102592</td>\n",
       "      <td>80.746258</td>\n",
       "    </tr>\n",
       "    <tr>\n",
       "      <th>Griffin High School</th>\n",
       "      <td>Charter</td>\n",
       "      <td>1468</td>\n",
       "      <td>917500</td>\n",
       "      <td>625.0</td>\n",
       "      <td>83.351499</td>\n",
       "      <td>83.816757</td>\n",
       "    </tr>\n",
       "  </tbody>\n",
       "</table>\n",
       "</div>"
      ],
      "text/plain": [
       "                          type  Student ID   budget  Per Student Budget  \\\n",
       "school_name                                                               \n",
       "Bailey High School    District        4976  3124928               628.0   \n",
       "Cabrera High School    Charter        1858  1081356               582.0   \n",
       "Figueroa High School  District        2949  1884411               639.0   \n",
       "Ford High School      District        2739  1763916               644.0   \n",
       "Griffin High School    Charter        1468   917500               625.0   \n",
       "\n",
       "                      math_score  reading_score  \n",
       "school_name                                      \n",
       "Bailey High School     77.048432      81.033963  \n",
       "Cabrera High School    83.061895      83.975780  \n",
       "Figueroa High School   76.711767      81.158020  \n",
       "Ford High School       77.102592      80.746258  \n",
       "Griffin High School    83.351499      83.816757  "
      ]
     },
     "execution_count": 45,
     "metadata": {},
     "output_type": "execute_result"
    }
   ],
   "source": [
    "#Check the current table and add remaining columns \n",
    "data.head()"
   ]
  },
  {
   "cell_type": "code",
   "execution_count": 46,
   "metadata": {},
   "outputs": [],
   "source": [
    "#add the % passing Math \n",
    "# (index, title, series, True to match index)\n",
    "data.insert(6,\"% Passing Math\",percent_math_pass,True)"
   ]
  },
  {
   "cell_type": "code",
   "execution_count": 47,
   "metadata": {},
   "outputs": [
    {
     "data": {
      "text/html": [
       "<div>\n",
       "<style scoped>\n",
       "    .dataframe tbody tr th:only-of-type {\n",
       "        vertical-align: middle;\n",
       "    }\n",
       "\n",
       "    .dataframe tbody tr th {\n",
       "        vertical-align: top;\n",
       "    }\n",
       "\n",
       "    .dataframe thead th {\n",
       "        text-align: right;\n",
       "    }\n",
       "</style>\n",
       "<table border=\"1\" class=\"dataframe\">\n",
       "  <thead>\n",
       "    <tr style=\"text-align: right;\">\n",
       "      <th></th>\n",
       "      <th>type</th>\n",
       "      <th>Student ID</th>\n",
       "      <th>budget</th>\n",
       "      <th>Per Student Budget</th>\n",
       "      <th>math_score</th>\n",
       "      <th>reading_score</th>\n",
       "      <th>% Passing Math</th>\n",
       "    </tr>\n",
       "    <tr>\n",
       "      <th>school_name</th>\n",
       "      <th></th>\n",
       "      <th></th>\n",
       "      <th></th>\n",
       "      <th></th>\n",
       "      <th></th>\n",
       "      <th></th>\n",
       "      <th></th>\n",
       "    </tr>\n",
       "  </thead>\n",
       "  <tbody>\n",
       "    <tr>\n",
       "      <th>Bailey High School</th>\n",
       "      <td>District</td>\n",
       "      <td>4976</td>\n",
       "      <td>3124928</td>\n",
       "      <td>628.0</td>\n",
       "      <td>77.048432</td>\n",
       "      <td>81.033963</td>\n",
       "      <td>66.680064</td>\n",
       "    </tr>\n",
       "  </tbody>\n",
       "</table>\n",
       "</div>"
      ],
      "text/plain": [
       "                        type  Student ID   budget  Per Student Budget  \\\n",
       "school_name                                                             \n",
       "Bailey High School  District        4976  3124928               628.0   \n",
       "\n",
       "                    math_score  reading_score  % Passing Math  \n",
       "school_name                                                    \n",
       "Bailey High School   77.048432      81.033963       66.680064  "
      ]
     },
     "execution_count": 47,
     "metadata": {},
     "output_type": "execute_result"
    }
   ],
   "source": [
    "data.head(1)"
   ]
  },
  {
   "cell_type": "code",
   "execution_count": 48,
   "metadata": {},
   "outputs": [
    {
     "data": {
      "text/html": [
       "<div>\n",
       "<style scoped>\n",
       "    .dataframe tbody tr th:only-of-type {\n",
       "        vertical-align: middle;\n",
       "    }\n",
       "\n",
       "    .dataframe tbody tr th {\n",
       "        vertical-align: top;\n",
       "    }\n",
       "\n",
       "    .dataframe thead th {\n",
       "        text-align: right;\n",
       "    }\n",
       "</style>\n",
       "<table border=\"1\" class=\"dataframe\">\n",
       "  <thead>\n",
       "    <tr style=\"text-align: right;\">\n",
       "      <th></th>\n",
       "      <th>type</th>\n",
       "      <th>Student ID</th>\n",
       "      <th>budget</th>\n",
       "      <th>Per Student Budget</th>\n",
       "      <th>math_score</th>\n",
       "      <th>reading_score</th>\n",
       "      <th>% Passing Math</th>\n",
       "      <th>% Passing Reading</th>\n",
       "    </tr>\n",
       "    <tr>\n",
       "      <th>school_name</th>\n",
       "      <th></th>\n",
       "      <th></th>\n",
       "      <th></th>\n",
       "      <th></th>\n",
       "      <th></th>\n",
       "      <th></th>\n",
       "      <th></th>\n",
       "      <th></th>\n",
       "    </tr>\n",
       "  </thead>\n",
       "  <tbody>\n",
       "    <tr>\n",
       "      <th>Bailey High School</th>\n",
       "      <td>District</td>\n",
       "      <td>4976</td>\n",
       "      <td>3124928</td>\n",
       "      <td>628.0</td>\n",
       "      <td>77.048432</td>\n",
       "      <td>81.033963</td>\n",
       "      <td>66.680064</td>\n",
       "      <td>81.93328</td>\n",
       "    </tr>\n",
       "  </tbody>\n",
       "</table>\n",
       "</div>"
      ],
      "text/plain": [
       "                        type  Student ID   budget  Per Student Budget  \\\n",
       "school_name                                                             \n",
       "Bailey High School  District        4976  3124928               628.0   \n",
       "\n",
       "                    math_score  reading_score  % Passing Math  \\\n",
       "school_name                                                     \n",
       "Bailey High School   77.048432      81.033963       66.680064   \n",
       "\n",
       "                    % Passing Reading  \n",
       "school_name                            \n",
       "Bailey High School           81.93328  "
      ]
     },
     "execution_count": 48,
     "metadata": {},
     "output_type": "execute_result"
    }
   ],
   "source": [
    "#add the % passing Reading\n",
    "data.insert(7,\"% Passing Reading\",percent_reading_pass,True)\n",
    "data.head(1)"
   ]
  },
  {
   "cell_type": "code",
   "execution_count": 49,
   "metadata": {},
   "outputs": [
    {
     "data": {
      "text/html": [
       "<div>\n",
       "<style scoped>\n",
       "    .dataframe tbody tr th:only-of-type {\n",
       "        vertical-align: middle;\n",
       "    }\n",
       "\n",
       "    .dataframe tbody tr th {\n",
       "        vertical-align: top;\n",
       "    }\n",
       "\n",
       "    .dataframe thead th {\n",
       "        text-align: right;\n",
       "    }\n",
       "</style>\n",
       "<table border=\"1\" class=\"dataframe\">\n",
       "  <thead>\n",
       "    <tr style=\"text-align: right;\">\n",
       "      <th></th>\n",
       "      <th>type</th>\n",
       "      <th>Student ID</th>\n",
       "      <th>budget</th>\n",
       "      <th>Per Student Budget</th>\n",
       "      <th>math_score</th>\n",
       "      <th>reading_score</th>\n",
       "      <th>% Passing Math</th>\n",
       "      <th>% Passing Reading</th>\n",
       "      <th>% Overall Passing</th>\n",
       "    </tr>\n",
       "    <tr>\n",
       "      <th>school_name</th>\n",
       "      <th></th>\n",
       "      <th></th>\n",
       "      <th></th>\n",
       "      <th></th>\n",
       "      <th></th>\n",
       "      <th></th>\n",
       "      <th></th>\n",
       "      <th></th>\n",
       "      <th></th>\n",
       "    </tr>\n",
       "  </thead>\n",
       "  <tbody>\n",
       "    <tr>\n",
       "      <th>Bailey High School</th>\n",
       "      <td>District</td>\n",
       "      <td>4976</td>\n",
       "      <td>3124928</td>\n",
       "      <td>628.0</td>\n",
       "      <td>77.048432</td>\n",
       "      <td>81.033963</td>\n",
       "      <td>66.680064</td>\n",
       "      <td>81.93328</td>\n",
       "      <td>54.642283</td>\n",
       "    </tr>\n",
       "  </tbody>\n",
       "</table>\n",
       "</div>"
      ],
      "text/plain": [
       "                        type  Student ID   budget  Per Student Budget  \\\n",
       "school_name                                                             \n",
       "Bailey High School  District        4976  3124928               628.0   \n",
       "\n",
       "                    math_score  reading_score  % Passing Math  \\\n",
       "school_name                                                     \n",
       "Bailey High School   77.048432      81.033963       66.680064   \n",
       "\n",
       "                    % Passing Reading  % Overall Passing  \n",
       "school_name                                               \n",
       "Bailey High School           81.93328          54.642283  "
      ]
     },
     "execution_count": 49,
     "metadata": {},
     "output_type": "execute_result"
    }
   ],
   "source": [
    "#add the % passing overall\n",
    "data.insert(8,\"% Overall Passing\",percent_pass,True)\n",
    "data.head(1)"
   ]
  },
  {
   "cell_type": "code",
   "execution_count": 50,
   "metadata": {},
   "outputs": [
    {
     "data": {
      "text/html": [
       "<div>\n",
       "<style scoped>\n",
       "    .dataframe tbody tr th:only-of-type {\n",
       "        vertical-align: middle;\n",
       "    }\n",
       "\n",
       "    .dataframe tbody tr th {\n",
       "        vertical-align: top;\n",
       "    }\n",
       "\n",
       "    .dataframe thead th {\n",
       "        text-align: right;\n",
       "    }\n",
       "</style>\n",
       "<table border=\"1\" class=\"dataframe\">\n",
       "  <thead>\n",
       "    <tr style=\"text-align: right;\">\n",
       "      <th></th>\n",
       "      <th>type</th>\n",
       "      <th>Student ID</th>\n",
       "      <th>budget</th>\n",
       "      <th>Per Student Budget</th>\n",
       "      <th>math_score</th>\n",
       "      <th>reading_score</th>\n",
       "      <th>% Passing Math</th>\n",
       "      <th>% Passing Reading</th>\n",
       "      <th>% Overall Passing</th>\n",
       "    </tr>\n",
       "    <tr>\n",
       "      <th></th>\n",
       "      <th></th>\n",
       "      <th></th>\n",
       "      <th></th>\n",
       "      <th></th>\n",
       "      <th></th>\n",
       "      <th></th>\n",
       "      <th></th>\n",
       "      <th></th>\n",
       "      <th></th>\n",
       "    </tr>\n",
       "  </thead>\n",
       "  <tbody>\n",
       "    <tr>\n",
       "      <th>Bailey High School</th>\n",
       "      <td>District</td>\n",
       "      <td>4976</td>\n",
       "      <td>3124928</td>\n",
       "      <td>628.0</td>\n",
       "      <td>77.048432</td>\n",
       "      <td>81.033963</td>\n",
       "      <td>66.680064</td>\n",
       "      <td>81.93328</td>\n",
       "      <td>54.642283</td>\n",
       "    </tr>\n",
       "  </tbody>\n",
       "</table>\n",
       "</div>"
      ],
      "text/plain": [
       "                        type  Student ID   budget  Per Student Budget  \\\n",
       "                                                                        \n",
       "Bailey High School  District        4976  3124928               628.0   \n",
       "\n",
       "                    math_score  reading_score  % Passing Math  \\\n",
       "                                                                \n",
       "Bailey High School   77.048432      81.033963       66.680064   \n",
       "\n",
       "                    % Passing Reading  % Overall Passing  \n",
       "                                                          \n",
       "Bailey High School           81.93328          54.642283  "
      ]
     },
     "execution_count": 50,
     "metadata": {},
     "output_type": "execute_result"
    }
   ],
   "source": [
    "#Tidy up the table:\n",
    "#Set the table so that the index has no n\n",
    "data.index.name = ''\n",
    "data.head(1)"
   ]
  },
  {
   "cell_type": "code",
   "execution_count": 51,
   "metadata": {},
   "outputs": [
    {
     "data": {
      "text/html": [
       "<div>\n",
       "<style scoped>\n",
       "    .dataframe tbody tr th:only-of-type {\n",
       "        vertical-align: middle;\n",
       "    }\n",
       "\n",
       "    .dataframe tbody tr th {\n",
       "        vertical-align: top;\n",
       "    }\n",
       "\n",
       "    .dataframe thead th {\n",
       "        text-align: right;\n",
       "    }\n",
       "</style>\n",
       "<table border=\"1\" class=\"dataframe\">\n",
       "  <thead>\n",
       "    <tr style=\"text-align: right;\">\n",
       "      <th></th>\n",
       "      <th>type</th>\n",
       "      <th>Student ID</th>\n",
       "      <th>budget</th>\n",
       "      <th>Per Student Budget</th>\n",
       "      <th>math_score</th>\n",
       "      <th>reading_score</th>\n",
       "      <th>% Passing Math</th>\n",
       "      <th>% Passing Reading</th>\n",
       "      <th>% Overall Passing</th>\n",
       "    </tr>\n",
       "    <tr>\n",
       "      <th></th>\n",
       "      <th></th>\n",
       "      <th></th>\n",
       "      <th></th>\n",
       "      <th></th>\n",
       "      <th></th>\n",
       "      <th></th>\n",
       "      <th></th>\n",
       "      <th></th>\n",
       "      <th></th>\n",
       "    </tr>\n",
       "  </thead>\n",
       "  <tbody>\n",
       "    <tr>\n",
       "      <th>Bailey High School</th>\n",
       "      <td>District</td>\n",
       "      <td>4976</td>\n",
       "      <td>3124928</td>\n",
       "      <td>628.0</td>\n",
       "      <td>77.048432</td>\n",
       "      <td>81.033963</td>\n",
       "      <td>66.680064</td>\n",
       "      <td>81.93328</td>\n",
       "      <td>54.642283</td>\n",
       "    </tr>\n",
       "  </tbody>\n",
       "</table>\n",
       "</div>"
      ],
      "text/plain": [
       "                        type  Student ID   budget  Per Student Budget  \\\n",
       "                                                                        \n",
       "Bailey High School  District        4976  3124928               628.0   \n",
       "\n",
       "                    math_score  reading_score  % Passing Math  \\\n",
       "                                                                \n",
       "Bailey High School   77.048432      81.033963       66.680064   \n",
       "\n",
       "                    % Passing Reading  % Overall Passing  \n",
       "                                                          \n",
       "Bailey High School           81.93328          54.642283  "
      ]
     },
     "execution_count": 51,
     "metadata": {},
     "output_type": "execute_result"
    }
   ],
   "source": [
    "data.head(1)"
   ]
  },
  {
   "cell_type": "code",
   "execution_count": 52,
   "metadata": {},
   "outputs": [],
   "source": [
    "#Rename some of the columns in the table:\n",
    "school_summary = data.rename(columns ={\"type\": \"School Type\",\n",
    "                      \"Student ID\": \"Total Students\",\n",
    "                      \"budget\": \"Total School Budget\",\n",
    "                      \"Per Student Budget\": \"Per Student Budget\",\n",
    "                      \"math_score\": \"Average Math Score\",\n",
    "                      \"reading_score\": \"Average Reading Score\",\n",
    "                                  \n",
    "                      })"
   ]
  },
  {
   "cell_type": "markdown",
   "metadata": {},
   "source": [
    "## School Summary (not formatted):"
   ]
  },
  {
   "cell_type": "code",
   "execution_count": 53,
   "metadata": {},
   "outputs": [
    {
     "data": {
      "text/html": [
       "<div>\n",
       "<style scoped>\n",
       "    .dataframe tbody tr th:only-of-type {\n",
       "        vertical-align: middle;\n",
       "    }\n",
       "\n",
       "    .dataframe tbody tr th {\n",
       "        vertical-align: top;\n",
       "    }\n",
       "\n",
       "    .dataframe thead th {\n",
       "        text-align: right;\n",
       "    }\n",
       "</style>\n",
       "<table border=\"1\" class=\"dataframe\">\n",
       "  <thead>\n",
       "    <tr style=\"text-align: right;\">\n",
       "      <th></th>\n",
       "      <th>School Type</th>\n",
       "      <th>Total Students</th>\n",
       "      <th>Total School Budget</th>\n",
       "      <th>Per Student Budget</th>\n",
       "      <th>Average Math Score</th>\n",
       "      <th>Average Reading Score</th>\n",
       "      <th>% Passing Math</th>\n",
       "      <th>% Passing Reading</th>\n",
       "      <th>% Overall Passing</th>\n",
       "    </tr>\n",
       "    <tr>\n",
       "      <th></th>\n",
       "      <th></th>\n",
       "      <th></th>\n",
       "      <th></th>\n",
       "      <th></th>\n",
       "      <th></th>\n",
       "      <th></th>\n",
       "      <th></th>\n",
       "      <th></th>\n",
       "      <th></th>\n",
       "    </tr>\n",
       "  </thead>\n",
       "  <tbody>\n",
       "    <tr>\n",
       "      <th>Bailey High School</th>\n",
       "      <td>District</td>\n",
       "      <td>4976</td>\n",
       "      <td>3124928</td>\n",
       "      <td>628.0</td>\n",
       "      <td>77.048432</td>\n",
       "      <td>81.033963</td>\n",
       "      <td>66.680064</td>\n",
       "      <td>81.933280</td>\n",
       "      <td>54.642283</td>\n",
       "    </tr>\n",
       "    <tr>\n",
       "      <th>Cabrera High School</th>\n",
       "      <td>Charter</td>\n",
       "      <td>1858</td>\n",
       "      <td>1081356</td>\n",
       "      <td>582.0</td>\n",
       "      <td>83.061895</td>\n",
       "      <td>83.975780</td>\n",
       "      <td>94.133477</td>\n",
       "      <td>97.039828</td>\n",
       "      <td>91.334769</td>\n",
       "    </tr>\n",
       "    <tr>\n",
       "      <th>Figueroa High School</th>\n",
       "      <td>District</td>\n",
       "      <td>2949</td>\n",
       "      <td>1884411</td>\n",
       "      <td>639.0</td>\n",
       "      <td>76.711767</td>\n",
       "      <td>81.158020</td>\n",
       "      <td>65.988471</td>\n",
       "      <td>80.739234</td>\n",
       "      <td>53.204476</td>\n",
       "    </tr>\n",
       "    <tr>\n",
       "      <th>Ford High School</th>\n",
       "      <td>District</td>\n",
       "      <td>2739</td>\n",
       "      <td>1763916</td>\n",
       "      <td>644.0</td>\n",
       "      <td>77.102592</td>\n",
       "      <td>80.746258</td>\n",
       "      <td>68.309602</td>\n",
       "      <td>79.299014</td>\n",
       "      <td>54.289887</td>\n",
       "    </tr>\n",
       "    <tr>\n",
       "      <th>Griffin High School</th>\n",
       "      <td>Charter</td>\n",
       "      <td>1468</td>\n",
       "      <td>917500</td>\n",
       "      <td>625.0</td>\n",
       "      <td>83.351499</td>\n",
       "      <td>83.816757</td>\n",
       "      <td>93.392371</td>\n",
       "      <td>97.138965</td>\n",
       "      <td>90.599455</td>\n",
       "    </tr>\n",
       "    <tr>\n",
       "      <th>Hernandez High School</th>\n",
       "      <td>District</td>\n",
       "      <td>4635</td>\n",
       "      <td>3022020</td>\n",
       "      <td>652.0</td>\n",
       "      <td>77.289752</td>\n",
       "      <td>80.934412</td>\n",
       "      <td>66.752967</td>\n",
       "      <td>80.862999</td>\n",
       "      <td>53.527508</td>\n",
       "    </tr>\n",
       "    <tr>\n",
       "      <th>Holden High School</th>\n",
       "      <td>Charter</td>\n",
       "      <td>427</td>\n",
       "      <td>248087</td>\n",
       "      <td>581.0</td>\n",
       "      <td>83.803279</td>\n",
       "      <td>83.814988</td>\n",
       "      <td>92.505855</td>\n",
       "      <td>96.252927</td>\n",
       "      <td>89.227166</td>\n",
       "    </tr>\n",
       "    <tr>\n",
       "      <th>Huang High School</th>\n",
       "      <td>District</td>\n",
       "      <td>2917</td>\n",
       "      <td>1910635</td>\n",
       "      <td>655.0</td>\n",
       "      <td>76.629414</td>\n",
       "      <td>81.182722</td>\n",
       "      <td>65.683922</td>\n",
       "      <td>81.316421</td>\n",
       "      <td>53.513884</td>\n",
       "    </tr>\n",
       "    <tr>\n",
       "      <th>Johnson High School</th>\n",
       "      <td>District</td>\n",
       "      <td>4761</td>\n",
       "      <td>3094650</td>\n",
       "      <td>650.0</td>\n",
       "      <td>77.072464</td>\n",
       "      <td>80.966394</td>\n",
       "      <td>66.057551</td>\n",
       "      <td>81.222432</td>\n",
       "      <td>53.539172</td>\n",
       "    </tr>\n",
       "    <tr>\n",
       "      <th>Pena High School</th>\n",
       "      <td>Charter</td>\n",
       "      <td>962</td>\n",
       "      <td>585858</td>\n",
       "      <td>609.0</td>\n",
       "      <td>83.839917</td>\n",
       "      <td>84.044699</td>\n",
       "      <td>94.594595</td>\n",
       "      <td>95.945946</td>\n",
       "      <td>90.540541</td>\n",
       "    </tr>\n",
       "    <tr>\n",
       "      <th>Rodriguez High School</th>\n",
       "      <td>District</td>\n",
       "      <td>3999</td>\n",
       "      <td>2547363</td>\n",
       "      <td>637.0</td>\n",
       "      <td>76.842711</td>\n",
       "      <td>80.744686</td>\n",
       "      <td>66.366592</td>\n",
       "      <td>80.220055</td>\n",
       "      <td>52.988247</td>\n",
       "    </tr>\n",
       "    <tr>\n",
       "      <th>Shelton High School</th>\n",
       "      <td>Charter</td>\n",
       "      <td>1761</td>\n",
       "      <td>1056600</td>\n",
       "      <td>600.0</td>\n",
       "      <td>83.359455</td>\n",
       "      <td>83.725724</td>\n",
       "      <td>93.867121</td>\n",
       "      <td>95.854628</td>\n",
       "      <td>89.892107</td>\n",
       "    </tr>\n",
       "    <tr>\n",
       "      <th>Thomas High School</th>\n",
       "      <td>Charter</td>\n",
       "      <td>1635</td>\n",
       "      <td>1043130</td>\n",
       "      <td>638.0</td>\n",
       "      <td>83.418349</td>\n",
       "      <td>83.848930</td>\n",
       "      <td>93.272171</td>\n",
       "      <td>97.308869</td>\n",
       "      <td>90.948012</td>\n",
       "    </tr>\n",
       "    <tr>\n",
       "      <th>Wilson High School</th>\n",
       "      <td>Charter</td>\n",
       "      <td>2283</td>\n",
       "      <td>1319574</td>\n",
       "      <td>578.0</td>\n",
       "      <td>83.274201</td>\n",
       "      <td>83.989488</td>\n",
       "      <td>93.867718</td>\n",
       "      <td>96.539641</td>\n",
       "      <td>90.582567</td>\n",
       "    </tr>\n",
       "    <tr>\n",
       "      <th>Wright High School</th>\n",
       "      <td>Charter</td>\n",
       "      <td>1800</td>\n",
       "      <td>1049400</td>\n",
       "      <td>583.0</td>\n",
       "      <td>83.682222</td>\n",
       "      <td>83.955000</td>\n",
       "      <td>93.333333</td>\n",
       "      <td>96.611111</td>\n",
       "      <td>90.333333</td>\n",
       "    </tr>\n",
       "  </tbody>\n",
       "</table>\n",
       "</div>"
      ],
      "text/plain": [
       "                      School Type  Total Students  Total School Budget  \\\n",
       "                                                                         \n",
       "Bailey High School       District            4976              3124928   \n",
       "Cabrera High School       Charter            1858              1081356   \n",
       "Figueroa High School     District            2949              1884411   \n",
       "Ford High School         District            2739              1763916   \n",
       "Griffin High School       Charter            1468               917500   \n",
       "Hernandez High School    District            4635              3022020   \n",
       "Holden High School        Charter             427               248087   \n",
       "Huang High School        District            2917              1910635   \n",
       "Johnson High School      District            4761              3094650   \n",
       "Pena High School          Charter             962               585858   \n",
       "Rodriguez High School    District            3999              2547363   \n",
       "Shelton High School       Charter            1761              1056600   \n",
       "Thomas High School        Charter            1635              1043130   \n",
       "Wilson High School        Charter            2283              1319574   \n",
       "Wright High School        Charter            1800              1049400   \n",
       "\n",
       "                       Per Student Budget  Average Math Score  \\\n",
       "                                                                \n",
       "Bailey High School                  628.0           77.048432   \n",
       "Cabrera High School                 582.0           83.061895   \n",
       "Figueroa High School                639.0           76.711767   \n",
       "Ford High School                    644.0           77.102592   \n",
       "Griffin High School                 625.0           83.351499   \n",
       "Hernandez High School               652.0           77.289752   \n",
       "Holden High School                  581.0           83.803279   \n",
       "Huang High School                   655.0           76.629414   \n",
       "Johnson High School                 650.0           77.072464   \n",
       "Pena High School                    609.0           83.839917   \n",
       "Rodriguez High School               637.0           76.842711   \n",
       "Shelton High School                 600.0           83.359455   \n",
       "Thomas High School                  638.0           83.418349   \n",
       "Wilson High School                  578.0           83.274201   \n",
       "Wright High School                  583.0           83.682222   \n",
       "\n",
       "                       Average Reading Score  % Passing Math  \\\n",
       "                                                               \n",
       "Bailey High School                 81.033963       66.680064   \n",
       "Cabrera High School                83.975780       94.133477   \n",
       "Figueroa High School               81.158020       65.988471   \n",
       "Ford High School                   80.746258       68.309602   \n",
       "Griffin High School                83.816757       93.392371   \n",
       "Hernandez High School              80.934412       66.752967   \n",
       "Holden High School                 83.814988       92.505855   \n",
       "Huang High School                  81.182722       65.683922   \n",
       "Johnson High School                80.966394       66.057551   \n",
       "Pena High School                   84.044699       94.594595   \n",
       "Rodriguez High School              80.744686       66.366592   \n",
       "Shelton High School                83.725724       93.867121   \n",
       "Thomas High School                 83.848930       93.272171   \n",
       "Wilson High School                 83.989488       93.867718   \n",
       "Wright High School                 83.955000       93.333333   \n",
       "\n",
       "                       % Passing Reading  % Overall Passing  \n",
       "                                                             \n",
       "Bailey High School             81.933280          54.642283  \n",
       "Cabrera High School            97.039828          91.334769  \n",
       "Figueroa High School           80.739234          53.204476  \n",
       "Ford High School               79.299014          54.289887  \n",
       "Griffin High School            97.138965          90.599455  \n",
       "Hernandez High School          80.862999          53.527508  \n",
       "Holden High School             96.252927          89.227166  \n",
       "Huang High School              81.316421          53.513884  \n",
       "Johnson High School            81.222432          53.539172  \n",
       "Pena High School               95.945946          90.540541  \n",
       "Rodriguez High School          80.220055          52.988247  \n",
       "Shelton High School            95.854628          89.892107  \n",
       "Thomas High School             97.308869          90.948012  \n",
       "Wilson High School             96.539641          90.582567  \n",
       "Wright High School             96.611111          90.333333  "
      ]
     },
     "execution_count": 53,
     "metadata": {},
     "output_type": "execute_result"
    }
   ],
   "source": [
    "school_summary"
   ]
  },
  {
   "cell_type": "code",
   "execution_count": 54,
   "metadata": {},
   "outputs": [],
   "source": [
    "# Format the table School Summary Table: (using a separate format, as well taking a copy)\n",
    "f_school_summary= school_summary.copy()"
   ]
  },
  {
   "cell_type": "markdown",
   "metadata": {},
   "source": [
    "## School Summary (formatted):"
   ]
  },
  {
   "cell_type": "code",
   "execution_count": 55,
   "metadata": {},
   "outputs": [
    {
     "data": {
      "text/html": [
       "<style  type=\"text/css\" >\n",
       "</style><table id=\"T_8db5d06a_1402_11ec_aa00_1e007914d071\" ><thead>    <tr>        <th class=\"blank level0\" ></th>        <th class=\"col_heading level0 col0\" >School Type</th>        <th class=\"col_heading level0 col1\" >Total Students</th>        <th class=\"col_heading level0 col2\" >Total School Budget</th>        <th class=\"col_heading level0 col3\" >Per Student Budget</th>        <th class=\"col_heading level0 col4\" >Average Math Score</th>        <th class=\"col_heading level0 col5\" >Average Reading Score</th>        <th class=\"col_heading level0 col6\" >% Passing Math</th>        <th class=\"col_heading level0 col7\" >% Passing Reading</th>        <th class=\"col_heading level0 col8\" >% Overall Passing</th>    </tr>    <tr>        <th class=\"index_name level0\" ></th>        <th class=\"blank\" ></th>        <th class=\"blank\" ></th>        <th class=\"blank\" ></th>        <th class=\"blank\" ></th>        <th class=\"blank\" ></th>        <th class=\"blank\" ></th>        <th class=\"blank\" ></th>        <th class=\"blank\" ></th>        <th class=\"blank\" ></th>    </tr></thead><tbody>\n",
       "                <tr>\n",
       "                        <th id=\"T_8db5d06a_1402_11ec_aa00_1e007914d071level0_row0\" class=\"row_heading level0 row0\" >Bailey High School</th>\n",
       "                        <td id=\"T_8db5d06a_1402_11ec_aa00_1e007914d071row0_col0\" class=\"data row0 col0\" >District</td>\n",
       "                        <td id=\"T_8db5d06a_1402_11ec_aa00_1e007914d071row0_col1\" class=\"data row0 col1\" >4,976</td>\n",
       "                        <td id=\"T_8db5d06a_1402_11ec_aa00_1e007914d071row0_col2\" class=\"data row0 col2\" >$3,124,928.00</td>\n",
       "                        <td id=\"T_8db5d06a_1402_11ec_aa00_1e007914d071row0_col3\" class=\"data row0 col3\" >$628.00</td>\n",
       "                        <td id=\"T_8db5d06a_1402_11ec_aa00_1e007914d071row0_col4\" class=\"data row0 col4\" >77.05</td>\n",
       "                        <td id=\"T_8db5d06a_1402_11ec_aa00_1e007914d071row0_col5\" class=\"data row0 col5\" >81.03</td>\n",
       "                        <td id=\"T_8db5d06a_1402_11ec_aa00_1e007914d071row0_col6\" class=\"data row0 col6\" >66.68%</td>\n",
       "                        <td id=\"T_8db5d06a_1402_11ec_aa00_1e007914d071row0_col7\" class=\"data row0 col7\" >81.93%</td>\n",
       "                        <td id=\"T_8db5d06a_1402_11ec_aa00_1e007914d071row0_col8\" class=\"data row0 col8\" >54.64%</td>\n",
       "            </tr>\n",
       "            <tr>\n",
       "                        <th id=\"T_8db5d06a_1402_11ec_aa00_1e007914d071level0_row1\" class=\"row_heading level0 row1\" >Cabrera High School</th>\n",
       "                        <td id=\"T_8db5d06a_1402_11ec_aa00_1e007914d071row1_col0\" class=\"data row1 col0\" >Charter</td>\n",
       "                        <td id=\"T_8db5d06a_1402_11ec_aa00_1e007914d071row1_col1\" class=\"data row1 col1\" >1,858</td>\n",
       "                        <td id=\"T_8db5d06a_1402_11ec_aa00_1e007914d071row1_col2\" class=\"data row1 col2\" >$1,081,356.00</td>\n",
       "                        <td id=\"T_8db5d06a_1402_11ec_aa00_1e007914d071row1_col3\" class=\"data row1 col3\" >$582.00</td>\n",
       "                        <td id=\"T_8db5d06a_1402_11ec_aa00_1e007914d071row1_col4\" class=\"data row1 col4\" >83.06</td>\n",
       "                        <td id=\"T_8db5d06a_1402_11ec_aa00_1e007914d071row1_col5\" class=\"data row1 col5\" >83.98</td>\n",
       "                        <td id=\"T_8db5d06a_1402_11ec_aa00_1e007914d071row1_col6\" class=\"data row1 col6\" >94.13%</td>\n",
       "                        <td id=\"T_8db5d06a_1402_11ec_aa00_1e007914d071row1_col7\" class=\"data row1 col7\" >97.04%</td>\n",
       "                        <td id=\"T_8db5d06a_1402_11ec_aa00_1e007914d071row1_col8\" class=\"data row1 col8\" >91.33%</td>\n",
       "            </tr>\n",
       "            <tr>\n",
       "                        <th id=\"T_8db5d06a_1402_11ec_aa00_1e007914d071level0_row2\" class=\"row_heading level0 row2\" >Figueroa High School</th>\n",
       "                        <td id=\"T_8db5d06a_1402_11ec_aa00_1e007914d071row2_col0\" class=\"data row2 col0\" >District</td>\n",
       "                        <td id=\"T_8db5d06a_1402_11ec_aa00_1e007914d071row2_col1\" class=\"data row2 col1\" >2,949</td>\n",
       "                        <td id=\"T_8db5d06a_1402_11ec_aa00_1e007914d071row2_col2\" class=\"data row2 col2\" >$1,884,411.00</td>\n",
       "                        <td id=\"T_8db5d06a_1402_11ec_aa00_1e007914d071row2_col3\" class=\"data row2 col3\" >$639.00</td>\n",
       "                        <td id=\"T_8db5d06a_1402_11ec_aa00_1e007914d071row2_col4\" class=\"data row2 col4\" >76.71</td>\n",
       "                        <td id=\"T_8db5d06a_1402_11ec_aa00_1e007914d071row2_col5\" class=\"data row2 col5\" >81.16</td>\n",
       "                        <td id=\"T_8db5d06a_1402_11ec_aa00_1e007914d071row2_col6\" class=\"data row2 col6\" >65.99%</td>\n",
       "                        <td id=\"T_8db5d06a_1402_11ec_aa00_1e007914d071row2_col7\" class=\"data row2 col7\" >80.74%</td>\n",
       "                        <td id=\"T_8db5d06a_1402_11ec_aa00_1e007914d071row2_col8\" class=\"data row2 col8\" >53.20%</td>\n",
       "            </tr>\n",
       "            <tr>\n",
       "                        <th id=\"T_8db5d06a_1402_11ec_aa00_1e007914d071level0_row3\" class=\"row_heading level0 row3\" >Ford High School</th>\n",
       "                        <td id=\"T_8db5d06a_1402_11ec_aa00_1e007914d071row3_col0\" class=\"data row3 col0\" >District</td>\n",
       "                        <td id=\"T_8db5d06a_1402_11ec_aa00_1e007914d071row3_col1\" class=\"data row3 col1\" >2,739</td>\n",
       "                        <td id=\"T_8db5d06a_1402_11ec_aa00_1e007914d071row3_col2\" class=\"data row3 col2\" >$1,763,916.00</td>\n",
       "                        <td id=\"T_8db5d06a_1402_11ec_aa00_1e007914d071row3_col3\" class=\"data row3 col3\" >$644.00</td>\n",
       "                        <td id=\"T_8db5d06a_1402_11ec_aa00_1e007914d071row3_col4\" class=\"data row3 col4\" >77.10</td>\n",
       "                        <td id=\"T_8db5d06a_1402_11ec_aa00_1e007914d071row3_col5\" class=\"data row3 col5\" >80.75</td>\n",
       "                        <td id=\"T_8db5d06a_1402_11ec_aa00_1e007914d071row3_col6\" class=\"data row3 col6\" >68.31%</td>\n",
       "                        <td id=\"T_8db5d06a_1402_11ec_aa00_1e007914d071row3_col7\" class=\"data row3 col7\" >79.30%</td>\n",
       "                        <td id=\"T_8db5d06a_1402_11ec_aa00_1e007914d071row3_col8\" class=\"data row3 col8\" >54.29%</td>\n",
       "            </tr>\n",
       "            <tr>\n",
       "                        <th id=\"T_8db5d06a_1402_11ec_aa00_1e007914d071level0_row4\" class=\"row_heading level0 row4\" >Griffin High School</th>\n",
       "                        <td id=\"T_8db5d06a_1402_11ec_aa00_1e007914d071row4_col0\" class=\"data row4 col0\" >Charter</td>\n",
       "                        <td id=\"T_8db5d06a_1402_11ec_aa00_1e007914d071row4_col1\" class=\"data row4 col1\" >1,468</td>\n",
       "                        <td id=\"T_8db5d06a_1402_11ec_aa00_1e007914d071row4_col2\" class=\"data row4 col2\" >$917,500.00</td>\n",
       "                        <td id=\"T_8db5d06a_1402_11ec_aa00_1e007914d071row4_col3\" class=\"data row4 col3\" >$625.00</td>\n",
       "                        <td id=\"T_8db5d06a_1402_11ec_aa00_1e007914d071row4_col4\" class=\"data row4 col4\" >83.35</td>\n",
       "                        <td id=\"T_8db5d06a_1402_11ec_aa00_1e007914d071row4_col5\" class=\"data row4 col5\" >83.82</td>\n",
       "                        <td id=\"T_8db5d06a_1402_11ec_aa00_1e007914d071row4_col6\" class=\"data row4 col6\" >93.39%</td>\n",
       "                        <td id=\"T_8db5d06a_1402_11ec_aa00_1e007914d071row4_col7\" class=\"data row4 col7\" >97.14%</td>\n",
       "                        <td id=\"T_8db5d06a_1402_11ec_aa00_1e007914d071row4_col8\" class=\"data row4 col8\" >90.60%</td>\n",
       "            </tr>\n",
       "            <tr>\n",
       "                        <th id=\"T_8db5d06a_1402_11ec_aa00_1e007914d071level0_row5\" class=\"row_heading level0 row5\" >Hernandez High School</th>\n",
       "                        <td id=\"T_8db5d06a_1402_11ec_aa00_1e007914d071row5_col0\" class=\"data row5 col0\" >District</td>\n",
       "                        <td id=\"T_8db5d06a_1402_11ec_aa00_1e007914d071row5_col1\" class=\"data row5 col1\" >4,635</td>\n",
       "                        <td id=\"T_8db5d06a_1402_11ec_aa00_1e007914d071row5_col2\" class=\"data row5 col2\" >$3,022,020.00</td>\n",
       "                        <td id=\"T_8db5d06a_1402_11ec_aa00_1e007914d071row5_col3\" class=\"data row5 col3\" >$652.00</td>\n",
       "                        <td id=\"T_8db5d06a_1402_11ec_aa00_1e007914d071row5_col4\" class=\"data row5 col4\" >77.29</td>\n",
       "                        <td id=\"T_8db5d06a_1402_11ec_aa00_1e007914d071row5_col5\" class=\"data row5 col5\" >80.93</td>\n",
       "                        <td id=\"T_8db5d06a_1402_11ec_aa00_1e007914d071row5_col6\" class=\"data row5 col6\" >66.75%</td>\n",
       "                        <td id=\"T_8db5d06a_1402_11ec_aa00_1e007914d071row5_col7\" class=\"data row5 col7\" >80.86%</td>\n",
       "                        <td id=\"T_8db5d06a_1402_11ec_aa00_1e007914d071row5_col8\" class=\"data row5 col8\" >53.53%</td>\n",
       "            </tr>\n",
       "            <tr>\n",
       "                        <th id=\"T_8db5d06a_1402_11ec_aa00_1e007914d071level0_row6\" class=\"row_heading level0 row6\" >Holden High School</th>\n",
       "                        <td id=\"T_8db5d06a_1402_11ec_aa00_1e007914d071row6_col0\" class=\"data row6 col0\" >Charter</td>\n",
       "                        <td id=\"T_8db5d06a_1402_11ec_aa00_1e007914d071row6_col1\" class=\"data row6 col1\" >427</td>\n",
       "                        <td id=\"T_8db5d06a_1402_11ec_aa00_1e007914d071row6_col2\" class=\"data row6 col2\" >$248,087.00</td>\n",
       "                        <td id=\"T_8db5d06a_1402_11ec_aa00_1e007914d071row6_col3\" class=\"data row6 col3\" >$581.00</td>\n",
       "                        <td id=\"T_8db5d06a_1402_11ec_aa00_1e007914d071row6_col4\" class=\"data row6 col4\" >83.80</td>\n",
       "                        <td id=\"T_8db5d06a_1402_11ec_aa00_1e007914d071row6_col5\" class=\"data row6 col5\" >83.81</td>\n",
       "                        <td id=\"T_8db5d06a_1402_11ec_aa00_1e007914d071row6_col6\" class=\"data row6 col6\" >92.51%</td>\n",
       "                        <td id=\"T_8db5d06a_1402_11ec_aa00_1e007914d071row6_col7\" class=\"data row6 col7\" >96.25%</td>\n",
       "                        <td id=\"T_8db5d06a_1402_11ec_aa00_1e007914d071row6_col8\" class=\"data row6 col8\" >89.23%</td>\n",
       "            </tr>\n",
       "            <tr>\n",
       "                        <th id=\"T_8db5d06a_1402_11ec_aa00_1e007914d071level0_row7\" class=\"row_heading level0 row7\" >Huang High School</th>\n",
       "                        <td id=\"T_8db5d06a_1402_11ec_aa00_1e007914d071row7_col0\" class=\"data row7 col0\" >District</td>\n",
       "                        <td id=\"T_8db5d06a_1402_11ec_aa00_1e007914d071row7_col1\" class=\"data row7 col1\" >2,917</td>\n",
       "                        <td id=\"T_8db5d06a_1402_11ec_aa00_1e007914d071row7_col2\" class=\"data row7 col2\" >$1,910,635.00</td>\n",
       "                        <td id=\"T_8db5d06a_1402_11ec_aa00_1e007914d071row7_col3\" class=\"data row7 col3\" >$655.00</td>\n",
       "                        <td id=\"T_8db5d06a_1402_11ec_aa00_1e007914d071row7_col4\" class=\"data row7 col4\" >76.63</td>\n",
       "                        <td id=\"T_8db5d06a_1402_11ec_aa00_1e007914d071row7_col5\" class=\"data row7 col5\" >81.18</td>\n",
       "                        <td id=\"T_8db5d06a_1402_11ec_aa00_1e007914d071row7_col6\" class=\"data row7 col6\" >65.68%</td>\n",
       "                        <td id=\"T_8db5d06a_1402_11ec_aa00_1e007914d071row7_col7\" class=\"data row7 col7\" >81.32%</td>\n",
       "                        <td id=\"T_8db5d06a_1402_11ec_aa00_1e007914d071row7_col8\" class=\"data row7 col8\" >53.51%</td>\n",
       "            </tr>\n",
       "            <tr>\n",
       "                        <th id=\"T_8db5d06a_1402_11ec_aa00_1e007914d071level0_row8\" class=\"row_heading level0 row8\" >Johnson High School</th>\n",
       "                        <td id=\"T_8db5d06a_1402_11ec_aa00_1e007914d071row8_col0\" class=\"data row8 col0\" >District</td>\n",
       "                        <td id=\"T_8db5d06a_1402_11ec_aa00_1e007914d071row8_col1\" class=\"data row8 col1\" >4,761</td>\n",
       "                        <td id=\"T_8db5d06a_1402_11ec_aa00_1e007914d071row8_col2\" class=\"data row8 col2\" >$3,094,650.00</td>\n",
       "                        <td id=\"T_8db5d06a_1402_11ec_aa00_1e007914d071row8_col3\" class=\"data row8 col3\" >$650.00</td>\n",
       "                        <td id=\"T_8db5d06a_1402_11ec_aa00_1e007914d071row8_col4\" class=\"data row8 col4\" >77.07</td>\n",
       "                        <td id=\"T_8db5d06a_1402_11ec_aa00_1e007914d071row8_col5\" class=\"data row8 col5\" >80.97</td>\n",
       "                        <td id=\"T_8db5d06a_1402_11ec_aa00_1e007914d071row8_col6\" class=\"data row8 col6\" >66.06%</td>\n",
       "                        <td id=\"T_8db5d06a_1402_11ec_aa00_1e007914d071row8_col7\" class=\"data row8 col7\" >81.22%</td>\n",
       "                        <td id=\"T_8db5d06a_1402_11ec_aa00_1e007914d071row8_col8\" class=\"data row8 col8\" >53.54%</td>\n",
       "            </tr>\n",
       "            <tr>\n",
       "                        <th id=\"T_8db5d06a_1402_11ec_aa00_1e007914d071level0_row9\" class=\"row_heading level0 row9\" >Pena High School</th>\n",
       "                        <td id=\"T_8db5d06a_1402_11ec_aa00_1e007914d071row9_col0\" class=\"data row9 col0\" >Charter</td>\n",
       "                        <td id=\"T_8db5d06a_1402_11ec_aa00_1e007914d071row9_col1\" class=\"data row9 col1\" >962</td>\n",
       "                        <td id=\"T_8db5d06a_1402_11ec_aa00_1e007914d071row9_col2\" class=\"data row9 col2\" >$585,858.00</td>\n",
       "                        <td id=\"T_8db5d06a_1402_11ec_aa00_1e007914d071row9_col3\" class=\"data row9 col3\" >$609.00</td>\n",
       "                        <td id=\"T_8db5d06a_1402_11ec_aa00_1e007914d071row9_col4\" class=\"data row9 col4\" >83.84</td>\n",
       "                        <td id=\"T_8db5d06a_1402_11ec_aa00_1e007914d071row9_col5\" class=\"data row9 col5\" >84.04</td>\n",
       "                        <td id=\"T_8db5d06a_1402_11ec_aa00_1e007914d071row9_col6\" class=\"data row9 col6\" >94.59%</td>\n",
       "                        <td id=\"T_8db5d06a_1402_11ec_aa00_1e007914d071row9_col7\" class=\"data row9 col7\" >95.95%</td>\n",
       "                        <td id=\"T_8db5d06a_1402_11ec_aa00_1e007914d071row9_col8\" class=\"data row9 col8\" >90.54%</td>\n",
       "            </tr>\n",
       "            <tr>\n",
       "                        <th id=\"T_8db5d06a_1402_11ec_aa00_1e007914d071level0_row10\" class=\"row_heading level0 row10\" >Rodriguez High School</th>\n",
       "                        <td id=\"T_8db5d06a_1402_11ec_aa00_1e007914d071row10_col0\" class=\"data row10 col0\" >District</td>\n",
       "                        <td id=\"T_8db5d06a_1402_11ec_aa00_1e007914d071row10_col1\" class=\"data row10 col1\" >3,999</td>\n",
       "                        <td id=\"T_8db5d06a_1402_11ec_aa00_1e007914d071row10_col2\" class=\"data row10 col2\" >$2,547,363.00</td>\n",
       "                        <td id=\"T_8db5d06a_1402_11ec_aa00_1e007914d071row10_col3\" class=\"data row10 col3\" >$637.00</td>\n",
       "                        <td id=\"T_8db5d06a_1402_11ec_aa00_1e007914d071row10_col4\" class=\"data row10 col4\" >76.84</td>\n",
       "                        <td id=\"T_8db5d06a_1402_11ec_aa00_1e007914d071row10_col5\" class=\"data row10 col5\" >80.74</td>\n",
       "                        <td id=\"T_8db5d06a_1402_11ec_aa00_1e007914d071row10_col6\" class=\"data row10 col6\" >66.37%</td>\n",
       "                        <td id=\"T_8db5d06a_1402_11ec_aa00_1e007914d071row10_col7\" class=\"data row10 col7\" >80.22%</td>\n",
       "                        <td id=\"T_8db5d06a_1402_11ec_aa00_1e007914d071row10_col8\" class=\"data row10 col8\" >52.99%</td>\n",
       "            </tr>\n",
       "            <tr>\n",
       "                        <th id=\"T_8db5d06a_1402_11ec_aa00_1e007914d071level0_row11\" class=\"row_heading level0 row11\" >Shelton High School</th>\n",
       "                        <td id=\"T_8db5d06a_1402_11ec_aa00_1e007914d071row11_col0\" class=\"data row11 col0\" >Charter</td>\n",
       "                        <td id=\"T_8db5d06a_1402_11ec_aa00_1e007914d071row11_col1\" class=\"data row11 col1\" >1,761</td>\n",
       "                        <td id=\"T_8db5d06a_1402_11ec_aa00_1e007914d071row11_col2\" class=\"data row11 col2\" >$1,056,600.00</td>\n",
       "                        <td id=\"T_8db5d06a_1402_11ec_aa00_1e007914d071row11_col3\" class=\"data row11 col3\" >$600.00</td>\n",
       "                        <td id=\"T_8db5d06a_1402_11ec_aa00_1e007914d071row11_col4\" class=\"data row11 col4\" >83.36</td>\n",
       "                        <td id=\"T_8db5d06a_1402_11ec_aa00_1e007914d071row11_col5\" class=\"data row11 col5\" >83.73</td>\n",
       "                        <td id=\"T_8db5d06a_1402_11ec_aa00_1e007914d071row11_col6\" class=\"data row11 col6\" >93.87%</td>\n",
       "                        <td id=\"T_8db5d06a_1402_11ec_aa00_1e007914d071row11_col7\" class=\"data row11 col7\" >95.85%</td>\n",
       "                        <td id=\"T_8db5d06a_1402_11ec_aa00_1e007914d071row11_col8\" class=\"data row11 col8\" >89.89%</td>\n",
       "            </tr>\n",
       "            <tr>\n",
       "                        <th id=\"T_8db5d06a_1402_11ec_aa00_1e007914d071level0_row12\" class=\"row_heading level0 row12\" >Thomas High School</th>\n",
       "                        <td id=\"T_8db5d06a_1402_11ec_aa00_1e007914d071row12_col0\" class=\"data row12 col0\" >Charter</td>\n",
       "                        <td id=\"T_8db5d06a_1402_11ec_aa00_1e007914d071row12_col1\" class=\"data row12 col1\" >1,635</td>\n",
       "                        <td id=\"T_8db5d06a_1402_11ec_aa00_1e007914d071row12_col2\" class=\"data row12 col2\" >$1,043,130.00</td>\n",
       "                        <td id=\"T_8db5d06a_1402_11ec_aa00_1e007914d071row12_col3\" class=\"data row12 col3\" >$638.00</td>\n",
       "                        <td id=\"T_8db5d06a_1402_11ec_aa00_1e007914d071row12_col4\" class=\"data row12 col4\" >83.42</td>\n",
       "                        <td id=\"T_8db5d06a_1402_11ec_aa00_1e007914d071row12_col5\" class=\"data row12 col5\" >83.85</td>\n",
       "                        <td id=\"T_8db5d06a_1402_11ec_aa00_1e007914d071row12_col6\" class=\"data row12 col6\" >93.27%</td>\n",
       "                        <td id=\"T_8db5d06a_1402_11ec_aa00_1e007914d071row12_col7\" class=\"data row12 col7\" >97.31%</td>\n",
       "                        <td id=\"T_8db5d06a_1402_11ec_aa00_1e007914d071row12_col8\" class=\"data row12 col8\" >90.95%</td>\n",
       "            </tr>\n",
       "            <tr>\n",
       "                        <th id=\"T_8db5d06a_1402_11ec_aa00_1e007914d071level0_row13\" class=\"row_heading level0 row13\" >Wilson High School</th>\n",
       "                        <td id=\"T_8db5d06a_1402_11ec_aa00_1e007914d071row13_col0\" class=\"data row13 col0\" >Charter</td>\n",
       "                        <td id=\"T_8db5d06a_1402_11ec_aa00_1e007914d071row13_col1\" class=\"data row13 col1\" >2,283</td>\n",
       "                        <td id=\"T_8db5d06a_1402_11ec_aa00_1e007914d071row13_col2\" class=\"data row13 col2\" >$1,319,574.00</td>\n",
       "                        <td id=\"T_8db5d06a_1402_11ec_aa00_1e007914d071row13_col3\" class=\"data row13 col3\" >$578.00</td>\n",
       "                        <td id=\"T_8db5d06a_1402_11ec_aa00_1e007914d071row13_col4\" class=\"data row13 col4\" >83.27</td>\n",
       "                        <td id=\"T_8db5d06a_1402_11ec_aa00_1e007914d071row13_col5\" class=\"data row13 col5\" >83.99</td>\n",
       "                        <td id=\"T_8db5d06a_1402_11ec_aa00_1e007914d071row13_col6\" class=\"data row13 col6\" >93.87%</td>\n",
       "                        <td id=\"T_8db5d06a_1402_11ec_aa00_1e007914d071row13_col7\" class=\"data row13 col7\" >96.54%</td>\n",
       "                        <td id=\"T_8db5d06a_1402_11ec_aa00_1e007914d071row13_col8\" class=\"data row13 col8\" >90.58%</td>\n",
       "            </tr>\n",
       "            <tr>\n",
       "                        <th id=\"T_8db5d06a_1402_11ec_aa00_1e007914d071level0_row14\" class=\"row_heading level0 row14\" >Wright High School</th>\n",
       "                        <td id=\"T_8db5d06a_1402_11ec_aa00_1e007914d071row14_col0\" class=\"data row14 col0\" >Charter</td>\n",
       "                        <td id=\"T_8db5d06a_1402_11ec_aa00_1e007914d071row14_col1\" class=\"data row14 col1\" >1,800</td>\n",
       "                        <td id=\"T_8db5d06a_1402_11ec_aa00_1e007914d071row14_col2\" class=\"data row14 col2\" >$1,049,400.00</td>\n",
       "                        <td id=\"T_8db5d06a_1402_11ec_aa00_1e007914d071row14_col3\" class=\"data row14 col3\" >$583.00</td>\n",
       "                        <td id=\"T_8db5d06a_1402_11ec_aa00_1e007914d071row14_col4\" class=\"data row14 col4\" >83.68</td>\n",
       "                        <td id=\"T_8db5d06a_1402_11ec_aa00_1e007914d071row14_col5\" class=\"data row14 col5\" >83.95</td>\n",
       "                        <td id=\"T_8db5d06a_1402_11ec_aa00_1e007914d071row14_col6\" class=\"data row14 col6\" >93.33%</td>\n",
       "                        <td id=\"T_8db5d06a_1402_11ec_aa00_1e007914d071row14_col7\" class=\"data row14 col7\" >96.61%</td>\n",
       "                        <td id=\"T_8db5d06a_1402_11ec_aa00_1e007914d071row14_col8\" class=\"data row14 col8\" >90.33%</td>\n",
       "            </tr>\n",
       "    </tbody></table>"
      ],
      "text/plain": [
       "<pandas.io.formats.style.Styler at 0x7f7f21964e20>"
      ]
     },
     "execution_count": 55,
     "metadata": {},
     "output_type": "execute_result"
    }
   ],
   "source": [
    "#Formatting the columns\n",
    "f_school_summary.style.format({\n",
    "                          \"Total Students\": '{:,}', \n",
    "                          \"Total School Budget\": \"${:,.2f}\", \n",
    "                          \"Per Student Budget\": \"${:.2f}\",\n",
    "                          'Average Math Score': \"{:.2f}\", \n",
    "                          'Average Reading Score': \"{:.2f}\", \n",
    "                          \"% Passing Math\": \"{:.2f}%\", \n",
    "                          \"% Passing Reading\": \"{:.2f}%\", \n",
    "                          \"% Overall Passing\": \"{:.2f}%\"})\n",
    "    \n"
   ]
  },
  {
   "cell_type": "markdown",
   "metadata": {},
   "source": [
    "## Top Performing Schools (By % Overall Passing)"
   ]
  },
  {
   "cell_type": "markdown",
   "metadata": {},
   "source": [
    "* Sort and display the top five performing schools by % overall passing."
   ]
  },
  {
   "cell_type": "code",
   "execution_count": 56,
   "metadata": {
    "scrolled": true
   },
   "outputs": [
    {
     "data": {
      "text/html": [
       "<style  type=\"text/css\" >\n",
       "</style><table id=\"T_8db74bb6_1402_11ec_aa00_1e007914d071\" ><thead>    <tr>        <th class=\"blank level0\" ></th>        <th class=\"col_heading level0 col0\" >School Type</th>        <th class=\"col_heading level0 col1\" >Total Students</th>        <th class=\"col_heading level0 col2\" >Total School Budget</th>        <th class=\"col_heading level0 col3\" >Per Student Budget</th>        <th class=\"col_heading level0 col4\" >Average Math Score</th>        <th class=\"col_heading level0 col5\" >Average Reading Score</th>        <th class=\"col_heading level0 col6\" >% Passing Math</th>        <th class=\"col_heading level0 col7\" >% Passing Reading</th>        <th class=\"col_heading level0 col8\" >% Overall Passing</th>    </tr>    <tr>        <th class=\"index_name level0\" ></th>        <th class=\"blank\" ></th>        <th class=\"blank\" ></th>        <th class=\"blank\" ></th>        <th class=\"blank\" ></th>        <th class=\"blank\" ></th>        <th class=\"blank\" ></th>        <th class=\"blank\" ></th>        <th class=\"blank\" ></th>        <th class=\"blank\" ></th>    </tr></thead><tbody>\n",
       "                <tr>\n",
       "                        <th id=\"T_8db74bb6_1402_11ec_aa00_1e007914d071level0_row0\" class=\"row_heading level0 row0\" >Cabrera High School</th>\n",
       "                        <td id=\"T_8db74bb6_1402_11ec_aa00_1e007914d071row0_col0\" class=\"data row0 col0\" >Charter</td>\n",
       "                        <td id=\"T_8db74bb6_1402_11ec_aa00_1e007914d071row0_col1\" class=\"data row0 col1\" >1,858</td>\n",
       "                        <td id=\"T_8db74bb6_1402_11ec_aa00_1e007914d071row0_col2\" class=\"data row0 col2\" >$1,081,356.00</td>\n",
       "                        <td id=\"T_8db74bb6_1402_11ec_aa00_1e007914d071row0_col3\" class=\"data row0 col3\" >$582.00</td>\n",
       "                        <td id=\"T_8db74bb6_1402_11ec_aa00_1e007914d071row0_col4\" class=\"data row0 col4\" >83.06</td>\n",
       "                        <td id=\"T_8db74bb6_1402_11ec_aa00_1e007914d071row0_col5\" class=\"data row0 col5\" >83.98</td>\n",
       "                        <td id=\"T_8db74bb6_1402_11ec_aa00_1e007914d071row0_col6\" class=\"data row0 col6\" >94.13%</td>\n",
       "                        <td id=\"T_8db74bb6_1402_11ec_aa00_1e007914d071row0_col7\" class=\"data row0 col7\" >97.04%</td>\n",
       "                        <td id=\"T_8db74bb6_1402_11ec_aa00_1e007914d071row0_col8\" class=\"data row0 col8\" >91.33%</td>\n",
       "            </tr>\n",
       "            <tr>\n",
       "                        <th id=\"T_8db74bb6_1402_11ec_aa00_1e007914d071level0_row1\" class=\"row_heading level0 row1\" >Thomas High School</th>\n",
       "                        <td id=\"T_8db74bb6_1402_11ec_aa00_1e007914d071row1_col0\" class=\"data row1 col0\" >Charter</td>\n",
       "                        <td id=\"T_8db74bb6_1402_11ec_aa00_1e007914d071row1_col1\" class=\"data row1 col1\" >1,635</td>\n",
       "                        <td id=\"T_8db74bb6_1402_11ec_aa00_1e007914d071row1_col2\" class=\"data row1 col2\" >$1,043,130.00</td>\n",
       "                        <td id=\"T_8db74bb6_1402_11ec_aa00_1e007914d071row1_col3\" class=\"data row1 col3\" >$638.00</td>\n",
       "                        <td id=\"T_8db74bb6_1402_11ec_aa00_1e007914d071row1_col4\" class=\"data row1 col4\" >83.42</td>\n",
       "                        <td id=\"T_8db74bb6_1402_11ec_aa00_1e007914d071row1_col5\" class=\"data row1 col5\" >83.85</td>\n",
       "                        <td id=\"T_8db74bb6_1402_11ec_aa00_1e007914d071row1_col6\" class=\"data row1 col6\" >93.27%</td>\n",
       "                        <td id=\"T_8db74bb6_1402_11ec_aa00_1e007914d071row1_col7\" class=\"data row1 col7\" >97.31%</td>\n",
       "                        <td id=\"T_8db74bb6_1402_11ec_aa00_1e007914d071row1_col8\" class=\"data row1 col8\" >90.95%</td>\n",
       "            </tr>\n",
       "            <tr>\n",
       "                        <th id=\"T_8db74bb6_1402_11ec_aa00_1e007914d071level0_row2\" class=\"row_heading level0 row2\" >Griffin High School</th>\n",
       "                        <td id=\"T_8db74bb6_1402_11ec_aa00_1e007914d071row2_col0\" class=\"data row2 col0\" >Charter</td>\n",
       "                        <td id=\"T_8db74bb6_1402_11ec_aa00_1e007914d071row2_col1\" class=\"data row2 col1\" >1,468</td>\n",
       "                        <td id=\"T_8db74bb6_1402_11ec_aa00_1e007914d071row2_col2\" class=\"data row2 col2\" >$917,500.00</td>\n",
       "                        <td id=\"T_8db74bb6_1402_11ec_aa00_1e007914d071row2_col3\" class=\"data row2 col3\" >$625.00</td>\n",
       "                        <td id=\"T_8db74bb6_1402_11ec_aa00_1e007914d071row2_col4\" class=\"data row2 col4\" >83.35</td>\n",
       "                        <td id=\"T_8db74bb6_1402_11ec_aa00_1e007914d071row2_col5\" class=\"data row2 col5\" >83.82</td>\n",
       "                        <td id=\"T_8db74bb6_1402_11ec_aa00_1e007914d071row2_col6\" class=\"data row2 col6\" >93.39%</td>\n",
       "                        <td id=\"T_8db74bb6_1402_11ec_aa00_1e007914d071row2_col7\" class=\"data row2 col7\" >97.14%</td>\n",
       "                        <td id=\"T_8db74bb6_1402_11ec_aa00_1e007914d071row2_col8\" class=\"data row2 col8\" >90.60%</td>\n",
       "            </tr>\n",
       "            <tr>\n",
       "                        <th id=\"T_8db74bb6_1402_11ec_aa00_1e007914d071level0_row3\" class=\"row_heading level0 row3\" >Wilson High School</th>\n",
       "                        <td id=\"T_8db74bb6_1402_11ec_aa00_1e007914d071row3_col0\" class=\"data row3 col0\" >Charter</td>\n",
       "                        <td id=\"T_8db74bb6_1402_11ec_aa00_1e007914d071row3_col1\" class=\"data row3 col1\" >2,283</td>\n",
       "                        <td id=\"T_8db74bb6_1402_11ec_aa00_1e007914d071row3_col2\" class=\"data row3 col2\" >$1,319,574.00</td>\n",
       "                        <td id=\"T_8db74bb6_1402_11ec_aa00_1e007914d071row3_col3\" class=\"data row3 col3\" >$578.00</td>\n",
       "                        <td id=\"T_8db74bb6_1402_11ec_aa00_1e007914d071row3_col4\" class=\"data row3 col4\" >83.27</td>\n",
       "                        <td id=\"T_8db74bb6_1402_11ec_aa00_1e007914d071row3_col5\" class=\"data row3 col5\" >83.99</td>\n",
       "                        <td id=\"T_8db74bb6_1402_11ec_aa00_1e007914d071row3_col6\" class=\"data row3 col6\" >93.87%</td>\n",
       "                        <td id=\"T_8db74bb6_1402_11ec_aa00_1e007914d071row3_col7\" class=\"data row3 col7\" >96.54%</td>\n",
       "                        <td id=\"T_8db74bb6_1402_11ec_aa00_1e007914d071row3_col8\" class=\"data row3 col8\" >90.58%</td>\n",
       "            </tr>\n",
       "            <tr>\n",
       "                        <th id=\"T_8db74bb6_1402_11ec_aa00_1e007914d071level0_row4\" class=\"row_heading level0 row4\" >Pena High School</th>\n",
       "                        <td id=\"T_8db74bb6_1402_11ec_aa00_1e007914d071row4_col0\" class=\"data row4 col0\" >Charter</td>\n",
       "                        <td id=\"T_8db74bb6_1402_11ec_aa00_1e007914d071row4_col1\" class=\"data row4 col1\" >962</td>\n",
       "                        <td id=\"T_8db74bb6_1402_11ec_aa00_1e007914d071row4_col2\" class=\"data row4 col2\" >$585,858.00</td>\n",
       "                        <td id=\"T_8db74bb6_1402_11ec_aa00_1e007914d071row4_col3\" class=\"data row4 col3\" >$609.00</td>\n",
       "                        <td id=\"T_8db74bb6_1402_11ec_aa00_1e007914d071row4_col4\" class=\"data row4 col4\" >83.84</td>\n",
       "                        <td id=\"T_8db74bb6_1402_11ec_aa00_1e007914d071row4_col5\" class=\"data row4 col5\" >84.04</td>\n",
       "                        <td id=\"T_8db74bb6_1402_11ec_aa00_1e007914d071row4_col6\" class=\"data row4 col6\" >94.59%</td>\n",
       "                        <td id=\"T_8db74bb6_1402_11ec_aa00_1e007914d071row4_col7\" class=\"data row4 col7\" >95.95%</td>\n",
       "                        <td id=\"T_8db74bb6_1402_11ec_aa00_1e007914d071row4_col8\" class=\"data row4 col8\" >90.54%</td>\n",
       "            </tr>\n",
       "    </tbody></table>"
      ],
      "text/plain": [
       "<pandas.io.formats.style.Styler at 0x7f7f21964b50>"
      ]
     },
     "execution_count": 56,
     "metadata": {},
     "output_type": "execute_result"
    }
   ],
   "source": [
    "#Top Performing Schools by Overall Passing %:\n",
    "top5_schools = school_summary.sort_values(by=\"% Overall Passing\", ascending = False)\n",
    "#Show 5 and Format the table:\n",
    "top5_schools.head().style.format({\"Total Students\": '{:,}', \n",
    "                              \"Total School Budget\": \"${:,.2f}\", \n",
    "                              \"Per Student Budget\": \"${:.2f}\",\n",
    "                              'Average Math Score': \"{:.2f}\", \n",
    "                              'Average Reading Score': \"{:.2f}\", \n",
    "                              \"% Passing Math\": \"{:.2f}%\", \n",
    "                              \"% Passing Reading\": \"{:.2f}%\", \n",
    "                              \"% Overall Passing\": \"{:.2f}%\"})"
   ]
  },
  {
   "cell_type": "markdown",
   "metadata": {},
   "source": [
    "## Bottom Performing Schools (By % Overall Passing)"
   ]
  },
  {
   "cell_type": "markdown",
   "metadata": {},
   "source": [
    "* Sort and display the five worst-performing schools by % overall passing."
   ]
  },
  {
   "cell_type": "code",
   "execution_count": 57,
   "metadata": {},
   "outputs": [
    {
     "data": {
      "text/html": [
       "<style  type=\"text/css\" >\n",
       "</style><table id=\"T_8db87144_1402_11ec_aa00_1e007914d071\" ><thead>    <tr>        <th class=\"blank level0\" ></th>        <th class=\"col_heading level0 col0\" >School Type</th>        <th class=\"col_heading level0 col1\" >Total Students</th>        <th class=\"col_heading level0 col2\" >Total School Budget</th>        <th class=\"col_heading level0 col3\" >Per Student Budget</th>        <th class=\"col_heading level0 col4\" >Average Math Score</th>        <th class=\"col_heading level0 col5\" >Average Reading Score</th>        <th class=\"col_heading level0 col6\" >% Passing Math</th>        <th class=\"col_heading level0 col7\" >% Passing Reading</th>        <th class=\"col_heading level0 col8\" >% Overall Passing</th>    </tr>    <tr>        <th class=\"index_name level0\" ></th>        <th class=\"blank\" ></th>        <th class=\"blank\" ></th>        <th class=\"blank\" ></th>        <th class=\"blank\" ></th>        <th class=\"blank\" ></th>        <th class=\"blank\" ></th>        <th class=\"blank\" ></th>        <th class=\"blank\" ></th>        <th class=\"blank\" ></th>    </tr></thead><tbody>\n",
       "                <tr>\n",
       "                        <th id=\"T_8db87144_1402_11ec_aa00_1e007914d071level0_row0\" class=\"row_heading level0 row0\" >Rodriguez High School</th>\n",
       "                        <td id=\"T_8db87144_1402_11ec_aa00_1e007914d071row0_col0\" class=\"data row0 col0\" >District</td>\n",
       "                        <td id=\"T_8db87144_1402_11ec_aa00_1e007914d071row0_col1\" class=\"data row0 col1\" >3,999</td>\n",
       "                        <td id=\"T_8db87144_1402_11ec_aa00_1e007914d071row0_col2\" class=\"data row0 col2\" >$2,547,363.00</td>\n",
       "                        <td id=\"T_8db87144_1402_11ec_aa00_1e007914d071row0_col3\" class=\"data row0 col3\" >$637.00</td>\n",
       "                        <td id=\"T_8db87144_1402_11ec_aa00_1e007914d071row0_col4\" class=\"data row0 col4\" >76.84</td>\n",
       "                        <td id=\"T_8db87144_1402_11ec_aa00_1e007914d071row0_col5\" class=\"data row0 col5\" >80.74</td>\n",
       "                        <td id=\"T_8db87144_1402_11ec_aa00_1e007914d071row0_col6\" class=\"data row0 col6\" >66.37%</td>\n",
       "                        <td id=\"T_8db87144_1402_11ec_aa00_1e007914d071row0_col7\" class=\"data row0 col7\" >80.22%</td>\n",
       "                        <td id=\"T_8db87144_1402_11ec_aa00_1e007914d071row0_col8\" class=\"data row0 col8\" >52.99%</td>\n",
       "            </tr>\n",
       "            <tr>\n",
       "                        <th id=\"T_8db87144_1402_11ec_aa00_1e007914d071level0_row1\" class=\"row_heading level0 row1\" >Figueroa High School</th>\n",
       "                        <td id=\"T_8db87144_1402_11ec_aa00_1e007914d071row1_col0\" class=\"data row1 col0\" >District</td>\n",
       "                        <td id=\"T_8db87144_1402_11ec_aa00_1e007914d071row1_col1\" class=\"data row1 col1\" >2,949</td>\n",
       "                        <td id=\"T_8db87144_1402_11ec_aa00_1e007914d071row1_col2\" class=\"data row1 col2\" >$1,884,411.00</td>\n",
       "                        <td id=\"T_8db87144_1402_11ec_aa00_1e007914d071row1_col3\" class=\"data row1 col3\" >$639.00</td>\n",
       "                        <td id=\"T_8db87144_1402_11ec_aa00_1e007914d071row1_col4\" class=\"data row1 col4\" >76.71</td>\n",
       "                        <td id=\"T_8db87144_1402_11ec_aa00_1e007914d071row1_col5\" class=\"data row1 col5\" >81.16</td>\n",
       "                        <td id=\"T_8db87144_1402_11ec_aa00_1e007914d071row1_col6\" class=\"data row1 col6\" >65.99%</td>\n",
       "                        <td id=\"T_8db87144_1402_11ec_aa00_1e007914d071row1_col7\" class=\"data row1 col7\" >80.74%</td>\n",
       "                        <td id=\"T_8db87144_1402_11ec_aa00_1e007914d071row1_col8\" class=\"data row1 col8\" >53.20%</td>\n",
       "            </tr>\n",
       "            <tr>\n",
       "                        <th id=\"T_8db87144_1402_11ec_aa00_1e007914d071level0_row2\" class=\"row_heading level0 row2\" >Huang High School</th>\n",
       "                        <td id=\"T_8db87144_1402_11ec_aa00_1e007914d071row2_col0\" class=\"data row2 col0\" >District</td>\n",
       "                        <td id=\"T_8db87144_1402_11ec_aa00_1e007914d071row2_col1\" class=\"data row2 col1\" >2,917</td>\n",
       "                        <td id=\"T_8db87144_1402_11ec_aa00_1e007914d071row2_col2\" class=\"data row2 col2\" >$1,910,635.00</td>\n",
       "                        <td id=\"T_8db87144_1402_11ec_aa00_1e007914d071row2_col3\" class=\"data row2 col3\" >$655.00</td>\n",
       "                        <td id=\"T_8db87144_1402_11ec_aa00_1e007914d071row2_col4\" class=\"data row2 col4\" >76.63</td>\n",
       "                        <td id=\"T_8db87144_1402_11ec_aa00_1e007914d071row2_col5\" class=\"data row2 col5\" >81.18</td>\n",
       "                        <td id=\"T_8db87144_1402_11ec_aa00_1e007914d071row2_col6\" class=\"data row2 col6\" >65.68%</td>\n",
       "                        <td id=\"T_8db87144_1402_11ec_aa00_1e007914d071row2_col7\" class=\"data row2 col7\" >81.32%</td>\n",
       "                        <td id=\"T_8db87144_1402_11ec_aa00_1e007914d071row2_col8\" class=\"data row2 col8\" >53.51%</td>\n",
       "            </tr>\n",
       "            <tr>\n",
       "                        <th id=\"T_8db87144_1402_11ec_aa00_1e007914d071level0_row3\" class=\"row_heading level0 row3\" >Hernandez High School</th>\n",
       "                        <td id=\"T_8db87144_1402_11ec_aa00_1e007914d071row3_col0\" class=\"data row3 col0\" >District</td>\n",
       "                        <td id=\"T_8db87144_1402_11ec_aa00_1e007914d071row3_col1\" class=\"data row3 col1\" >4,635</td>\n",
       "                        <td id=\"T_8db87144_1402_11ec_aa00_1e007914d071row3_col2\" class=\"data row3 col2\" >$3,022,020.00</td>\n",
       "                        <td id=\"T_8db87144_1402_11ec_aa00_1e007914d071row3_col3\" class=\"data row3 col3\" >$652.00</td>\n",
       "                        <td id=\"T_8db87144_1402_11ec_aa00_1e007914d071row3_col4\" class=\"data row3 col4\" >77.29</td>\n",
       "                        <td id=\"T_8db87144_1402_11ec_aa00_1e007914d071row3_col5\" class=\"data row3 col5\" >80.93</td>\n",
       "                        <td id=\"T_8db87144_1402_11ec_aa00_1e007914d071row3_col6\" class=\"data row3 col6\" >66.75%</td>\n",
       "                        <td id=\"T_8db87144_1402_11ec_aa00_1e007914d071row3_col7\" class=\"data row3 col7\" >80.86%</td>\n",
       "                        <td id=\"T_8db87144_1402_11ec_aa00_1e007914d071row3_col8\" class=\"data row3 col8\" >53.53%</td>\n",
       "            </tr>\n",
       "            <tr>\n",
       "                        <th id=\"T_8db87144_1402_11ec_aa00_1e007914d071level0_row4\" class=\"row_heading level0 row4\" >Johnson High School</th>\n",
       "                        <td id=\"T_8db87144_1402_11ec_aa00_1e007914d071row4_col0\" class=\"data row4 col0\" >District</td>\n",
       "                        <td id=\"T_8db87144_1402_11ec_aa00_1e007914d071row4_col1\" class=\"data row4 col1\" >4,761</td>\n",
       "                        <td id=\"T_8db87144_1402_11ec_aa00_1e007914d071row4_col2\" class=\"data row4 col2\" >$3,094,650.00</td>\n",
       "                        <td id=\"T_8db87144_1402_11ec_aa00_1e007914d071row4_col3\" class=\"data row4 col3\" >$650.00</td>\n",
       "                        <td id=\"T_8db87144_1402_11ec_aa00_1e007914d071row4_col4\" class=\"data row4 col4\" >77.07</td>\n",
       "                        <td id=\"T_8db87144_1402_11ec_aa00_1e007914d071row4_col5\" class=\"data row4 col5\" >80.97</td>\n",
       "                        <td id=\"T_8db87144_1402_11ec_aa00_1e007914d071row4_col6\" class=\"data row4 col6\" >66.06%</td>\n",
       "                        <td id=\"T_8db87144_1402_11ec_aa00_1e007914d071row4_col7\" class=\"data row4 col7\" >81.22%</td>\n",
       "                        <td id=\"T_8db87144_1402_11ec_aa00_1e007914d071row4_col8\" class=\"data row4 col8\" >53.54%</td>\n",
       "            </tr>\n",
       "    </tbody></table>"
      ],
      "text/plain": [
       "<pandas.io.formats.style.Styler at 0x7f7ef078ef10>"
      ]
     },
     "execution_count": 57,
     "metadata": {},
     "output_type": "execute_result"
    }
   ],
   "source": [
    "#Bottom Performing Schools by Overall Passing %\n",
    "#again using the formatted data to display\n",
    "bottom5_schools = school_summary.sort_values(by=\"% Overall Passing\", ascending = True)\n",
    "#Show 5 and Format the table:\n",
    "bottom5_schools.head().style.format({\"Total Students\": '{:,}', \n",
    "                                  \"Total School Budget\": \"${:,.2f}\", \n",
    "                                  \"Per Student Budget\": \"${:.2f}\",\n",
    "                                  'Average Math Score': \"{:.2f}\", \n",
    "                                  'Average Reading Score': \"{:.2f}\", \n",
    "                                  \"% Passing Math\": \"{:.2f}%\", \n",
    "                                  \"% Passing Reading\": \"{:.2f}%\", \n",
    "                                  \"% Overall Passing\": \"{:.2f}%\"})"
   ]
  },
  {
   "cell_type": "markdown",
   "metadata": {},
   "source": [
    "## Math Scores by Grade"
   ]
  },
  {
   "cell_type": "markdown",
   "metadata": {},
   "source": [
    "* Create a table that lists the average Reading Score for students of each grade level (9th, 10th, 11th, 12th) at each school.\n",
    "\n",
    "  * Create a pandas series for each grade. Hint: use a conditional statement.\n",
    "  \n",
    "  * Group each series by school\n",
    "  \n",
    "  * Combine the series into a dataframe\n",
    "  \n",
    "  * Optional: give the displayed data cleaner formatting"
   ]
  },
  {
   "cell_type": "code",
   "execution_count": 58,
   "metadata": {},
   "outputs": [],
   "source": [
    "#As seen below"
   ]
  },
  {
   "cell_type": "code",
   "execution_count": 59,
   "metadata": {},
   "outputs": [
    {
     "data": {
      "text/html": [
       "<div>\n",
       "<style scoped>\n",
       "    .dataframe tbody tr th:only-of-type {\n",
       "        vertical-align: middle;\n",
       "    }\n",
       "\n",
       "    .dataframe tbody tr th {\n",
       "        vertical-align: top;\n",
       "    }\n",
       "\n",
       "    .dataframe thead th {\n",
       "        text-align: right;\n",
       "    }\n",
       "</style>\n",
       "<table border=\"1\" class=\"dataframe\">\n",
       "  <thead>\n",
       "    <tr style=\"text-align: right;\">\n",
       "      <th></th>\n",
       "      <th>Student ID</th>\n",
       "      <th>student_name</th>\n",
       "      <th>gender</th>\n",
       "      <th>grade</th>\n",
       "      <th>school_name</th>\n",
       "      <th>reading_score</th>\n",
       "      <th>math_score</th>\n",
       "    </tr>\n",
       "  </thead>\n",
       "  <tbody>\n",
       "    <tr>\n",
       "      <th>0</th>\n",
       "      <td>0</td>\n",
       "      <td>Paul Bradley</td>\n",
       "      <td>M</td>\n",
       "      <td>9th</td>\n",
       "      <td>Huang High School</td>\n",
       "      <td>66</td>\n",
       "      <td>79</td>\n",
       "    </tr>\n",
       "  </tbody>\n",
       "</table>\n",
       "</div>"
      ],
      "text/plain": [
       "   Student ID  student_name gender grade        school_name  reading_score  \\\n",
       "0           0  Paul Bradley      M   9th  Huang High School             66   \n",
       "\n",
       "   math_score  \n",
       "0          79  "
      ]
     },
     "execution_count": 59,
     "metadata": {},
     "output_type": "execute_result"
    }
   ],
   "source": [
    "#Using the student_data file: has school_name and grade\n",
    "student_data.head(1)"
   ]
  },
  {
   "cell_type": "code",
   "execution_count": 60,
   "metadata": {},
   "outputs": [
    {
     "data": {
      "text/plain": [
       "Student ID        int64\n",
       "student_name     object\n",
       "gender           object\n",
       "grade            object\n",
       "school_name      object\n",
       "reading_score     int64\n",
       "math_score        int64\n",
       "dtype: object"
      ]
     },
     "execution_count": 60,
     "metadata": {},
     "output_type": "execute_result"
    }
   ],
   "source": [
    "#check the data types to work with\n",
    "student_data.dtypes"
   ]
  },
  {
   "cell_type": "code",
   "execution_count": 61,
   "metadata": {},
   "outputs": [],
   "source": [
    "#Creating a copy of the original, to manipulate\n",
    "dfMath_byGrade = student_data.copy()"
   ]
  },
  {
   "cell_type": "code",
   "execution_count": 62,
   "metadata": {},
   "outputs": [
    {
     "data": {
      "text/html": [
       "<div>\n",
       "<style scoped>\n",
       "    .dataframe tbody tr th:only-of-type {\n",
       "        vertical-align: middle;\n",
       "    }\n",
       "\n",
       "    .dataframe tbody tr th {\n",
       "        vertical-align: top;\n",
       "    }\n",
       "\n",
       "    .dataframe thead th {\n",
       "        text-align: right;\n",
       "    }\n",
       "</style>\n",
       "<table border=\"1\" class=\"dataframe\">\n",
       "  <thead>\n",
       "    <tr style=\"text-align: right;\">\n",
       "      <th></th>\n",
       "      <th>Student ID</th>\n",
       "      <th>student_name</th>\n",
       "      <th>gender</th>\n",
       "      <th>grade</th>\n",
       "      <th>school_name</th>\n",
       "      <th>reading_score</th>\n",
       "      <th>math_score</th>\n",
       "    </tr>\n",
       "  </thead>\n",
       "  <tbody>\n",
       "    <tr>\n",
       "      <th>0</th>\n",
       "      <td>0</td>\n",
       "      <td>Paul Bradley</td>\n",
       "      <td>M</td>\n",
       "      <td>9th</td>\n",
       "      <td>Huang High School</td>\n",
       "      <td>66</td>\n",
       "      <td>79</td>\n",
       "    </tr>\n",
       "    <tr>\n",
       "      <th>1</th>\n",
       "      <td>1</td>\n",
       "      <td>Victor Smith</td>\n",
       "      <td>M</td>\n",
       "      <td>12th</td>\n",
       "      <td>Huang High School</td>\n",
       "      <td>94</td>\n",
       "      <td>61</td>\n",
       "    </tr>\n",
       "    <tr>\n",
       "      <th>2</th>\n",
       "      <td>2</td>\n",
       "      <td>Kevin Rodriguez</td>\n",
       "      <td>M</td>\n",
       "      <td>12th</td>\n",
       "      <td>Huang High School</td>\n",
       "      <td>90</td>\n",
       "      <td>60</td>\n",
       "    </tr>\n",
       "    <tr>\n",
       "      <th>3</th>\n",
       "      <td>3</td>\n",
       "      <td>Dr. Richard Scott</td>\n",
       "      <td>M</td>\n",
       "      <td>12th</td>\n",
       "      <td>Huang High School</td>\n",
       "      <td>67</td>\n",
       "      <td>58</td>\n",
       "    </tr>\n",
       "    <tr>\n",
       "      <th>4</th>\n",
       "      <td>4</td>\n",
       "      <td>Bonnie Ray</td>\n",
       "      <td>F</td>\n",
       "      <td>9th</td>\n",
       "      <td>Huang High School</td>\n",
       "      <td>97</td>\n",
       "      <td>84</td>\n",
       "    </tr>\n",
       "  </tbody>\n",
       "</table>\n",
       "</div>"
      ],
      "text/plain": [
       "   Student ID       student_name gender grade        school_name  \\\n",
       "0           0       Paul Bradley      M   9th  Huang High School   \n",
       "1           1       Victor Smith      M  12th  Huang High School   \n",
       "2           2    Kevin Rodriguez      M  12th  Huang High School   \n",
       "3           3  Dr. Richard Scott      M  12th  Huang High School   \n",
       "4           4         Bonnie Ray      F   9th  Huang High School   \n",
       "\n",
       "   reading_score  math_score  \n",
       "0             66          79  \n",
       "1             94          61  \n",
       "2             90          60  \n",
       "3             67          58  \n",
       "4             97          84  "
      ]
     },
     "execution_count": 62,
     "metadata": {},
     "output_type": "execute_result"
    }
   ],
   "source": [
    "#Change the grade column to be a category:\n",
    "dfMath_byGrade['grade']= dfMath_byGrade ['grade'].astype(\"category\")\n",
    "dfMath_byGrade.head()"
   ]
  },
  {
   "cell_type": "code",
   "execution_count": 63,
   "metadata": {},
   "outputs": [
    {
     "data": {
      "text/plain": [
       "Student ID          int64\n",
       "student_name       object\n",
       "gender             object\n",
       "grade            category\n",
       "school_name        object\n",
       "reading_score       int64\n",
       "math_score          int64\n",
       "dtype: object"
      ]
     },
     "execution_count": 63,
     "metadata": {},
     "output_type": "execute_result"
    }
   ],
   "source": [
    "#check that the grade is no longer an object:\n",
    "dfMath_byGrade.dtypes"
   ]
  },
  {
   "cell_type": "code",
   "execution_count": 64,
   "metadata": {},
   "outputs": [
    {
     "data": {
      "text/html": [
       "<div>\n",
       "<style scoped>\n",
       "    .dataframe tbody tr th:only-of-type {\n",
       "        vertical-align: middle;\n",
       "    }\n",
       "\n",
       "    .dataframe tbody tr th {\n",
       "        vertical-align: top;\n",
       "    }\n",
       "\n",
       "    .dataframe thead th {\n",
       "        text-align: right;\n",
       "    }\n",
       "</style>\n",
       "<table border=\"1\" class=\"dataframe\">\n",
       "  <thead>\n",
       "    <tr style=\"text-align: right;\">\n",
       "      <th></th>\n",
       "      <th>Student ID</th>\n",
       "      <th>student_name</th>\n",
       "      <th>gender</th>\n",
       "      <th>grade</th>\n",
       "      <th>school_name</th>\n",
       "      <th>reading_score</th>\n",
       "      <th>math_score</th>\n",
       "    </tr>\n",
       "  </thead>\n",
       "  <tbody>\n",
       "    <tr>\n",
       "      <th>0</th>\n",
       "      <td>0</td>\n",
       "      <td>Paul Bradley</td>\n",
       "      <td>M</td>\n",
       "      <td>9th</td>\n",
       "      <td>Huang High School</td>\n",
       "      <td>66</td>\n",
       "      <td>79</td>\n",
       "    </tr>\n",
       "  </tbody>\n",
       "</table>\n",
       "</div>"
      ],
      "text/plain": [
       "   Student ID  student_name gender grade        school_name  reading_score  \\\n",
       "0           0  Paul Bradley      M   9th  Huang High School             66   \n",
       "\n",
       "   math_score  \n",
       "0          79  "
      ]
     },
     "execution_count": 64,
     "metadata": {},
     "output_type": "execute_result"
    }
   ],
   "source": [
    "#Create a pandas series for each grade. Hint: use a conditional statement.\n",
    "dfNine= dfMath_byGrade[dfMath_byGrade['grade'] =='9th']\n",
    "dfNine.head(1)"
   ]
  },
  {
   "cell_type": "code",
   "execution_count": 65,
   "metadata": {},
   "outputs": [
    {
     "data": {
      "text/plain": [
       "school_name\n",
       "Bailey High School       77.083676\n",
       "Cabrera High School      83.094697\n",
       "Figueroa High School     76.403037\n",
       "Ford High School         77.361345\n",
       "Griffin High School      82.044010\n",
       "Hernandez High School    77.438495\n",
       "Holden High School       83.787402\n",
       "Huang High School        77.027251\n",
       "Johnson High School      77.187857\n",
       "Pena High School         83.625455\n",
       "Rodriguez High School    76.859966\n",
       "Shelton High School      83.420755\n",
       "Thomas High School       83.590022\n",
       "Wilson High School       83.085578\n",
       "Wright High School       83.264706\n",
       "Name: math_score, dtype: float64"
      ]
     },
     "execution_count": 65,
     "metadata": {},
     "output_type": "execute_result"
    }
   ],
   "source": [
    "#ninth grade series by school\n",
    "gdfNine=dfNine.groupby(['school_name']).mean()['math_score']\n",
    "gdfNine\n"
   ]
  },
  {
   "cell_type": "code",
   "execution_count": 66,
   "metadata": {},
   "outputs": [
    {
     "data": {
      "text/html": [
       "<div>\n",
       "<style scoped>\n",
       "    .dataframe tbody tr th:only-of-type {\n",
       "        vertical-align: middle;\n",
       "    }\n",
       "\n",
       "    .dataframe tbody tr th {\n",
       "        vertical-align: top;\n",
       "    }\n",
       "\n",
       "    .dataframe thead th {\n",
       "        text-align: right;\n",
       "    }\n",
       "</style>\n",
       "<table border=\"1\" class=\"dataframe\">\n",
       "  <thead>\n",
       "    <tr style=\"text-align: right;\">\n",
       "      <th></th>\n",
       "      <th>Student ID</th>\n",
       "      <th>student_name</th>\n",
       "      <th>gender</th>\n",
       "      <th>grade</th>\n",
       "      <th>school_name</th>\n",
       "      <th>reading_score</th>\n",
       "      <th>math_score</th>\n",
       "    </tr>\n",
       "  </thead>\n",
       "  <tbody>\n",
       "    <tr>\n",
       "      <th>8</th>\n",
       "      <td>8</td>\n",
       "      <td>Michael Roth</td>\n",
       "      <td>M</td>\n",
       "      <td>10th</td>\n",
       "      <td>Huang High School</td>\n",
       "      <td>95</td>\n",
       "      <td>87</td>\n",
       "    </tr>\n",
       "  </tbody>\n",
       "</table>\n",
       "</div>"
      ],
      "text/plain": [
       "   Student ID  student_name gender grade        school_name  reading_score  \\\n",
       "8           8  Michael Roth      M  10th  Huang High School             95   \n",
       "\n",
       "   math_score  \n",
       "8          87  "
      ]
     },
     "execution_count": 66,
     "metadata": {},
     "output_type": "execute_result"
    }
   ],
   "source": [
    "#tenth grade\n",
    "dfTenth= dfMath_byGrade[dfMath_byGrade['grade'] =='10th']\n",
    "dfTenth.head(1)"
   ]
  },
  {
   "cell_type": "code",
   "execution_count": 67,
   "metadata": {},
   "outputs": [
    {
     "data": {
      "text/plain": [
       "school_name\n",
       "Bailey High School       76.996772\n",
       "Cabrera High School      83.154506\n",
       "Figueroa High School     76.539974\n",
       "Ford High School         77.672316\n",
       "Griffin High School      84.229064\n",
       "Hernandez High School    77.337408\n",
       "Holden High School       83.429825\n",
       "Huang High School        75.908735\n",
       "Johnson High School      76.691117\n",
       "Pena High School         83.372000\n",
       "Rodriguez High School    76.612500\n",
       "Shelton High School      82.917411\n",
       "Thomas High School       83.087886\n",
       "Wilson High School       83.724422\n",
       "Wright High School       84.010288\n",
       "Name: math_score, dtype: float64"
      ]
     },
     "execution_count": 67,
     "metadata": {},
     "output_type": "execute_result"
    }
   ],
   "source": [
    "#tenth grade series by school\n",
    "gdfTenth=dfTenth.groupby(['school_name']).mean()['math_score']\n",
    "gdfTenth"
   ]
  },
  {
   "cell_type": "code",
   "execution_count": 68,
   "metadata": {},
   "outputs": [
    {
     "data": {
      "text/html": [
       "<div>\n",
       "<style scoped>\n",
       "    .dataframe tbody tr th:only-of-type {\n",
       "        vertical-align: middle;\n",
       "    }\n",
       "\n",
       "    .dataframe tbody tr th {\n",
       "        vertical-align: top;\n",
       "    }\n",
       "\n",
       "    .dataframe thead th {\n",
       "        text-align: right;\n",
       "    }\n",
       "</style>\n",
       "<table border=\"1\" class=\"dataframe\">\n",
       "  <thead>\n",
       "    <tr style=\"text-align: right;\">\n",
       "      <th></th>\n",
       "      <th>Student ID</th>\n",
       "      <th>student_name</th>\n",
       "      <th>gender</th>\n",
       "      <th>grade</th>\n",
       "      <th>school_name</th>\n",
       "      <th>reading_score</th>\n",
       "      <th>math_score</th>\n",
       "    </tr>\n",
       "  </thead>\n",
       "  <tbody>\n",
       "    <tr>\n",
       "      <th>6</th>\n",
       "      <td>6</td>\n",
       "      <td>Sheena Carter</td>\n",
       "      <td>F</td>\n",
       "      <td>11th</td>\n",
       "      <td>Huang High School</td>\n",
       "      <td>82</td>\n",
       "      <td>80</td>\n",
       "    </tr>\n",
       "  </tbody>\n",
       "</table>\n",
       "</div>"
      ],
      "text/plain": [
       "   Student ID   student_name gender grade        school_name  reading_score  \\\n",
       "6           6  Sheena Carter      F  11th  Huang High School             82   \n",
       "\n",
       "   math_score  \n",
       "6          80  "
      ]
     },
     "execution_count": 68,
     "metadata": {},
     "output_type": "execute_result"
    }
   ],
   "source": [
    "#eleventh grade\n",
    "dfEleventh= dfMath_byGrade[dfMath_byGrade['grade'] =='11th']\n",
    "dfEleventh.head(1)"
   ]
  },
  {
   "cell_type": "code",
   "execution_count": 69,
   "metadata": {},
   "outputs": [
    {
     "data": {
      "text/plain": [
       "school_name\n",
       "Bailey High School       77.515588\n",
       "Cabrera High School      82.765560\n",
       "Figueroa High School     76.884344\n",
       "Ford High School         76.918058\n",
       "Griffin High School      83.842105\n",
       "Hernandez High School    77.136029\n",
       "Holden High School       85.000000\n",
       "Huang High School        76.446602\n",
       "Johnson High School      77.491653\n",
       "Pena High School         84.328125\n",
       "Rodriguez High School    76.395626\n",
       "Shelton High School      83.383495\n",
       "Thomas High School       83.498795\n",
       "Wilson High School       83.195326\n",
       "Wright High School       83.836782\n",
       "Name: math_score, dtype: float64"
      ]
     },
     "execution_count": 69,
     "metadata": {},
     "output_type": "execute_result"
    }
   ],
   "source": [
    "#eleventh grade series by school\n",
    "gdfEleventh=dfEleventh.groupby(['school_name']).mean()['math_score']\n",
    "gdfEleventh"
   ]
  },
  {
   "cell_type": "code",
   "execution_count": 70,
   "metadata": {},
   "outputs": [
    {
     "data": {
      "text/html": [
       "<div>\n",
       "<style scoped>\n",
       "    .dataframe tbody tr th:only-of-type {\n",
       "        vertical-align: middle;\n",
       "    }\n",
       "\n",
       "    .dataframe tbody tr th {\n",
       "        vertical-align: top;\n",
       "    }\n",
       "\n",
       "    .dataframe thead th {\n",
       "        text-align: right;\n",
       "    }\n",
       "</style>\n",
       "<table border=\"1\" class=\"dataframe\">\n",
       "  <thead>\n",
       "    <tr style=\"text-align: right;\">\n",
       "      <th></th>\n",
       "      <th>Student ID</th>\n",
       "      <th>student_name</th>\n",
       "      <th>gender</th>\n",
       "      <th>grade</th>\n",
       "      <th>school_name</th>\n",
       "      <th>reading_score</th>\n",
       "      <th>math_score</th>\n",
       "    </tr>\n",
       "  </thead>\n",
       "  <tbody>\n",
       "    <tr>\n",
       "      <th>1</th>\n",
       "      <td>1</td>\n",
       "      <td>Victor Smith</td>\n",
       "      <td>M</td>\n",
       "      <td>12th</td>\n",
       "      <td>Huang High School</td>\n",
       "      <td>94</td>\n",
       "      <td>61</td>\n",
       "    </tr>\n",
       "  </tbody>\n",
       "</table>\n",
       "</div>"
      ],
      "text/plain": [
       "   Student ID  student_name gender grade        school_name  reading_score  \\\n",
       "1           1  Victor Smith      M  12th  Huang High School             94   \n",
       "\n",
       "   math_score  \n",
       "1          61  "
      ]
     },
     "execution_count": 70,
     "metadata": {},
     "output_type": "execute_result"
    }
   ],
   "source": [
    "#twelth grade\n",
    "dfTwelve= dfMath_byGrade[dfMath_byGrade['grade'] =='12th']\n",
    "dfTwelve.head(1)"
   ]
  },
  {
   "cell_type": "code",
   "execution_count": 71,
   "metadata": {},
   "outputs": [
    {
     "data": {
      "text/plain": [
       "school_name\n",
       "Bailey High School       76.492218\n",
       "Cabrera High School      83.277487\n",
       "Figueroa High School     77.151369\n",
       "Ford High School         76.179963\n",
       "Griffin High School      83.356164\n",
       "Hernandez High School    77.186567\n",
       "Holden High School       82.855422\n",
       "Huang High School        77.225641\n",
       "Johnson High School      76.863248\n",
       "Pena High School         84.121547\n",
       "Rodriguez High School    77.690748\n",
       "Shelton High School      83.778976\n",
       "Thomas High School       83.497041\n",
       "Wilson High School       83.035794\n",
       "Wright High School       83.644986\n",
       "Name: math_score, dtype: float64"
      ]
     },
     "execution_count": 71,
     "metadata": {},
     "output_type": "execute_result"
    }
   ],
   "source": [
    "#twelth grade series by school\n",
    "gdfTwelve=dfTwelve.groupby(['school_name']).mean()['math_score']\n",
    "gdfTwelve"
   ]
  },
  {
   "cell_type": "code",
   "execution_count": 72,
   "metadata": {},
   "outputs": [],
   "source": [
    "#Combine the series into a dataframe\n",
    "dfMathScoresByGrade = pd.DataFrame({\"9th\":gdfNine,\n",
    "                                    \"10th\":gdfTenth,\n",
    "                                    \"11th\":gdfEleventh,\n",
    "                                    \"12th\":gdfTwelve\n",
    "                                   })"
   ]
  },
  {
   "cell_type": "markdown",
   "metadata": {},
   "source": [
    "## Math Scores By Grade (unformatted):"
   ]
  },
  {
   "cell_type": "code",
   "execution_count": 73,
   "metadata": {},
   "outputs": [
    {
     "data": {
      "text/html": [
       "<div>\n",
       "<style scoped>\n",
       "    .dataframe tbody tr th:only-of-type {\n",
       "        vertical-align: middle;\n",
       "    }\n",
       "\n",
       "    .dataframe tbody tr th {\n",
       "        vertical-align: top;\n",
       "    }\n",
       "\n",
       "    .dataframe thead th {\n",
       "        text-align: right;\n",
       "    }\n",
       "</style>\n",
       "<table border=\"1\" class=\"dataframe\">\n",
       "  <thead>\n",
       "    <tr style=\"text-align: right;\">\n",
       "      <th></th>\n",
       "      <th>9th</th>\n",
       "      <th>10th</th>\n",
       "      <th>11th</th>\n",
       "      <th>12th</th>\n",
       "    </tr>\n",
       "    <tr>\n",
       "      <th>school_name</th>\n",
       "      <th></th>\n",
       "      <th></th>\n",
       "      <th></th>\n",
       "      <th></th>\n",
       "    </tr>\n",
       "  </thead>\n",
       "  <tbody>\n",
       "    <tr>\n",
       "      <th>Bailey High School</th>\n",
       "      <td>77.083676</td>\n",
       "      <td>76.996772</td>\n",
       "      <td>77.515588</td>\n",
       "      <td>76.492218</td>\n",
       "    </tr>\n",
       "    <tr>\n",
       "      <th>Cabrera High School</th>\n",
       "      <td>83.094697</td>\n",
       "      <td>83.154506</td>\n",
       "      <td>82.765560</td>\n",
       "      <td>83.277487</td>\n",
       "    </tr>\n",
       "    <tr>\n",
       "      <th>Figueroa High School</th>\n",
       "      <td>76.403037</td>\n",
       "      <td>76.539974</td>\n",
       "      <td>76.884344</td>\n",
       "      <td>77.151369</td>\n",
       "    </tr>\n",
       "    <tr>\n",
       "      <th>Ford High School</th>\n",
       "      <td>77.361345</td>\n",
       "      <td>77.672316</td>\n",
       "      <td>76.918058</td>\n",
       "      <td>76.179963</td>\n",
       "    </tr>\n",
       "    <tr>\n",
       "      <th>Griffin High School</th>\n",
       "      <td>82.044010</td>\n",
       "      <td>84.229064</td>\n",
       "      <td>83.842105</td>\n",
       "      <td>83.356164</td>\n",
       "    </tr>\n",
       "    <tr>\n",
       "      <th>Hernandez High School</th>\n",
       "      <td>77.438495</td>\n",
       "      <td>77.337408</td>\n",
       "      <td>77.136029</td>\n",
       "      <td>77.186567</td>\n",
       "    </tr>\n",
       "    <tr>\n",
       "      <th>Holden High School</th>\n",
       "      <td>83.787402</td>\n",
       "      <td>83.429825</td>\n",
       "      <td>85.000000</td>\n",
       "      <td>82.855422</td>\n",
       "    </tr>\n",
       "    <tr>\n",
       "      <th>Huang High School</th>\n",
       "      <td>77.027251</td>\n",
       "      <td>75.908735</td>\n",
       "      <td>76.446602</td>\n",
       "      <td>77.225641</td>\n",
       "    </tr>\n",
       "    <tr>\n",
       "      <th>Johnson High School</th>\n",
       "      <td>77.187857</td>\n",
       "      <td>76.691117</td>\n",
       "      <td>77.491653</td>\n",
       "      <td>76.863248</td>\n",
       "    </tr>\n",
       "    <tr>\n",
       "      <th>Pena High School</th>\n",
       "      <td>83.625455</td>\n",
       "      <td>83.372000</td>\n",
       "      <td>84.328125</td>\n",
       "      <td>84.121547</td>\n",
       "    </tr>\n",
       "    <tr>\n",
       "      <th>Rodriguez High School</th>\n",
       "      <td>76.859966</td>\n",
       "      <td>76.612500</td>\n",
       "      <td>76.395626</td>\n",
       "      <td>77.690748</td>\n",
       "    </tr>\n",
       "    <tr>\n",
       "      <th>Shelton High School</th>\n",
       "      <td>83.420755</td>\n",
       "      <td>82.917411</td>\n",
       "      <td>83.383495</td>\n",
       "      <td>83.778976</td>\n",
       "    </tr>\n",
       "    <tr>\n",
       "      <th>Thomas High School</th>\n",
       "      <td>83.590022</td>\n",
       "      <td>83.087886</td>\n",
       "      <td>83.498795</td>\n",
       "      <td>83.497041</td>\n",
       "    </tr>\n",
       "    <tr>\n",
       "      <th>Wilson High School</th>\n",
       "      <td>83.085578</td>\n",
       "      <td>83.724422</td>\n",
       "      <td>83.195326</td>\n",
       "      <td>83.035794</td>\n",
       "    </tr>\n",
       "    <tr>\n",
       "      <th>Wright High School</th>\n",
       "      <td>83.264706</td>\n",
       "      <td>84.010288</td>\n",
       "      <td>83.836782</td>\n",
       "      <td>83.644986</td>\n",
       "    </tr>\n",
       "  </tbody>\n",
       "</table>\n",
       "</div>"
      ],
      "text/plain": [
       "                             9th       10th       11th       12th\n",
       "school_name                                                      \n",
       "Bailey High School     77.083676  76.996772  77.515588  76.492218\n",
       "Cabrera High School    83.094697  83.154506  82.765560  83.277487\n",
       "Figueroa High School   76.403037  76.539974  76.884344  77.151369\n",
       "Ford High School       77.361345  77.672316  76.918058  76.179963\n",
       "Griffin High School    82.044010  84.229064  83.842105  83.356164\n",
       "Hernandez High School  77.438495  77.337408  77.136029  77.186567\n",
       "Holden High School     83.787402  83.429825  85.000000  82.855422\n",
       "Huang High School      77.027251  75.908735  76.446602  77.225641\n",
       "Johnson High School    77.187857  76.691117  77.491653  76.863248\n",
       "Pena High School       83.625455  83.372000  84.328125  84.121547\n",
       "Rodriguez High School  76.859966  76.612500  76.395626  77.690748\n",
       "Shelton High School    83.420755  82.917411  83.383495  83.778976\n",
       "Thomas High School     83.590022  83.087886  83.498795  83.497041\n",
       "Wilson High School     83.085578  83.724422  83.195326  83.035794\n",
       "Wright High School     83.264706  84.010288  83.836782  83.644986"
      ]
     },
     "execution_count": 73,
     "metadata": {},
     "output_type": "execute_result"
    }
   ],
   "source": [
    "dfMathScoresByGrade"
   ]
  },
  {
   "cell_type": "code",
   "execution_count": 74,
   "metadata": {},
   "outputs": [],
   "source": [
    "#Make the DataFrame Table look nice:\n",
    "#Set the index to not have a name\n",
    "dfMathScoresByGrade.index.name =\"School Name:\""
   ]
  },
  {
   "cell_type": "markdown",
   "metadata": {},
   "source": [
    "## Math Scores By Grade (formatted):"
   ]
  },
  {
   "cell_type": "code",
   "execution_count": 75,
   "metadata": {},
   "outputs": [
    {
     "data": {
      "text/html": [
       "<style  type=\"text/css\" >\n",
       "</style><table id=\"T_8dcbb27c_1402_11ec_aa00_1e007914d071\" ><thead>    <tr>        <th class=\"blank level0\" ></th>        <th class=\"col_heading level0 col0\" >9th</th>        <th class=\"col_heading level0 col1\" >10th</th>        <th class=\"col_heading level0 col2\" >11th</th>        <th class=\"col_heading level0 col3\" >12th</th>    </tr>    <tr>        <th class=\"index_name level0\" >School Name:</th>        <th class=\"blank\" ></th>        <th class=\"blank\" ></th>        <th class=\"blank\" ></th>        <th class=\"blank\" ></th>    </tr></thead><tbody>\n",
       "                <tr>\n",
       "                        <th id=\"T_8dcbb27c_1402_11ec_aa00_1e007914d071level0_row0\" class=\"row_heading level0 row0\" >Bailey High School</th>\n",
       "                        <td id=\"T_8dcbb27c_1402_11ec_aa00_1e007914d071row0_col0\" class=\"data row0 col0\" >77.08</td>\n",
       "                        <td id=\"T_8dcbb27c_1402_11ec_aa00_1e007914d071row0_col1\" class=\"data row0 col1\" >77.00</td>\n",
       "                        <td id=\"T_8dcbb27c_1402_11ec_aa00_1e007914d071row0_col2\" class=\"data row0 col2\" >77.52</td>\n",
       "                        <td id=\"T_8dcbb27c_1402_11ec_aa00_1e007914d071row0_col3\" class=\"data row0 col3\" >76.49</td>\n",
       "            </tr>\n",
       "            <tr>\n",
       "                        <th id=\"T_8dcbb27c_1402_11ec_aa00_1e007914d071level0_row1\" class=\"row_heading level0 row1\" >Cabrera High School</th>\n",
       "                        <td id=\"T_8dcbb27c_1402_11ec_aa00_1e007914d071row1_col0\" class=\"data row1 col0\" >83.09</td>\n",
       "                        <td id=\"T_8dcbb27c_1402_11ec_aa00_1e007914d071row1_col1\" class=\"data row1 col1\" >83.15</td>\n",
       "                        <td id=\"T_8dcbb27c_1402_11ec_aa00_1e007914d071row1_col2\" class=\"data row1 col2\" >82.77</td>\n",
       "                        <td id=\"T_8dcbb27c_1402_11ec_aa00_1e007914d071row1_col3\" class=\"data row1 col3\" >83.28</td>\n",
       "            </tr>\n",
       "            <tr>\n",
       "                        <th id=\"T_8dcbb27c_1402_11ec_aa00_1e007914d071level0_row2\" class=\"row_heading level0 row2\" >Figueroa High School</th>\n",
       "                        <td id=\"T_8dcbb27c_1402_11ec_aa00_1e007914d071row2_col0\" class=\"data row2 col0\" >76.40</td>\n",
       "                        <td id=\"T_8dcbb27c_1402_11ec_aa00_1e007914d071row2_col1\" class=\"data row2 col1\" >76.54</td>\n",
       "                        <td id=\"T_8dcbb27c_1402_11ec_aa00_1e007914d071row2_col2\" class=\"data row2 col2\" >76.88</td>\n",
       "                        <td id=\"T_8dcbb27c_1402_11ec_aa00_1e007914d071row2_col3\" class=\"data row2 col3\" >77.15</td>\n",
       "            </tr>\n",
       "            <tr>\n",
       "                        <th id=\"T_8dcbb27c_1402_11ec_aa00_1e007914d071level0_row3\" class=\"row_heading level0 row3\" >Ford High School</th>\n",
       "                        <td id=\"T_8dcbb27c_1402_11ec_aa00_1e007914d071row3_col0\" class=\"data row3 col0\" >77.36</td>\n",
       "                        <td id=\"T_8dcbb27c_1402_11ec_aa00_1e007914d071row3_col1\" class=\"data row3 col1\" >77.67</td>\n",
       "                        <td id=\"T_8dcbb27c_1402_11ec_aa00_1e007914d071row3_col2\" class=\"data row3 col2\" >76.92</td>\n",
       "                        <td id=\"T_8dcbb27c_1402_11ec_aa00_1e007914d071row3_col3\" class=\"data row3 col3\" >76.18</td>\n",
       "            </tr>\n",
       "            <tr>\n",
       "                        <th id=\"T_8dcbb27c_1402_11ec_aa00_1e007914d071level0_row4\" class=\"row_heading level0 row4\" >Griffin High School</th>\n",
       "                        <td id=\"T_8dcbb27c_1402_11ec_aa00_1e007914d071row4_col0\" class=\"data row4 col0\" >82.04</td>\n",
       "                        <td id=\"T_8dcbb27c_1402_11ec_aa00_1e007914d071row4_col1\" class=\"data row4 col1\" >84.23</td>\n",
       "                        <td id=\"T_8dcbb27c_1402_11ec_aa00_1e007914d071row4_col2\" class=\"data row4 col2\" >83.84</td>\n",
       "                        <td id=\"T_8dcbb27c_1402_11ec_aa00_1e007914d071row4_col3\" class=\"data row4 col3\" >83.36</td>\n",
       "            </tr>\n",
       "            <tr>\n",
       "                        <th id=\"T_8dcbb27c_1402_11ec_aa00_1e007914d071level0_row5\" class=\"row_heading level0 row5\" >Hernandez High School</th>\n",
       "                        <td id=\"T_8dcbb27c_1402_11ec_aa00_1e007914d071row5_col0\" class=\"data row5 col0\" >77.44</td>\n",
       "                        <td id=\"T_8dcbb27c_1402_11ec_aa00_1e007914d071row5_col1\" class=\"data row5 col1\" >77.34</td>\n",
       "                        <td id=\"T_8dcbb27c_1402_11ec_aa00_1e007914d071row5_col2\" class=\"data row5 col2\" >77.14</td>\n",
       "                        <td id=\"T_8dcbb27c_1402_11ec_aa00_1e007914d071row5_col3\" class=\"data row5 col3\" >77.19</td>\n",
       "            </tr>\n",
       "            <tr>\n",
       "                        <th id=\"T_8dcbb27c_1402_11ec_aa00_1e007914d071level0_row6\" class=\"row_heading level0 row6\" >Holden High School</th>\n",
       "                        <td id=\"T_8dcbb27c_1402_11ec_aa00_1e007914d071row6_col0\" class=\"data row6 col0\" >83.79</td>\n",
       "                        <td id=\"T_8dcbb27c_1402_11ec_aa00_1e007914d071row6_col1\" class=\"data row6 col1\" >83.43</td>\n",
       "                        <td id=\"T_8dcbb27c_1402_11ec_aa00_1e007914d071row6_col2\" class=\"data row6 col2\" >85.00</td>\n",
       "                        <td id=\"T_8dcbb27c_1402_11ec_aa00_1e007914d071row6_col3\" class=\"data row6 col3\" >82.86</td>\n",
       "            </tr>\n",
       "            <tr>\n",
       "                        <th id=\"T_8dcbb27c_1402_11ec_aa00_1e007914d071level0_row7\" class=\"row_heading level0 row7\" >Huang High School</th>\n",
       "                        <td id=\"T_8dcbb27c_1402_11ec_aa00_1e007914d071row7_col0\" class=\"data row7 col0\" >77.03</td>\n",
       "                        <td id=\"T_8dcbb27c_1402_11ec_aa00_1e007914d071row7_col1\" class=\"data row7 col1\" >75.91</td>\n",
       "                        <td id=\"T_8dcbb27c_1402_11ec_aa00_1e007914d071row7_col2\" class=\"data row7 col2\" >76.45</td>\n",
       "                        <td id=\"T_8dcbb27c_1402_11ec_aa00_1e007914d071row7_col3\" class=\"data row7 col3\" >77.23</td>\n",
       "            </tr>\n",
       "            <tr>\n",
       "                        <th id=\"T_8dcbb27c_1402_11ec_aa00_1e007914d071level0_row8\" class=\"row_heading level0 row8\" >Johnson High School</th>\n",
       "                        <td id=\"T_8dcbb27c_1402_11ec_aa00_1e007914d071row8_col0\" class=\"data row8 col0\" >77.19</td>\n",
       "                        <td id=\"T_8dcbb27c_1402_11ec_aa00_1e007914d071row8_col1\" class=\"data row8 col1\" >76.69</td>\n",
       "                        <td id=\"T_8dcbb27c_1402_11ec_aa00_1e007914d071row8_col2\" class=\"data row8 col2\" >77.49</td>\n",
       "                        <td id=\"T_8dcbb27c_1402_11ec_aa00_1e007914d071row8_col3\" class=\"data row8 col3\" >76.86</td>\n",
       "            </tr>\n",
       "            <tr>\n",
       "                        <th id=\"T_8dcbb27c_1402_11ec_aa00_1e007914d071level0_row9\" class=\"row_heading level0 row9\" >Pena High School</th>\n",
       "                        <td id=\"T_8dcbb27c_1402_11ec_aa00_1e007914d071row9_col0\" class=\"data row9 col0\" >83.63</td>\n",
       "                        <td id=\"T_8dcbb27c_1402_11ec_aa00_1e007914d071row9_col1\" class=\"data row9 col1\" >83.37</td>\n",
       "                        <td id=\"T_8dcbb27c_1402_11ec_aa00_1e007914d071row9_col2\" class=\"data row9 col2\" >84.33</td>\n",
       "                        <td id=\"T_8dcbb27c_1402_11ec_aa00_1e007914d071row9_col3\" class=\"data row9 col3\" >84.12</td>\n",
       "            </tr>\n",
       "            <tr>\n",
       "                        <th id=\"T_8dcbb27c_1402_11ec_aa00_1e007914d071level0_row10\" class=\"row_heading level0 row10\" >Rodriguez High School</th>\n",
       "                        <td id=\"T_8dcbb27c_1402_11ec_aa00_1e007914d071row10_col0\" class=\"data row10 col0\" >76.86</td>\n",
       "                        <td id=\"T_8dcbb27c_1402_11ec_aa00_1e007914d071row10_col1\" class=\"data row10 col1\" >76.61</td>\n",
       "                        <td id=\"T_8dcbb27c_1402_11ec_aa00_1e007914d071row10_col2\" class=\"data row10 col2\" >76.40</td>\n",
       "                        <td id=\"T_8dcbb27c_1402_11ec_aa00_1e007914d071row10_col3\" class=\"data row10 col3\" >77.69</td>\n",
       "            </tr>\n",
       "            <tr>\n",
       "                        <th id=\"T_8dcbb27c_1402_11ec_aa00_1e007914d071level0_row11\" class=\"row_heading level0 row11\" >Shelton High School</th>\n",
       "                        <td id=\"T_8dcbb27c_1402_11ec_aa00_1e007914d071row11_col0\" class=\"data row11 col0\" >83.42</td>\n",
       "                        <td id=\"T_8dcbb27c_1402_11ec_aa00_1e007914d071row11_col1\" class=\"data row11 col1\" >82.92</td>\n",
       "                        <td id=\"T_8dcbb27c_1402_11ec_aa00_1e007914d071row11_col2\" class=\"data row11 col2\" >83.38</td>\n",
       "                        <td id=\"T_8dcbb27c_1402_11ec_aa00_1e007914d071row11_col3\" class=\"data row11 col3\" >83.78</td>\n",
       "            </tr>\n",
       "            <tr>\n",
       "                        <th id=\"T_8dcbb27c_1402_11ec_aa00_1e007914d071level0_row12\" class=\"row_heading level0 row12\" >Thomas High School</th>\n",
       "                        <td id=\"T_8dcbb27c_1402_11ec_aa00_1e007914d071row12_col0\" class=\"data row12 col0\" >83.59</td>\n",
       "                        <td id=\"T_8dcbb27c_1402_11ec_aa00_1e007914d071row12_col1\" class=\"data row12 col1\" >83.09</td>\n",
       "                        <td id=\"T_8dcbb27c_1402_11ec_aa00_1e007914d071row12_col2\" class=\"data row12 col2\" >83.50</td>\n",
       "                        <td id=\"T_8dcbb27c_1402_11ec_aa00_1e007914d071row12_col3\" class=\"data row12 col3\" >83.50</td>\n",
       "            </tr>\n",
       "            <tr>\n",
       "                        <th id=\"T_8dcbb27c_1402_11ec_aa00_1e007914d071level0_row13\" class=\"row_heading level0 row13\" >Wilson High School</th>\n",
       "                        <td id=\"T_8dcbb27c_1402_11ec_aa00_1e007914d071row13_col0\" class=\"data row13 col0\" >83.09</td>\n",
       "                        <td id=\"T_8dcbb27c_1402_11ec_aa00_1e007914d071row13_col1\" class=\"data row13 col1\" >83.72</td>\n",
       "                        <td id=\"T_8dcbb27c_1402_11ec_aa00_1e007914d071row13_col2\" class=\"data row13 col2\" >83.20</td>\n",
       "                        <td id=\"T_8dcbb27c_1402_11ec_aa00_1e007914d071row13_col3\" class=\"data row13 col3\" >83.04</td>\n",
       "            </tr>\n",
       "            <tr>\n",
       "                        <th id=\"T_8dcbb27c_1402_11ec_aa00_1e007914d071level0_row14\" class=\"row_heading level0 row14\" >Wright High School</th>\n",
       "                        <td id=\"T_8dcbb27c_1402_11ec_aa00_1e007914d071row14_col0\" class=\"data row14 col0\" >83.26</td>\n",
       "                        <td id=\"T_8dcbb27c_1402_11ec_aa00_1e007914d071row14_col1\" class=\"data row14 col1\" >84.01</td>\n",
       "                        <td id=\"T_8dcbb27c_1402_11ec_aa00_1e007914d071row14_col2\" class=\"data row14 col2\" >83.84</td>\n",
       "                        <td id=\"T_8dcbb27c_1402_11ec_aa00_1e007914d071row14_col3\" class=\"data row14 col3\" >83.64</td>\n",
       "            </tr>\n",
       "    </tbody></table>"
      ],
      "text/plain": [
       "<pandas.io.formats.style.Styler at 0x7f7f014a1850>"
      ]
     },
     "execution_count": 75,
     "metadata": {},
     "output_type": "execute_result"
    }
   ],
   "source": [
    "#Do a style format to 2 decimal places\n",
    "#show and format\n",
    "dfMathScoresByGrade.style.format({\n",
    "                                  \"9th\": \"{:.2f}\", \n",
    "                                  \"10th\": \"{:.2f}\", \n",
    "                                  \"11th\": \"{:.2f}\", \n",
    "                                  \"12th\": \"{:.2f}\"})"
   ]
  },
  {
   "cell_type": "markdown",
   "metadata": {},
   "source": [
    "## Reading Score by Grade "
   ]
  },
  {
   "cell_type": "markdown",
   "metadata": {},
   "source": [
    "* Perform the same operations as above for reading scores"
   ]
  },
  {
   "cell_type": "code",
   "execution_count": 76,
   "metadata": {},
   "outputs": [],
   "source": [
    "#As seen below"
   ]
  },
  {
   "cell_type": "code",
   "execution_count": 77,
   "metadata": {},
   "outputs": [],
   "source": [
    "dfRead_byGrade = student_data.copy()\n",
    "#can reuse grade dfNine,dfTenth, dfEleventh, dfTwelve filters\n",
    "#so need to group by reading grades"
   ]
  },
  {
   "cell_type": "code",
   "execution_count": 78,
   "metadata": {},
   "outputs": [
    {
     "data": {
      "text/plain": [
       "school_name\n",
       "Bailey High School       81.303155\n",
       "Cabrera High School      83.676136\n",
       "Figueroa High School     81.198598\n",
       "Ford High School         80.632653\n",
       "Griffin High School      83.369193\n",
       "Hernandez High School    80.866860\n",
       "Holden High School       83.677165\n",
       "Huang High School        81.290284\n",
       "Johnson High School      81.260714\n",
       "Pena High School         83.807273\n",
       "Rodriguez High School    80.993127\n",
       "Shelton High School      84.122642\n",
       "Thomas High School       83.728850\n",
       "Wilson High School       83.939778\n",
       "Wright High School       83.833333\n",
       "Name: reading_score, dtype: float64"
      ]
     },
     "execution_count": 78,
     "metadata": {},
     "output_type": "execute_result"
    }
   ],
   "source": [
    "#ninth grade series by school\n",
    "gdfNineR=dfNine.groupby(['school_name']).mean()['reading_score']\n",
    "gdfNineR"
   ]
  },
  {
   "cell_type": "code",
   "execution_count": 79,
   "metadata": {},
   "outputs": [
    {
     "data": {
      "text/plain": [
       "school_name\n",
       "Bailey High School       80.907183\n",
       "Cabrera High School      84.253219\n",
       "Figueroa High School     81.408912\n",
       "Ford High School         81.262712\n",
       "Griffin High School      83.706897\n",
       "Hernandez High School    80.660147\n",
       "Holden High School       83.324561\n",
       "Huang High School        81.512386\n",
       "Johnson High School      80.773431\n",
       "Pena High School         83.612000\n",
       "Rodriguez High School    80.629808\n",
       "Shelton High School      83.441964\n",
       "Thomas High School       84.254157\n",
       "Wilson High School       84.021452\n",
       "Wright High School       83.812757\n",
       "Name: reading_score, dtype: float64"
      ]
     },
     "execution_count": 79,
     "metadata": {},
     "output_type": "execute_result"
    }
   ],
   "source": [
    "#tenth grade series by school\n",
    "gdfTenthR=dfTenth.groupby(['school_name']).mean()['reading_score']\n",
    "gdfTenthR"
   ]
  },
  {
   "cell_type": "code",
   "execution_count": 80,
   "metadata": {},
   "outputs": [
    {
     "data": {
      "text/plain": [
       "school_name\n",
       "Bailey High School       80.945643\n",
       "Cabrera High School      83.788382\n",
       "Figueroa High School     80.640339\n",
       "Ford High School         80.403642\n",
       "Griffin High School      84.288089\n",
       "Hernandez High School    81.396140\n",
       "Holden High School       83.815534\n",
       "Huang High School        81.417476\n",
       "Johnson High School      80.616027\n",
       "Pena High School         84.335938\n",
       "Rodriguez High School    80.864811\n",
       "Shelton High School      84.373786\n",
       "Thomas High School       83.585542\n",
       "Wilson High School       83.764608\n",
       "Wright High School       84.156322\n",
       "Name: reading_score, dtype: float64"
      ]
     },
     "execution_count": 80,
     "metadata": {},
     "output_type": "execute_result"
    }
   ],
   "source": [
    "#eleventh grade series by school\n",
    "gdfEleventhR=dfEleventh.groupby(['school_name']).mean()['reading_score']\n",
    "gdfEleventhR"
   ]
  },
  {
   "cell_type": "code",
   "execution_count": 81,
   "metadata": {},
   "outputs": [
    {
     "data": {
      "text/plain": [
       "school_name\n",
       "Bailey High School       80.912451\n",
       "Cabrera High School      84.287958\n",
       "Figueroa High School     81.384863\n",
       "Ford High School         80.662338\n",
       "Griffin High School      84.013699\n",
       "Hernandez High School    80.857143\n",
       "Holden High School       84.698795\n",
       "Huang High School        80.305983\n",
       "Johnson High School      81.227564\n",
       "Pena High School         84.591160\n",
       "Rodriguez High School    80.376426\n",
       "Shelton High School      82.781671\n",
       "Thomas High School       83.831361\n",
       "Wilson High School       84.317673\n",
       "Wright High School       84.073171\n",
       "Name: reading_score, dtype: float64"
      ]
     },
     "execution_count": 81,
     "metadata": {},
     "output_type": "execute_result"
    }
   ],
   "source": [
    "#twelth grade series by school\n",
    "gdfTwelveR=dfTwelve.groupby(['school_name']).mean()['reading_score']\n",
    "gdfTwelveR"
   ]
  },
  {
   "cell_type": "markdown",
   "metadata": {},
   "source": [
    "## Reading Scores By Grade (unformatted):"
   ]
  },
  {
   "cell_type": "code",
   "execution_count": 82,
   "metadata": {},
   "outputs": [
    {
     "data": {
      "text/html": [
       "<div>\n",
       "<style scoped>\n",
       "    .dataframe tbody tr th:only-of-type {\n",
       "        vertical-align: middle;\n",
       "    }\n",
       "\n",
       "    .dataframe tbody tr th {\n",
       "        vertical-align: top;\n",
       "    }\n",
       "\n",
       "    .dataframe thead th {\n",
       "        text-align: right;\n",
       "    }\n",
       "</style>\n",
       "<table border=\"1\" class=\"dataframe\">\n",
       "  <thead>\n",
       "    <tr style=\"text-align: right;\">\n",
       "      <th></th>\n",
       "      <th>9th</th>\n",
       "      <th>10th</th>\n",
       "      <th>11th</th>\n",
       "      <th>12th</th>\n",
       "    </tr>\n",
       "    <tr>\n",
       "      <th>school_name</th>\n",
       "      <th></th>\n",
       "      <th></th>\n",
       "      <th></th>\n",
       "      <th></th>\n",
       "    </tr>\n",
       "  </thead>\n",
       "  <tbody>\n",
       "    <tr>\n",
       "      <th>Bailey High School</th>\n",
       "      <td>81.303155</td>\n",
       "      <td>80.907183</td>\n",
       "      <td>80.945643</td>\n",
       "      <td>80.912451</td>\n",
       "    </tr>\n",
       "    <tr>\n",
       "      <th>Cabrera High School</th>\n",
       "      <td>83.676136</td>\n",
       "      <td>84.253219</td>\n",
       "      <td>83.788382</td>\n",
       "      <td>84.287958</td>\n",
       "    </tr>\n",
       "    <tr>\n",
       "      <th>Figueroa High School</th>\n",
       "      <td>81.198598</td>\n",
       "      <td>81.408912</td>\n",
       "      <td>80.640339</td>\n",
       "      <td>81.384863</td>\n",
       "    </tr>\n",
       "    <tr>\n",
       "      <th>Ford High School</th>\n",
       "      <td>80.632653</td>\n",
       "      <td>81.262712</td>\n",
       "      <td>80.403642</td>\n",
       "      <td>80.662338</td>\n",
       "    </tr>\n",
       "    <tr>\n",
       "      <th>Griffin High School</th>\n",
       "      <td>83.369193</td>\n",
       "      <td>83.706897</td>\n",
       "      <td>84.288089</td>\n",
       "      <td>84.013699</td>\n",
       "    </tr>\n",
       "    <tr>\n",
       "      <th>Hernandez High School</th>\n",
       "      <td>80.866860</td>\n",
       "      <td>80.660147</td>\n",
       "      <td>81.396140</td>\n",
       "      <td>80.857143</td>\n",
       "    </tr>\n",
       "    <tr>\n",
       "      <th>Holden High School</th>\n",
       "      <td>83.677165</td>\n",
       "      <td>83.324561</td>\n",
       "      <td>83.815534</td>\n",
       "      <td>84.698795</td>\n",
       "    </tr>\n",
       "    <tr>\n",
       "      <th>Huang High School</th>\n",
       "      <td>81.290284</td>\n",
       "      <td>81.512386</td>\n",
       "      <td>81.417476</td>\n",
       "      <td>80.305983</td>\n",
       "    </tr>\n",
       "    <tr>\n",
       "      <th>Johnson High School</th>\n",
       "      <td>81.260714</td>\n",
       "      <td>80.773431</td>\n",
       "      <td>80.616027</td>\n",
       "      <td>81.227564</td>\n",
       "    </tr>\n",
       "    <tr>\n",
       "      <th>Pena High School</th>\n",
       "      <td>83.807273</td>\n",
       "      <td>83.612000</td>\n",
       "      <td>84.335938</td>\n",
       "      <td>84.591160</td>\n",
       "    </tr>\n",
       "    <tr>\n",
       "      <th>Rodriguez High School</th>\n",
       "      <td>80.993127</td>\n",
       "      <td>80.629808</td>\n",
       "      <td>80.864811</td>\n",
       "      <td>80.376426</td>\n",
       "    </tr>\n",
       "    <tr>\n",
       "      <th>Shelton High School</th>\n",
       "      <td>84.122642</td>\n",
       "      <td>83.441964</td>\n",
       "      <td>84.373786</td>\n",
       "      <td>82.781671</td>\n",
       "    </tr>\n",
       "    <tr>\n",
       "      <th>Thomas High School</th>\n",
       "      <td>83.728850</td>\n",
       "      <td>84.254157</td>\n",
       "      <td>83.585542</td>\n",
       "      <td>83.831361</td>\n",
       "    </tr>\n",
       "    <tr>\n",
       "      <th>Wilson High School</th>\n",
       "      <td>83.939778</td>\n",
       "      <td>84.021452</td>\n",
       "      <td>83.764608</td>\n",
       "      <td>84.317673</td>\n",
       "    </tr>\n",
       "    <tr>\n",
       "      <th>Wright High School</th>\n",
       "      <td>83.833333</td>\n",
       "      <td>83.812757</td>\n",
       "      <td>84.156322</td>\n",
       "      <td>84.073171</td>\n",
       "    </tr>\n",
       "  </tbody>\n",
       "</table>\n",
       "</div>"
      ],
      "text/plain": [
       "                             9th       10th       11th       12th\n",
       "school_name                                                      \n",
       "Bailey High School     81.303155  80.907183  80.945643  80.912451\n",
       "Cabrera High School    83.676136  84.253219  83.788382  84.287958\n",
       "Figueroa High School   81.198598  81.408912  80.640339  81.384863\n",
       "Ford High School       80.632653  81.262712  80.403642  80.662338\n",
       "Griffin High School    83.369193  83.706897  84.288089  84.013699\n",
       "Hernandez High School  80.866860  80.660147  81.396140  80.857143\n",
       "Holden High School     83.677165  83.324561  83.815534  84.698795\n",
       "Huang High School      81.290284  81.512386  81.417476  80.305983\n",
       "Johnson High School    81.260714  80.773431  80.616027  81.227564\n",
       "Pena High School       83.807273  83.612000  84.335938  84.591160\n",
       "Rodriguez High School  80.993127  80.629808  80.864811  80.376426\n",
       "Shelton High School    84.122642  83.441964  84.373786  82.781671\n",
       "Thomas High School     83.728850  84.254157  83.585542  83.831361\n",
       "Wilson High School     83.939778  84.021452  83.764608  84.317673\n",
       "Wright High School     83.833333  83.812757  84.156322  84.073171"
      ]
     },
     "execution_count": 82,
     "metadata": {},
     "output_type": "execute_result"
    }
   ],
   "source": [
    "#Combine the series into a dataframe\n",
    "dfReadingScoresByGrade = pd.DataFrame({\"9th\":gdfNineR,\n",
    "                                    \"10th\":gdfTenthR,\n",
    "                                    \"11th\":gdfEleventhR,\n",
    "                                    \"12th\":gdfTwelveR\n",
    "                                   })\n",
    "dfReadingScoresByGrade"
   ]
  },
  {
   "cell_type": "code",
   "execution_count": 83,
   "metadata": {},
   "outputs": [],
   "source": [
    "#Make the DataFrame Table look nice:\n",
    "#Set the index to not have a name\n",
    "dfReadingScoresByGrade.index.name =\"School Name:\""
   ]
  },
  {
   "cell_type": "markdown",
   "metadata": {},
   "source": [
    "## Reading Scores By Grade (formatted):"
   ]
  },
  {
   "cell_type": "code",
   "execution_count": 84,
   "metadata": {},
   "outputs": [
    {
     "data": {
      "text/html": [
       "<style  type=\"text/css\" >\n",
       "</style><table id=\"T_8dd604ac_1402_11ec_aa00_1e007914d071\" ><thead>    <tr>        <th class=\"blank level0\" ></th>        <th class=\"col_heading level0 col0\" >9th</th>        <th class=\"col_heading level0 col1\" >10th</th>        <th class=\"col_heading level0 col2\" >11th</th>        <th class=\"col_heading level0 col3\" >12th</th>    </tr>    <tr>        <th class=\"index_name level0\" >School Name:</th>        <th class=\"blank\" ></th>        <th class=\"blank\" ></th>        <th class=\"blank\" ></th>        <th class=\"blank\" ></th>    </tr></thead><tbody>\n",
       "                <tr>\n",
       "                        <th id=\"T_8dd604ac_1402_11ec_aa00_1e007914d071level0_row0\" class=\"row_heading level0 row0\" >Bailey High School</th>\n",
       "                        <td id=\"T_8dd604ac_1402_11ec_aa00_1e007914d071row0_col0\" class=\"data row0 col0\" >81.30</td>\n",
       "                        <td id=\"T_8dd604ac_1402_11ec_aa00_1e007914d071row0_col1\" class=\"data row0 col1\" >80.91</td>\n",
       "                        <td id=\"T_8dd604ac_1402_11ec_aa00_1e007914d071row0_col2\" class=\"data row0 col2\" >80.95</td>\n",
       "                        <td id=\"T_8dd604ac_1402_11ec_aa00_1e007914d071row0_col3\" class=\"data row0 col3\" >80.91</td>\n",
       "            </tr>\n",
       "            <tr>\n",
       "                        <th id=\"T_8dd604ac_1402_11ec_aa00_1e007914d071level0_row1\" class=\"row_heading level0 row1\" >Cabrera High School</th>\n",
       "                        <td id=\"T_8dd604ac_1402_11ec_aa00_1e007914d071row1_col0\" class=\"data row1 col0\" >83.68</td>\n",
       "                        <td id=\"T_8dd604ac_1402_11ec_aa00_1e007914d071row1_col1\" class=\"data row1 col1\" >84.25</td>\n",
       "                        <td id=\"T_8dd604ac_1402_11ec_aa00_1e007914d071row1_col2\" class=\"data row1 col2\" >83.79</td>\n",
       "                        <td id=\"T_8dd604ac_1402_11ec_aa00_1e007914d071row1_col3\" class=\"data row1 col3\" >84.29</td>\n",
       "            </tr>\n",
       "            <tr>\n",
       "                        <th id=\"T_8dd604ac_1402_11ec_aa00_1e007914d071level0_row2\" class=\"row_heading level0 row2\" >Figueroa High School</th>\n",
       "                        <td id=\"T_8dd604ac_1402_11ec_aa00_1e007914d071row2_col0\" class=\"data row2 col0\" >81.20</td>\n",
       "                        <td id=\"T_8dd604ac_1402_11ec_aa00_1e007914d071row2_col1\" class=\"data row2 col1\" >81.41</td>\n",
       "                        <td id=\"T_8dd604ac_1402_11ec_aa00_1e007914d071row2_col2\" class=\"data row2 col2\" >80.64</td>\n",
       "                        <td id=\"T_8dd604ac_1402_11ec_aa00_1e007914d071row2_col3\" class=\"data row2 col3\" >81.38</td>\n",
       "            </tr>\n",
       "            <tr>\n",
       "                        <th id=\"T_8dd604ac_1402_11ec_aa00_1e007914d071level0_row3\" class=\"row_heading level0 row3\" >Ford High School</th>\n",
       "                        <td id=\"T_8dd604ac_1402_11ec_aa00_1e007914d071row3_col0\" class=\"data row3 col0\" >80.63</td>\n",
       "                        <td id=\"T_8dd604ac_1402_11ec_aa00_1e007914d071row3_col1\" class=\"data row3 col1\" >81.26</td>\n",
       "                        <td id=\"T_8dd604ac_1402_11ec_aa00_1e007914d071row3_col2\" class=\"data row3 col2\" >80.40</td>\n",
       "                        <td id=\"T_8dd604ac_1402_11ec_aa00_1e007914d071row3_col3\" class=\"data row3 col3\" >80.66</td>\n",
       "            </tr>\n",
       "            <tr>\n",
       "                        <th id=\"T_8dd604ac_1402_11ec_aa00_1e007914d071level0_row4\" class=\"row_heading level0 row4\" >Griffin High School</th>\n",
       "                        <td id=\"T_8dd604ac_1402_11ec_aa00_1e007914d071row4_col0\" class=\"data row4 col0\" >83.37</td>\n",
       "                        <td id=\"T_8dd604ac_1402_11ec_aa00_1e007914d071row4_col1\" class=\"data row4 col1\" >83.71</td>\n",
       "                        <td id=\"T_8dd604ac_1402_11ec_aa00_1e007914d071row4_col2\" class=\"data row4 col2\" >84.29</td>\n",
       "                        <td id=\"T_8dd604ac_1402_11ec_aa00_1e007914d071row4_col3\" class=\"data row4 col3\" >84.01</td>\n",
       "            </tr>\n",
       "            <tr>\n",
       "                        <th id=\"T_8dd604ac_1402_11ec_aa00_1e007914d071level0_row5\" class=\"row_heading level0 row5\" >Hernandez High School</th>\n",
       "                        <td id=\"T_8dd604ac_1402_11ec_aa00_1e007914d071row5_col0\" class=\"data row5 col0\" >80.87</td>\n",
       "                        <td id=\"T_8dd604ac_1402_11ec_aa00_1e007914d071row5_col1\" class=\"data row5 col1\" >80.66</td>\n",
       "                        <td id=\"T_8dd604ac_1402_11ec_aa00_1e007914d071row5_col2\" class=\"data row5 col2\" >81.40</td>\n",
       "                        <td id=\"T_8dd604ac_1402_11ec_aa00_1e007914d071row5_col3\" class=\"data row5 col3\" >80.86</td>\n",
       "            </tr>\n",
       "            <tr>\n",
       "                        <th id=\"T_8dd604ac_1402_11ec_aa00_1e007914d071level0_row6\" class=\"row_heading level0 row6\" >Holden High School</th>\n",
       "                        <td id=\"T_8dd604ac_1402_11ec_aa00_1e007914d071row6_col0\" class=\"data row6 col0\" >83.68</td>\n",
       "                        <td id=\"T_8dd604ac_1402_11ec_aa00_1e007914d071row6_col1\" class=\"data row6 col1\" >83.32</td>\n",
       "                        <td id=\"T_8dd604ac_1402_11ec_aa00_1e007914d071row6_col2\" class=\"data row6 col2\" >83.82</td>\n",
       "                        <td id=\"T_8dd604ac_1402_11ec_aa00_1e007914d071row6_col3\" class=\"data row6 col3\" >84.70</td>\n",
       "            </tr>\n",
       "            <tr>\n",
       "                        <th id=\"T_8dd604ac_1402_11ec_aa00_1e007914d071level0_row7\" class=\"row_heading level0 row7\" >Huang High School</th>\n",
       "                        <td id=\"T_8dd604ac_1402_11ec_aa00_1e007914d071row7_col0\" class=\"data row7 col0\" >81.29</td>\n",
       "                        <td id=\"T_8dd604ac_1402_11ec_aa00_1e007914d071row7_col1\" class=\"data row7 col1\" >81.51</td>\n",
       "                        <td id=\"T_8dd604ac_1402_11ec_aa00_1e007914d071row7_col2\" class=\"data row7 col2\" >81.42</td>\n",
       "                        <td id=\"T_8dd604ac_1402_11ec_aa00_1e007914d071row7_col3\" class=\"data row7 col3\" >80.31</td>\n",
       "            </tr>\n",
       "            <tr>\n",
       "                        <th id=\"T_8dd604ac_1402_11ec_aa00_1e007914d071level0_row8\" class=\"row_heading level0 row8\" >Johnson High School</th>\n",
       "                        <td id=\"T_8dd604ac_1402_11ec_aa00_1e007914d071row8_col0\" class=\"data row8 col0\" >81.26</td>\n",
       "                        <td id=\"T_8dd604ac_1402_11ec_aa00_1e007914d071row8_col1\" class=\"data row8 col1\" >80.77</td>\n",
       "                        <td id=\"T_8dd604ac_1402_11ec_aa00_1e007914d071row8_col2\" class=\"data row8 col2\" >80.62</td>\n",
       "                        <td id=\"T_8dd604ac_1402_11ec_aa00_1e007914d071row8_col3\" class=\"data row8 col3\" >81.23</td>\n",
       "            </tr>\n",
       "            <tr>\n",
       "                        <th id=\"T_8dd604ac_1402_11ec_aa00_1e007914d071level0_row9\" class=\"row_heading level0 row9\" >Pena High School</th>\n",
       "                        <td id=\"T_8dd604ac_1402_11ec_aa00_1e007914d071row9_col0\" class=\"data row9 col0\" >83.81</td>\n",
       "                        <td id=\"T_8dd604ac_1402_11ec_aa00_1e007914d071row9_col1\" class=\"data row9 col1\" >83.61</td>\n",
       "                        <td id=\"T_8dd604ac_1402_11ec_aa00_1e007914d071row9_col2\" class=\"data row9 col2\" >84.34</td>\n",
       "                        <td id=\"T_8dd604ac_1402_11ec_aa00_1e007914d071row9_col3\" class=\"data row9 col3\" >84.59</td>\n",
       "            </tr>\n",
       "            <tr>\n",
       "                        <th id=\"T_8dd604ac_1402_11ec_aa00_1e007914d071level0_row10\" class=\"row_heading level0 row10\" >Rodriguez High School</th>\n",
       "                        <td id=\"T_8dd604ac_1402_11ec_aa00_1e007914d071row10_col0\" class=\"data row10 col0\" >80.99</td>\n",
       "                        <td id=\"T_8dd604ac_1402_11ec_aa00_1e007914d071row10_col1\" class=\"data row10 col1\" >80.63</td>\n",
       "                        <td id=\"T_8dd604ac_1402_11ec_aa00_1e007914d071row10_col2\" class=\"data row10 col2\" >80.86</td>\n",
       "                        <td id=\"T_8dd604ac_1402_11ec_aa00_1e007914d071row10_col3\" class=\"data row10 col3\" >80.38</td>\n",
       "            </tr>\n",
       "            <tr>\n",
       "                        <th id=\"T_8dd604ac_1402_11ec_aa00_1e007914d071level0_row11\" class=\"row_heading level0 row11\" >Shelton High School</th>\n",
       "                        <td id=\"T_8dd604ac_1402_11ec_aa00_1e007914d071row11_col0\" class=\"data row11 col0\" >84.12</td>\n",
       "                        <td id=\"T_8dd604ac_1402_11ec_aa00_1e007914d071row11_col1\" class=\"data row11 col1\" >83.44</td>\n",
       "                        <td id=\"T_8dd604ac_1402_11ec_aa00_1e007914d071row11_col2\" class=\"data row11 col2\" >84.37</td>\n",
       "                        <td id=\"T_8dd604ac_1402_11ec_aa00_1e007914d071row11_col3\" class=\"data row11 col3\" >82.78</td>\n",
       "            </tr>\n",
       "            <tr>\n",
       "                        <th id=\"T_8dd604ac_1402_11ec_aa00_1e007914d071level0_row12\" class=\"row_heading level0 row12\" >Thomas High School</th>\n",
       "                        <td id=\"T_8dd604ac_1402_11ec_aa00_1e007914d071row12_col0\" class=\"data row12 col0\" >83.73</td>\n",
       "                        <td id=\"T_8dd604ac_1402_11ec_aa00_1e007914d071row12_col1\" class=\"data row12 col1\" >84.25</td>\n",
       "                        <td id=\"T_8dd604ac_1402_11ec_aa00_1e007914d071row12_col2\" class=\"data row12 col2\" >83.59</td>\n",
       "                        <td id=\"T_8dd604ac_1402_11ec_aa00_1e007914d071row12_col3\" class=\"data row12 col3\" >83.83</td>\n",
       "            </tr>\n",
       "            <tr>\n",
       "                        <th id=\"T_8dd604ac_1402_11ec_aa00_1e007914d071level0_row13\" class=\"row_heading level0 row13\" >Wilson High School</th>\n",
       "                        <td id=\"T_8dd604ac_1402_11ec_aa00_1e007914d071row13_col0\" class=\"data row13 col0\" >83.94</td>\n",
       "                        <td id=\"T_8dd604ac_1402_11ec_aa00_1e007914d071row13_col1\" class=\"data row13 col1\" >84.02</td>\n",
       "                        <td id=\"T_8dd604ac_1402_11ec_aa00_1e007914d071row13_col2\" class=\"data row13 col2\" >83.76</td>\n",
       "                        <td id=\"T_8dd604ac_1402_11ec_aa00_1e007914d071row13_col3\" class=\"data row13 col3\" >84.32</td>\n",
       "            </tr>\n",
       "            <tr>\n",
       "                        <th id=\"T_8dd604ac_1402_11ec_aa00_1e007914d071level0_row14\" class=\"row_heading level0 row14\" >Wright High School</th>\n",
       "                        <td id=\"T_8dd604ac_1402_11ec_aa00_1e007914d071row14_col0\" class=\"data row14 col0\" >83.83</td>\n",
       "                        <td id=\"T_8dd604ac_1402_11ec_aa00_1e007914d071row14_col1\" class=\"data row14 col1\" >83.81</td>\n",
       "                        <td id=\"T_8dd604ac_1402_11ec_aa00_1e007914d071row14_col2\" class=\"data row14 col2\" >84.16</td>\n",
       "                        <td id=\"T_8dd604ac_1402_11ec_aa00_1e007914d071row14_col3\" class=\"data row14 col3\" >84.07</td>\n",
       "            </tr>\n",
       "    </tbody></table>"
      ],
      "text/plain": [
       "<pandas.io.formats.style.Styler at 0x7f7ef07e5700>"
      ]
     },
     "execution_count": 84,
     "metadata": {},
     "output_type": "execute_result"
    }
   ],
   "source": [
    "#Do a style format to 2 decimal places\n",
    "#show and format\n",
    "dfReadingScoresByGrade.style.format({\n",
    "                                  \"9th\": \"{:.2f}\", \n",
    "                                  \"10th\": \"{:.2f}\", \n",
    "                                  \"11th\": \"{:.2f}\", \n",
    "                                  \"12th\": \"{:.2f}\"})"
   ]
  },
  {
   "cell_type": "markdown",
   "metadata": {},
   "source": [
    "## Scores by School Spending"
   ]
  },
  {
   "cell_type": "markdown",
   "metadata": {},
   "source": [
    "* Create a table that breaks down school performances based on average Spending Ranges (Per Student). Use 4 reasonable bins to group school spending. Include in the table each of the following:\n",
    "  * Average Math Score\n",
    "  * Average Reading Score\n",
    "  * % Passing Math\n",
    "  * % Passing Reading\n",
    "  * Overall Passing Rate (Average of the above two)"
   ]
  },
  {
   "cell_type": "code",
   "execution_count": 85,
   "metadata": {},
   "outputs": [],
   "source": [
    "# As seen below:"
   ]
  },
  {
   "cell_type": "code",
   "execution_count": 86,
   "metadata": {},
   "outputs": [
    {
     "data": {
      "text/html": [
       "<div>\n",
       "<style scoped>\n",
       "    .dataframe tbody tr th:only-of-type {\n",
       "        vertical-align: middle;\n",
       "    }\n",
       "\n",
       "    .dataframe tbody tr th {\n",
       "        vertical-align: top;\n",
       "    }\n",
       "\n",
       "    .dataframe thead th {\n",
       "        text-align: right;\n",
       "    }\n",
       "</style>\n",
       "<table border=\"1\" class=\"dataframe\">\n",
       "  <thead>\n",
       "    <tr style=\"text-align: right;\">\n",
       "      <th></th>\n",
       "      <th>School Type</th>\n",
       "      <th>Total Students</th>\n",
       "      <th>Total School Budget</th>\n",
       "      <th>Per Student Budget</th>\n",
       "      <th>Average Math Score</th>\n",
       "      <th>Average Reading Score</th>\n",
       "      <th>% Passing Math</th>\n",
       "      <th>% Passing Reading</th>\n",
       "      <th>% Overall Passing</th>\n",
       "    </tr>\n",
       "    <tr>\n",
       "      <th></th>\n",
       "      <th></th>\n",
       "      <th></th>\n",
       "      <th></th>\n",
       "      <th></th>\n",
       "      <th></th>\n",
       "      <th></th>\n",
       "      <th></th>\n",
       "      <th></th>\n",
       "      <th></th>\n",
       "    </tr>\n",
       "  </thead>\n",
       "  <tbody>\n",
       "    <tr>\n",
       "      <th>Bailey High School</th>\n",
       "      <td>District</td>\n",
       "      <td>4976</td>\n",
       "      <td>3124928</td>\n",
       "      <td>628.0</td>\n",
       "      <td>77.048432</td>\n",
       "      <td>81.033963</td>\n",
       "      <td>66.680064</td>\n",
       "      <td>81.93328</td>\n",
       "      <td>54.642283</td>\n",
       "    </tr>\n",
       "  </tbody>\n",
       "</table>\n",
       "</div>"
      ],
      "text/plain": [
       "                   School Type  Total Students  Total School Budget  \\\n",
       "                                                                      \n",
       "Bailey High School    District            4976              3124928   \n",
       "\n",
       "                    Per Student Budget  Average Math Score  \\\n",
       "                                                             \n",
       "Bailey High School               628.0           77.048432   \n",
       "\n",
       "                    Average Reading Score  % Passing Math  % Passing Reading  \\\n",
       "                                                                               \n",
       "Bailey High School              81.033963       66.680064           81.93328   \n",
       "\n",
       "                    % Overall Passing  \n",
       "                                       \n",
       "Bailey High School          54.642283  "
      ]
     },
     "execution_count": 86,
     "metadata": {},
     "output_type": "execute_result"
    }
   ],
   "source": [
    "#Look at what have in school summary\n",
    "school_summary.head(1)"
   ]
  },
  {
   "cell_type": "code",
   "execution_count": 87,
   "metadata": {},
   "outputs": [
    {
     "data": {
      "text/html": [
       "<div>\n",
       "<style scoped>\n",
       "    .dataframe tbody tr th:only-of-type {\n",
       "        vertical-align: middle;\n",
       "    }\n",
       "\n",
       "    .dataframe tbody tr th {\n",
       "        vertical-align: top;\n",
       "    }\n",
       "\n",
       "    .dataframe thead th {\n",
       "        text-align: right;\n",
       "    }\n",
       "</style>\n",
       "<table border=\"1\" class=\"dataframe\">\n",
       "  <thead>\n",
       "    <tr style=\"text-align: right;\">\n",
       "      <th></th>\n",
       "      <th>Per Student Budget</th>\n",
       "      <th>Average Math Score</th>\n",
       "      <th>Average Reading Score</th>\n",
       "      <th>% Passing Math</th>\n",
       "      <th>% Passing Reading</th>\n",
       "      <th>% Overall Passing</th>\n",
       "    </tr>\n",
       "  </thead>\n",
       "  <tbody>\n",
       "    <tr>\n",
       "      <th>0</th>\n",
       "      <td>628.0</td>\n",
       "      <td>77.048432</td>\n",
       "      <td>81.033963</td>\n",
       "      <td>66.680064</td>\n",
       "      <td>81.93328</td>\n",
       "      <td>54.642283</td>\n",
       "    </tr>\n",
       "  </tbody>\n",
       "</table>\n",
       "</div>"
      ],
      "text/plain": [
       "   Per Student Budget  Average Math Score  Average Reading Score  \\\n",
       "0               628.0           77.048432              81.033963   \n",
       "\n",
       "   % Passing Math  % Passing Reading  % Overall Passing  \n",
       "0       66.680064           81.93328          54.642283  "
      ]
     },
     "execution_count": 87,
     "metadata": {},
     "output_type": "execute_result"
    }
   ],
   "source": [
    "#Create a DataFrame with the Columns need \n",
    "dfScoresBySchoolSpending = school_summary.copy()\n",
    "del dfScoresBySchoolSpending['School Type']\n",
    "del dfScoresBySchoolSpending['Total Students'] \n",
    "del dfScoresBySchoolSpending['Total School Budget']\n",
    "#remove School Name index with default index\n",
    "dfScoresBySchoolSpending.reset_index(inplace = True, drop = True)\n",
    "dfScoresBySchoolSpending.head(1)"
   ]
  },
  {
   "cell_type": "code",
   "execution_count": 88,
   "metadata": {},
   "outputs": [],
   "source": [
    "#Create bins for the categories we have:\n",
    "lbls =['<$585','$585-630', '$630-645','$645-680']\n",
    "bins = [0,584.999,629.999,644.999,680]\n",
    "#TODO: adjust labels more accurately:\n",
    "#lbls =['<$585','$585-629.99', '$630-644.99','$645-680']"
   ]
  },
  {
   "cell_type": "code",
   "execution_count": 89,
   "metadata": {},
   "outputs": [],
   "source": [
    "#Divide into categories, as they are overlapping???? ASK????\n",
    "#Changed my labels???\n",
    "#Budget per student \n",
    "dfScoresBySchoolSpending['Spending Ranges (Per Student)'] = pd.cut(dfScoresBySchoolSpending['Per Student Budget'], bins, labels = lbls)\n",
    "#school_summary\n"
   ]
  },
  {
   "cell_type": "code",
   "execution_count": 90,
   "metadata": {},
   "outputs": [
    {
     "data": {
      "text/html": [
       "<div>\n",
       "<style scoped>\n",
       "    .dataframe tbody tr th:only-of-type {\n",
       "        vertical-align: middle;\n",
       "    }\n",
       "\n",
       "    .dataframe tbody tr th {\n",
       "        vertical-align: top;\n",
       "    }\n",
       "\n",
       "    .dataframe thead th {\n",
       "        text-align: right;\n",
       "    }\n",
       "</style>\n",
       "<table border=\"1\" class=\"dataframe\">\n",
       "  <thead>\n",
       "    <tr style=\"text-align: right;\">\n",
       "      <th></th>\n",
       "      <th>Per Student Budget</th>\n",
       "      <th>Average Math Score</th>\n",
       "      <th>Average Reading Score</th>\n",
       "      <th>% Passing Math</th>\n",
       "      <th>% Passing Reading</th>\n",
       "      <th>% Overall Passing</th>\n",
       "      <th>Spending Ranges (Per Student)</th>\n",
       "    </tr>\n",
       "  </thead>\n",
       "  <tbody>\n",
       "    <tr>\n",
       "      <th>0</th>\n",
       "      <td>628.0</td>\n",
       "      <td>77.048432</td>\n",
       "      <td>81.033963</td>\n",
       "      <td>66.680064</td>\n",
       "      <td>81.93328</td>\n",
       "      <td>54.642283</td>\n",
       "      <td>$585-630</td>\n",
       "    </tr>\n",
       "  </tbody>\n",
       "</table>\n",
       "</div>"
      ],
      "text/plain": [
       "   Per Student Budget  Average Math Score  Average Reading Score  \\\n",
       "0               628.0           77.048432              81.033963   \n",
       "\n",
       "   % Passing Math  % Passing Reading  % Overall Passing  \\\n",
       "0       66.680064           81.93328          54.642283   \n",
       "\n",
       "  Spending Ranges (Per Student)  \n",
       "0                      $585-630  "
      ]
     },
     "execution_count": 90,
     "metadata": {},
     "output_type": "execute_result"
    }
   ],
   "source": [
    "dfScoresBySchoolSpending.head(1)\n"
   ]
  },
  {
   "cell_type": "code",
   "execution_count": 91,
   "metadata": {},
   "outputs": [],
   "source": [
    "#?? are you taking means of all that are together?\n",
    "#Before grouping delete the Per Student Budget Column\n",
    "del dfScoresBySchoolSpending['Per Student Budget']\n",
    "dfgScoresBySpending = dfScoresBySchoolSpending.groupby('Spending Ranges (Per Student)').mean()"
   ]
  },
  {
   "cell_type": "markdown",
   "metadata": {},
   "source": [
    "## Scores by Spending (unformatted):"
   ]
  },
  {
   "cell_type": "code",
   "execution_count": 92,
   "metadata": {},
   "outputs": [
    {
     "data": {
      "text/html": [
       "<div>\n",
       "<style scoped>\n",
       "    .dataframe tbody tr th:only-of-type {\n",
       "        vertical-align: middle;\n",
       "    }\n",
       "\n",
       "    .dataframe tbody tr th {\n",
       "        vertical-align: top;\n",
       "    }\n",
       "\n",
       "    .dataframe thead th {\n",
       "        text-align: right;\n",
       "    }\n",
       "</style>\n",
       "<table border=\"1\" class=\"dataframe\">\n",
       "  <thead>\n",
       "    <tr style=\"text-align: right;\">\n",
       "      <th></th>\n",
       "      <th>Average Math Score</th>\n",
       "      <th>Average Reading Score</th>\n",
       "      <th>% Passing Math</th>\n",
       "      <th>% Passing Reading</th>\n",
       "      <th>% Overall Passing</th>\n",
       "    </tr>\n",
       "    <tr>\n",
       "      <th>Spending Ranges (Per Student)</th>\n",
       "      <th></th>\n",
       "      <th></th>\n",
       "      <th></th>\n",
       "      <th></th>\n",
       "      <th></th>\n",
       "    </tr>\n",
       "  </thead>\n",
       "  <tbody>\n",
       "    <tr>\n",
       "      <th>&lt;$585</th>\n",
       "      <td>83.455399</td>\n",
       "      <td>83.933814</td>\n",
       "      <td>93.460096</td>\n",
       "      <td>96.610877</td>\n",
       "      <td>90.369459</td>\n",
       "    </tr>\n",
       "    <tr>\n",
       "      <th>$585-630</th>\n",
       "      <td>81.899826</td>\n",
       "      <td>83.155286</td>\n",
       "      <td>87.133538</td>\n",
       "      <td>92.718205</td>\n",
       "      <td>81.418596</td>\n",
       "    </tr>\n",
       "    <tr>\n",
       "      <th>$630-645</th>\n",
       "      <td>78.518855</td>\n",
       "      <td>81.624473</td>\n",
       "      <td>73.484209</td>\n",
       "      <td>84.391793</td>\n",
       "      <td>62.857656</td>\n",
       "    </tr>\n",
       "    <tr>\n",
       "      <th>$645-680</th>\n",
       "      <td>76.997210</td>\n",
       "      <td>81.027843</td>\n",
       "      <td>66.164813</td>\n",
       "      <td>81.133951</td>\n",
       "      <td>53.526855</td>\n",
       "    </tr>\n",
       "  </tbody>\n",
       "</table>\n",
       "</div>"
      ],
      "text/plain": [
       "                               Average Math Score  Average Reading Score  \\\n",
       "Spending Ranges (Per Student)                                              \n",
       "<$585                                   83.455399              83.933814   \n",
       "$585-630                                81.899826              83.155286   \n",
       "$630-645                                78.518855              81.624473   \n",
       "$645-680                                76.997210              81.027843   \n",
       "\n",
       "                               % Passing Math  % Passing Reading  \\\n",
       "Spending Ranges (Per Student)                                      \n",
       "<$585                               93.460096          96.610877   \n",
       "$585-630                            87.133538          92.718205   \n",
       "$630-645                            73.484209          84.391793   \n",
       "$645-680                            66.164813          81.133951   \n",
       "\n",
       "                               % Overall Passing  \n",
       "Spending Ranges (Per Student)                     \n",
       "<$585                                  90.369459  \n",
       "$585-630                               81.418596  \n",
       "$630-645                               62.857656  \n",
       "$645-680                               53.526855  "
      ]
     },
     "execution_count": 92,
     "metadata": {},
     "output_type": "execute_result"
    }
   ],
   "source": [
    "dfgScoresBySpending"
   ]
  },
  {
   "cell_type": "markdown",
   "metadata": {},
   "source": [
    "## Scores by Spending (formatted):"
   ]
  },
  {
   "cell_type": "code",
   "execution_count": 93,
   "metadata": {},
   "outputs": [
    {
     "data": {
      "text/html": [
       "<style  type=\"text/css\" >\n",
       "</style><table id=\"T_8dded104_1402_11ec_aa00_1e007914d071\" ><thead>    <tr>        <th class=\"blank level0\" ></th>        <th class=\"col_heading level0 col0\" >Average Math Score</th>        <th class=\"col_heading level0 col1\" >Average Reading Score</th>        <th class=\"col_heading level0 col2\" >% Passing Math</th>        <th class=\"col_heading level0 col3\" >% Passing Reading</th>        <th class=\"col_heading level0 col4\" >% Overall Passing</th>    </tr>    <tr>        <th class=\"index_name level0\" >Spending Ranges (Per Student)</th>        <th class=\"blank\" ></th>        <th class=\"blank\" ></th>        <th class=\"blank\" ></th>        <th class=\"blank\" ></th>        <th class=\"blank\" ></th>    </tr></thead><tbody>\n",
       "                <tr>\n",
       "                        <th id=\"T_8dded104_1402_11ec_aa00_1e007914d071level0_row0\" class=\"row_heading level0 row0\" ><$585</th>\n",
       "                        <td id=\"T_8dded104_1402_11ec_aa00_1e007914d071row0_col0\" class=\"data row0 col0\" >83.46</td>\n",
       "                        <td id=\"T_8dded104_1402_11ec_aa00_1e007914d071row0_col1\" class=\"data row0 col1\" >83.93</td>\n",
       "                        <td id=\"T_8dded104_1402_11ec_aa00_1e007914d071row0_col2\" class=\"data row0 col2\" >93.46%</td>\n",
       "                        <td id=\"T_8dded104_1402_11ec_aa00_1e007914d071row0_col3\" class=\"data row0 col3\" >96.61%</td>\n",
       "                        <td id=\"T_8dded104_1402_11ec_aa00_1e007914d071row0_col4\" class=\"data row0 col4\" >90.37%</td>\n",
       "            </tr>\n",
       "            <tr>\n",
       "                        <th id=\"T_8dded104_1402_11ec_aa00_1e007914d071level0_row1\" class=\"row_heading level0 row1\" >$585-630</th>\n",
       "                        <td id=\"T_8dded104_1402_11ec_aa00_1e007914d071row1_col0\" class=\"data row1 col0\" >81.90</td>\n",
       "                        <td id=\"T_8dded104_1402_11ec_aa00_1e007914d071row1_col1\" class=\"data row1 col1\" >83.16</td>\n",
       "                        <td id=\"T_8dded104_1402_11ec_aa00_1e007914d071row1_col2\" class=\"data row1 col2\" >87.13%</td>\n",
       "                        <td id=\"T_8dded104_1402_11ec_aa00_1e007914d071row1_col3\" class=\"data row1 col3\" >92.72%</td>\n",
       "                        <td id=\"T_8dded104_1402_11ec_aa00_1e007914d071row1_col4\" class=\"data row1 col4\" >81.42%</td>\n",
       "            </tr>\n",
       "            <tr>\n",
       "                        <th id=\"T_8dded104_1402_11ec_aa00_1e007914d071level0_row2\" class=\"row_heading level0 row2\" >$630-645</th>\n",
       "                        <td id=\"T_8dded104_1402_11ec_aa00_1e007914d071row2_col0\" class=\"data row2 col0\" >78.52</td>\n",
       "                        <td id=\"T_8dded104_1402_11ec_aa00_1e007914d071row2_col1\" class=\"data row2 col1\" >81.62</td>\n",
       "                        <td id=\"T_8dded104_1402_11ec_aa00_1e007914d071row2_col2\" class=\"data row2 col2\" >73.48%</td>\n",
       "                        <td id=\"T_8dded104_1402_11ec_aa00_1e007914d071row2_col3\" class=\"data row2 col3\" >84.39%</td>\n",
       "                        <td id=\"T_8dded104_1402_11ec_aa00_1e007914d071row2_col4\" class=\"data row2 col4\" >62.86%</td>\n",
       "            </tr>\n",
       "            <tr>\n",
       "                        <th id=\"T_8dded104_1402_11ec_aa00_1e007914d071level0_row3\" class=\"row_heading level0 row3\" >$645-680</th>\n",
       "                        <td id=\"T_8dded104_1402_11ec_aa00_1e007914d071row3_col0\" class=\"data row3 col0\" >77.00</td>\n",
       "                        <td id=\"T_8dded104_1402_11ec_aa00_1e007914d071row3_col1\" class=\"data row3 col1\" >81.03</td>\n",
       "                        <td id=\"T_8dded104_1402_11ec_aa00_1e007914d071row3_col2\" class=\"data row3 col2\" >66.16%</td>\n",
       "                        <td id=\"T_8dded104_1402_11ec_aa00_1e007914d071row3_col3\" class=\"data row3 col3\" >81.13%</td>\n",
       "                        <td id=\"T_8dded104_1402_11ec_aa00_1e007914d071row3_col4\" class=\"data row3 col4\" >53.53%</td>\n",
       "            </tr>\n",
       "    </tbody></table>"
      ],
      "text/plain": [
       "<pandas.io.formats.style.Styler at 0x7f7f2193c5e0>"
      ]
     },
     "execution_count": 93,
     "metadata": {},
     "output_type": "execute_result"
    }
   ],
   "source": [
    "#Format the columns\n",
    "dfgScoresBySpending.style.format({\n",
    "                                  'Average Math Score': \"{:.2f}\", \n",
    "                                  'Average Reading Score': \"{:.2f}\", \n",
    "                                  \"% Passing Math\": \"{:.2f}%\", \n",
    "                                  \"% Passing Reading\": \"{:.2f}%\", \n",
    "                                  \"% Overall Passing\": \"{:.2f}%\"})\n"
   ]
  },
  {
   "cell_type": "code",
   "execution_count": null,
   "metadata": {},
   "outputs": [],
   "source": []
  },
  {
   "cell_type": "markdown",
   "metadata": {},
   "source": [
    "## Scores by School Size"
   ]
  },
  {
   "cell_type": "markdown",
   "metadata": {},
   "source": [
    "* Perform the same operations as above, based on school size."
   ]
  },
  {
   "cell_type": "code",
   "execution_count": 94,
   "metadata": {},
   "outputs": [],
   "source": [
    "#Create bins for the categories we have:\n",
    "lbls =['Small (<1000)','Medium (1000-2000)', 'Large (2000-5000)']\n",
    "bins = [0,999,1999,5000]\n",
    "#TODO: adjust labels more accurately:\n",
    "#lbls =['Small (<1000)','Medium (1000-1999)', 'Large (2000-5000)']"
   ]
  },
  {
   "cell_type": "code",
   "execution_count": 95,
   "metadata": {},
   "outputs": [
    {
     "data": {
      "text/html": [
       "<div>\n",
       "<style scoped>\n",
       "    .dataframe tbody tr th:only-of-type {\n",
       "        vertical-align: middle;\n",
       "    }\n",
       "\n",
       "    .dataframe tbody tr th {\n",
       "        vertical-align: top;\n",
       "    }\n",
       "\n",
       "    .dataframe thead th {\n",
       "        text-align: right;\n",
       "    }\n",
       "</style>\n",
       "<table border=\"1\" class=\"dataframe\">\n",
       "  <thead>\n",
       "    <tr style=\"text-align: right;\">\n",
       "      <th></th>\n",
       "      <th>School Type</th>\n",
       "      <th>Total Students</th>\n",
       "      <th>Total School Budget</th>\n",
       "      <th>Per Student Budget</th>\n",
       "      <th>Average Math Score</th>\n",
       "      <th>Average Reading Score</th>\n",
       "      <th>% Passing Math</th>\n",
       "      <th>% Passing Reading</th>\n",
       "      <th>% Overall Passing</th>\n",
       "    </tr>\n",
       "    <tr>\n",
       "      <th></th>\n",
       "      <th></th>\n",
       "      <th></th>\n",
       "      <th></th>\n",
       "      <th></th>\n",
       "      <th></th>\n",
       "      <th></th>\n",
       "      <th></th>\n",
       "      <th></th>\n",
       "      <th></th>\n",
       "    </tr>\n",
       "  </thead>\n",
       "  <tbody>\n",
       "    <tr>\n",
       "      <th>Bailey High School</th>\n",
       "      <td>District</td>\n",
       "      <td>4976</td>\n",
       "      <td>3124928</td>\n",
       "      <td>628.0</td>\n",
       "      <td>77.048432</td>\n",
       "      <td>81.033963</td>\n",
       "      <td>66.680064</td>\n",
       "      <td>81.933280</td>\n",
       "      <td>54.642283</td>\n",
       "    </tr>\n",
       "    <tr>\n",
       "      <th>Cabrera High School</th>\n",
       "      <td>Charter</td>\n",
       "      <td>1858</td>\n",
       "      <td>1081356</td>\n",
       "      <td>582.0</td>\n",
       "      <td>83.061895</td>\n",
       "      <td>83.975780</td>\n",
       "      <td>94.133477</td>\n",
       "      <td>97.039828</td>\n",
       "      <td>91.334769</td>\n",
       "    </tr>\n",
       "    <tr>\n",
       "      <th>Figueroa High School</th>\n",
       "      <td>District</td>\n",
       "      <td>2949</td>\n",
       "      <td>1884411</td>\n",
       "      <td>639.0</td>\n",
       "      <td>76.711767</td>\n",
       "      <td>81.158020</td>\n",
       "      <td>65.988471</td>\n",
       "      <td>80.739234</td>\n",
       "      <td>53.204476</td>\n",
       "    </tr>\n",
       "    <tr>\n",
       "      <th>Ford High School</th>\n",
       "      <td>District</td>\n",
       "      <td>2739</td>\n",
       "      <td>1763916</td>\n",
       "      <td>644.0</td>\n",
       "      <td>77.102592</td>\n",
       "      <td>80.746258</td>\n",
       "      <td>68.309602</td>\n",
       "      <td>79.299014</td>\n",
       "      <td>54.289887</td>\n",
       "    </tr>\n",
       "    <tr>\n",
       "      <th>Griffin High School</th>\n",
       "      <td>Charter</td>\n",
       "      <td>1468</td>\n",
       "      <td>917500</td>\n",
       "      <td>625.0</td>\n",
       "      <td>83.351499</td>\n",
       "      <td>83.816757</td>\n",
       "      <td>93.392371</td>\n",
       "      <td>97.138965</td>\n",
       "      <td>90.599455</td>\n",
       "    </tr>\n",
       "  </tbody>\n",
       "</table>\n",
       "</div>"
      ],
      "text/plain": [
       "                     School Type  Total Students  Total School Budget  \\\n",
       "                                                                        \n",
       "Bailey High School      District            4976              3124928   \n",
       "Cabrera High School      Charter            1858              1081356   \n",
       "Figueroa High School    District            2949              1884411   \n",
       "Ford High School        District            2739              1763916   \n",
       "Griffin High School      Charter            1468               917500   \n",
       "\n",
       "                      Per Student Budget  Average Math Score  \\\n",
       "                                                               \n",
       "Bailey High School                 628.0           77.048432   \n",
       "Cabrera High School                582.0           83.061895   \n",
       "Figueroa High School               639.0           76.711767   \n",
       "Ford High School                   644.0           77.102592   \n",
       "Griffin High School                625.0           83.351499   \n",
       "\n",
       "                      Average Reading Score  % Passing Math  \\\n",
       "                                                              \n",
       "Bailey High School                81.033963       66.680064   \n",
       "Cabrera High School               83.975780       94.133477   \n",
       "Figueroa High School              81.158020       65.988471   \n",
       "Ford High School                  80.746258       68.309602   \n",
       "Griffin High School               83.816757       93.392371   \n",
       "\n",
       "                      % Passing Reading  % Overall Passing  \n",
       "                                                            \n",
       "Bailey High School            81.933280          54.642283  \n",
       "Cabrera High School           97.039828          91.334769  \n",
       "Figueroa High School          80.739234          53.204476  \n",
       "Ford High School              79.299014          54.289887  \n",
       "Griffin High School           97.138965          90.599455  "
      ]
     },
     "execution_count": 95,
     "metadata": {},
     "output_type": "execute_result"
    }
   ],
   "source": [
    "#use the dataframe created, but add the school size into it as a series.\n",
    "dfScoresBySchoolSize = school_summary.copy()\n",
    "dfScoresBySchoolSize.head()"
   ]
  },
  {
   "cell_type": "code",
   "execution_count": 96,
   "metadata": {},
   "outputs": [
    {
     "data": {
      "text/html": [
       "<div>\n",
       "<style scoped>\n",
       "    .dataframe tbody tr th:only-of-type {\n",
       "        vertical-align: middle;\n",
       "    }\n",
       "\n",
       "    .dataframe tbody tr th {\n",
       "        vertical-align: top;\n",
       "    }\n",
       "\n",
       "    .dataframe thead th {\n",
       "        text-align: right;\n",
       "    }\n",
       "</style>\n",
       "<table border=\"1\" class=\"dataframe\">\n",
       "  <thead>\n",
       "    <tr style=\"text-align: right;\">\n",
       "      <th></th>\n",
       "      <th>School ID</th>\n",
       "      <th>school_name</th>\n",
       "      <th>type</th>\n",
       "      <th>size</th>\n",
       "      <th>budget</th>\n",
       "    </tr>\n",
       "  </thead>\n",
       "  <tbody>\n",
       "    <tr>\n",
       "      <th>0</th>\n",
       "      <td>0</td>\n",
       "      <td>Huang High School</td>\n",
       "      <td>District</td>\n",
       "      <td>2917</td>\n",
       "      <td>1910635</td>\n",
       "    </tr>\n",
       "  </tbody>\n",
       "</table>\n",
       "</div>"
      ],
      "text/plain": [
       "   School ID        school_name      type  size   budget\n",
       "0          0  Huang High School  District  2917  1910635"
      ]
     },
     "execution_count": 96,
     "metadata": {},
     "output_type": "execute_result"
    }
   ],
   "source": [
    "#review the school data with\n",
    "school_data.head(1)"
   ]
  },
  {
   "cell_type": "code",
   "execution_count": 97,
   "metadata": {},
   "outputs": [
    {
     "data": {
      "text/plain": [
       "school_name\n",
       "Huang High School        2917\n",
       "Figueroa High School     2949\n",
       "Shelton High School      1761\n",
       "Hernandez High School    4635\n",
       "Griffin High School      1468\n",
       "Wilson High School       2283\n",
       "Cabrera High School      1858\n",
       "Bailey High School       4976\n",
       "Holden High School        427\n",
       "Pena High School          962\n",
       "Wright High School       1800\n",
       "Rodriguez High School    3999\n",
       "Johnson High School      4761\n",
       "Ford High School         2739\n",
       "Thomas High School       1635\n",
       "Name: size, dtype: int64"
      ]
     },
     "execution_count": 97,
     "metadata": {},
     "output_type": "execute_result"
    }
   ],
   "source": [
    "#get a series by grouping by school_name and getting just the size\n",
    "#Creates a series with a matching index of school name, thus easy to insert into the dataframe\n",
    "school_data_size = school_data.set_index('school_name')['size']\n",
    "school_data_size"
   ]
  },
  {
   "cell_type": "code",
   "execution_count": 98,
   "metadata": {},
   "outputs": [
    {
     "data": {
      "text/html": [
       "<div>\n",
       "<style scoped>\n",
       "    .dataframe tbody tr th:only-of-type {\n",
       "        vertical-align: middle;\n",
       "    }\n",
       "\n",
       "    .dataframe tbody tr th {\n",
       "        vertical-align: top;\n",
       "    }\n",
       "\n",
       "    .dataframe thead th {\n",
       "        text-align: right;\n",
       "    }\n",
       "</style>\n",
       "<table border=\"1\" class=\"dataframe\">\n",
       "  <thead>\n",
       "    <tr style=\"text-align: right;\">\n",
       "      <th></th>\n",
       "      <th>size</th>\n",
       "      <th>School Type</th>\n",
       "      <th>Total Students</th>\n",
       "      <th>Total School Budget</th>\n",
       "      <th>Per Student Budget</th>\n",
       "      <th>Average Math Score</th>\n",
       "      <th>Average Reading Score</th>\n",
       "      <th>% Passing Math</th>\n",
       "      <th>% Passing Reading</th>\n",
       "      <th>% Overall Passing</th>\n",
       "    </tr>\n",
       "    <tr>\n",
       "      <th></th>\n",
       "      <th></th>\n",
       "      <th></th>\n",
       "      <th></th>\n",
       "      <th></th>\n",
       "      <th></th>\n",
       "      <th></th>\n",
       "      <th></th>\n",
       "      <th></th>\n",
       "      <th></th>\n",
       "      <th></th>\n",
       "    </tr>\n",
       "  </thead>\n",
       "  <tbody>\n",
       "    <tr>\n",
       "      <th>Bailey High School</th>\n",
       "      <td>4976</td>\n",
       "      <td>District</td>\n",
       "      <td>4976</td>\n",
       "      <td>3124928</td>\n",
       "      <td>628.0</td>\n",
       "      <td>77.048432</td>\n",
       "      <td>81.033963</td>\n",
       "      <td>66.680064</td>\n",
       "      <td>81.933280</td>\n",
       "      <td>54.642283</td>\n",
       "    </tr>\n",
       "    <tr>\n",
       "      <th>Cabrera High School</th>\n",
       "      <td>1858</td>\n",
       "      <td>Charter</td>\n",
       "      <td>1858</td>\n",
       "      <td>1081356</td>\n",
       "      <td>582.0</td>\n",
       "      <td>83.061895</td>\n",
       "      <td>83.975780</td>\n",
       "      <td>94.133477</td>\n",
       "      <td>97.039828</td>\n",
       "      <td>91.334769</td>\n",
       "    </tr>\n",
       "    <tr>\n",
       "      <th>Figueroa High School</th>\n",
       "      <td>2949</td>\n",
       "      <td>District</td>\n",
       "      <td>2949</td>\n",
       "      <td>1884411</td>\n",
       "      <td>639.0</td>\n",
       "      <td>76.711767</td>\n",
       "      <td>81.158020</td>\n",
       "      <td>65.988471</td>\n",
       "      <td>80.739234</td>\n",
       "      <td>53.204476</td>\n",
       "    </tr>\n",
       "    <tr>\n",
       "      <th>Ford High School</th>\n",
       "      <td>2739</td>\n",
       "      <td>District</td>\n",
       "      <td>2739</td>\n",
       "      <td>1763916</td>\n",
       "      <td>644.0</td>\n",
       "      <td>77.102592</td>\n",
       "      <td>80.746258</td>\n",
       "      <td>68.309602</td>\n",
       "      <td>79.299014</td>\n",
       "      <td>54.289887</td>\n",
       "    </tr>\n",
       "    <tr>\n",
       "      <th>Griffin High School</th>\n",
       "      <td>1468</td>\n",
       "      <td>Charter</td>\n",
       "      <td>1468</td>\n",
       "      <td>917500</td>\n",
       "      <td>625.0</td>\n",
       "      <td>83.351499</td>\n",
       "      <td>83.816757</td>\n",
       "      <td>93.392371</td>\n",
       "      <td>97.138965</td>\n",
       "      <td>90.599455</td>\n",
       "    </tr>\n",
       "  </tbody>\n",
       "</table>\n",
       "</div>"
      ],
      "text/plain": [
       "                      size School Type  Total Students  Total School Budget  \\\n",
       "                                                                              \n",
       "Bailey High School    4976    District            4976              3124928   \n",
       "Cabrera High School   1858     Charter            1858              1081356   \n",
       "Figueroa High School  2949    District            2949              1884411   \n",
       "Ford High School      2739    District            2739              1763916   \n",
       "Griffin High School   1468     Charter            1468               917500   \n",
       "\n",
       "                      Per Student Budget  Average Math Score  \\\n",
       "                                                               \n",
       "Bailey High School                 628.0           77.048432   \n",
       "Cabrera High School                582.0           83.061895   \n",
       "Figueroa High School               639.0           76.711767   \n",
       "Ford High School                   644.0           77.102592   \n",
       "Griffin High School                625.0           83.351499   \n",
       "\n",
       "                      Average Reading Score  % Passing Math  \\\n",
       "                                                              \n",
       "Bailey High School                81.033963       66.680064   \n",
       "Cabrera High School               83.975780       94.133477   \n",
       "Figueroa High School              81.158020       65.988471   \n",
       "Ford High School                  80.746258       68.309602   \n",
       "Griffin High School               83.816757       93.392371   \n",
       "\n",
       "                      % Passing Reading  % Overall Passing  \n",
       "                                                            \n",
       "Bailey High School            81.933280          54.642283  \n",
       "Cabrera High School           97.039828          91.334769  \n",
       "Figueroa High School          80.739234          53.204476  \n",
       "Ford High School              79.299014          54.289887  \n",
       "Griffin High School           97.138965          90.599455  "
      ]
     },
     "execution_count": 98,
     "metadata": {},
     "output_type": "execute_result"
    }
   ],
   "source": [
    "#insert this into the dataset above:\n",
    "dfScoresBySchoolSize.insert(0,'size',school_data_size,True)\n",
    "dfScoresBySchoolSize.head()\n"
   ]
  },
  {
   "cell_type": "code",
   "execution_count": 99,
   "metadata": {},
   "outputs": [],
   "source": [
    "#Now can add the binning column:\n",
    "dfScoresBySchoolSize['School Size']= pd.cut(dfScoresBySchoolSize['size'],bins,labels=lbls)"
   ]
  },
  {
   "cell_type": "code",
   "execution_count": 100,
   "metadata": {},
   "outputs": [
    {
     "data": {
      "text/html": [
       "<div>\n",
       "<style scoped>\n",
       "    .dataframe tbody tr th:only-of-type {\n",
       "        vertical-align: middle;\n",
       "    }\n",
       "\n",
       "    .dataframe tbody tr th {\n",
       "        vertical-align: top;\n",
       "    }\n",
       "\n",
       "    .dataframe thead th {\n",
       "        text-align: right;\n",
       "    }\n",
       "</style>\n",
       "<table border=\"1\" class=\"dataframe\">\n",
       "  <thead>\n",
       "    <tr style=\"text-align: right;\">\n",
       "      <th></th>\n",
       "      <th>size</th>\n",
       "      <th>School Type</th>\n",
       "      <th>Total Students</th>\n",
       "      <th>Total School Budget</th>\n",
       "      <th>Per Student Budget</th>\n",
       "      <th>Average Math Score</th>\n",
       "      <th>Average Reading Score</th>\n",
       "      <th>% Passing Math</th>\n",
       "      <th>% Passing Reading</th>\n",
       "      <th>% Overall Passing</th>\n",
       "      <th>School Size</th>\n",
       "    </tr>\n",
       "    <tr>\n",
       "      <th></th>\n",
       "      <th></th>\n",
       "      <th></th>\n",
       "      <th></th>\n",
       "      <th></th>\n",
       "      <th></th>\n",
       "      <th></th>\n",
       "      <th></th>\n",
       "      <th></th>\n",
       "      <th></th>\n",
       "      <th></th>\n",
       "      <th></th>\n",
       "    </tr>\n",
       "  </thead>\n",
       "  <tbody>\n",
       "    <tr>\n",
       "      <th>Bailey High School</th>\n",
       "      <td>4976</td>\n",
       "      <td>District</td>\n",
       "      <td>4976</td>\n",
       "      <td>3124928</td>\n",
       "      <td>628.0</td>\n",
       "      <td>77.048432</td>\n",
       "      <td>81.033963</td>\n",
       "      <td>66.680064</td>\n",
       "      <td>81.93328</td>\n",
       "      <td>54.642283</td>\n",
       "      <td>Large (2000-5000)</td>\n",
       "    </tr>\n",
       "  </tbody>\n",
       "</table>\n",
       "</div>"
      ],
      "text/plain": [
       "                    size School Type  Total Students  Total School Budget  \\\n",
       "                                                                            \n",
       "Bailey High School  4976    District            4976              3124928   \n",
       "\n",
       "                    Per Student Budget  Average Math Score  \\\n",
       "                                                             \n",
       "Bailey High School               628.0           77.048432   \n",
       "\n",
       "                    Average Reading Score  % Passing Math  % Passing Reading  \\\n",
       "                                                                               \n",
       "Bailey High School              81.033963       66.680064           81.93328   \n",
       "\n",
       "                    % Overall Passing        School Size  \n",
       "                                                          \n",
       "Bailey High School          54.642283  Large (2000-5000)  "
      ]
     },
     "execution_count": 100,
     "metadata": {},
     "output_type": "execute_result"
    }
   ],
   "source": [
    "#ensure is there\n",
    "dfScoresBySchoolSize.head(1)"
   ]
  },
  {
   "cell_type": "code",
   "execution_count": 101,
   "metadata": {},
   "outputs": [
    {
     "data": {
      "text/html": [
       "<div>\n",
       "<style scoped>\n",
       "    .dataframe tbody tr th:only-of-type {\n",
       "        vertical-align: middle;\n",
       "    }\n",
       "\n",
       "    .dataframe tbody tr th {\n",
       "        vertical-align: top;\n",
       "    }\n",
       "\n",
       "    .dataframe thead th {\n",
       "        text-align: right;\n",
       "    }\n",
       "</style>\n",
       "<table border=\"1\" class=\"dataframe\">\n",
       "  <thead>\n",
       "    <tr style=\"text-align: right;\">\n",
       "      <th></th>\n",
       "      <th>Average Math Score</th>\n",
       "      <th>Average Reading Score</th>\n",
       "      <th>% Passing Math</th>\n",
       "      <th>% Passing Reading</th>\n",
       "      <th>% Overall Passing</th>\n",
       "      <th>School Size</th>\n",
       "    </tr>\n",
       "  </thead>\n",
       "  <tbody>\n",
       "    <tr>\n",
       "      <th>0</th>\n",
       "      <td>77.048432</td>\n",
       "      <td>81.033963</td>\n",
       "      <td>66.680064</td>\n",
       "      <td>81.93328</td>\n",
       "      <td>54.642283</td>\n",
       "      <td>Large (2000-5000)</td>\n",
       "    </tr>\n",
       "  </tbody>\n",
       "</table>\n",
       "</div>"
      ],
      "text/plain": [
       "   Average Math Score  Average Reading Score  % Passing Math  \\\n",
       "0           77.048432              81.033963       66.680064   \n",
       "\n",
       "   % Passing Reading  % Overall Passing        School Size  \n",
       "0           81.93328          54.642283  Large (2000-5000)  "
      ]
     },
     "execution_count": 101,
     "metadata": {},
     "output_type": "execute_result"
    }
   ],
   "source": [
    "#remove all the columns we don't need:\n",
    "del dfScoresBySchoolSize['School Type']\n",
    "del dfScoresBySchoolSize['Total Students'] \n",
    "del dfScoresBySchoolSize['Total School Budget']\n",
    "del dfScoresBySchoolSize['Per Student Budget']\n",
    "del dfScoresBySchoolSize['size']\n",
    "#remove School Name index with default index\n",
    "dfScoresBySchoolSize.reset_index(inplace = True, drop = True)\n",
    "dfScoresBySchoolSize.head(1)"
   ]
  },
  {
   "cell_type": "code",
   "execution_count": 102,
   "metadata": {},
   "outputs": [],
   "source": [
    "#Group by the newly created School Size category\n",
    "dfgScoresBySchoolSize = dfScoresBySchoolSize.groupby('School Size').mean()"
   ]
  },
  {
   "cell_type": "markdown",
   "metadata": {},
   "source": [
    "## Scores By School Size (unformatted):"
   ]
  },
  {
   "cell_type": "code",
   "execution_count": 103,
   "metadata": {},
   "outputs": [
    {
     "data": {
      "text/html": [
       "<div>\n",
       "<style scoped>\n",
       "    .dataframe tbody tr th:only-of-type {\n",
       "        vertical-align: middle;\n",
       "    }\n",
       "\n",
       "    .dataframe tbody tr th {\n",
       "        vertical-align: top;\n",
       "    }\n",
       "\n",
       "    .dataframe thead th {\n",
       "        text-align: right;\n",
       "    }\n",
       "</style>\n",
       "<table border=\"1\" class=\"dataframe\">\n",
       "  <thead>\n",
       "    <tr style=\"text-align: right;\">\n",
       "      <th></th>\n",
       "      <th>Average Math Score</th>\n",
       "      <th>Average Reading Score</th>\n",
       "      <th>% Passing Math</th>\n",
       "      <th>% Passing Reading</th>\n",
       "      <th>% Overall Passing</th>\n",
       "    </tr>\n",
       "    <tr>\n",
       "      <th>School Size</th>\n",
       "      <th></th>\n",
       "      <th></th>\n",
       "      <th></th>\n",
       "      <th></th>\n",
       "      <th></th>\n",
       "    </tr>\n",
       "  </thead>\n",
       "  <tbody>\n",
       "    <tr>\n",
       "      <th>Small (&lt;1000)</th>\n",
       "      <td>83.821598</td>\n",
       "      <td>83.929843</td>\n",
       "      <td>93.550225</td>\n",
       "      <td>96.099437</td>\n",
       "      <td>89.883853</td>\n",
       "    </tr>\n",
       "    <tr>\n",
       "      <th>Medium (1000-2000)</th>\n",
       "      <td>83.374684</td>\n",
       "      <td>83.864438</td>\n",
       "      <td>93.599695</td>\n",
       "      <td>96.790680</td>\n",
       "      <td>90.621535</td>\n",
       "    </tr>\n",
       "    <tr>\n",
       "      <th>Large (2000-5000)</th>\n",
       "      <td>77.746417</td>\n",
       "      <td>81.344493</td>\n",
       "      <td>69.963361</td>\n",
       "      <td>82.766634</td>\n",
       "      <td>58.286003</td>\n",
       "    </tr>\n",
       "  </tbody>\n",
       "</table>\n",
       "</div>"
      ],
      "text/plain": [
       "                    Average Math Score  Average Reading Score  % Passing Math  \\\n",
       "School Size                                                                     \n",
       "Small (<1000)                83.821598              83.929843       93.550225   \n",
       "Medium (1000-2000)           83.374684              83.864438       93.599695   \n",
       "Large (2000-5000)            77.746417              81.344493       69.963361   \n",
       "\n",
       "                    % Passing Reading  % Overall Passing  \n",
       "School Size                                               \n",
       "Small (<1000)               96.099437          89.883853  \n",
       "Medium (1000-2000)          96.790680          90.621535  \n",
       "Large (2000-5000)           82.766634          58.286003  "
      ]
     },
     "execution_count": 103,
     "metadata": {},
     "output_type": "execute_result"
    }
   ],
   "source": [
    "dfgScoresBySchoolSize"
   ]
  },
  {
   "cell_type": "markdown",
   "metadata": {},
   "source": [
    "## Scores By School Size (formatted):"
   ]
  },
  {
   "cell_type": "code",
   "execution_count": 104,
   "metadata": {},
   "outputs": [
    {
     "data": {
      "text/html": [
       "<style  type=\"text/css\" >\n",
       "</style><table id=\"T_8dee1948_1402_11ec_aa00_1e007914d071\" ><thead>    <tr>        <th class=\"blank level0\" ></th>        <th class=\"col_heading level0 col0\" >Average Math Score</th>        <th class=\"col_heading level0 col1\" >Average Reading Score</th>        <th class=\"col_heading level0 col2\" >% Passing Math</th>        <th class=\"col_heading level0 col3\" >% Passing Reading</th>        <th class=\"col_heading level0 col4\" >% Overall Passing</th>    </tr>    <tr>        <th class=\"index_name level0\" >School Size</th>        <th class=\"blank\" ></th>        <th class=\"blank\" ></th>        <th class=\"blank\" ></th>        <th class=\"blank\" ></th>        <th class=\"blank\" ></th>    </tr></thead><tbody>\n",
       "                <tr>\n",
       "                        <th id=\"T_8dee1948_1402_11ec_aa00_1e007914d071level0_row0\" class=\"row_heading level0 row0\" >Small (<1000)</th>\n",
       "                        <td id=\"T_8dee1948_1402_11ec_aa00_1e007914d071row0_col0\" class=\"data row0 col0\" >83.82</td>\n",
       "                        <td id=\"T_8dee1948_1402_11ec_aa00_1e007914d071row0_col1\" class=\"data row0 col1\" >83.93</td>\n",
       "                        <td id=\"T_8dee1948_1402_11ec_aa00_1e007914d071row0_col2\" class=\"data row0 col2\" >93.55%</td>\n",
       "                        <td id=\"T_8dee1948_1402_11ec_aa00_1e007914d071row0_col3\" class=\"data row0 col3\" >96.10%</td>\n",
       "                        <td id=\"T_8dee1948_1402_11ec_aa00_1e007914d071row0_col4\" class=\"data row0 col4\" >89.88%</td>\n",
       "            </tr>\n",
       "            <tr>\n",
       "                        <th id=\"T_8dee1948_1402_11ec_aa00_1e007914d071level0_row1\" class=\"row_heading level0 row1\" >Medium (1000-2000)</th>\n",
       "                        <td id=\"T_8dee1948_1402_11ec_aa00_1e007914d071row1_col0\" class=\"data row1 col0\" >83.37</td>\n",
       "                        <td id=\"T_8dee1948_1402_11ec_aa00_1e007914d071row1_col1\" class=\"data row1 col1\" >83.86</td>\n",
       "                        <td id=\"T_8dee1948_1402_11ec_aa00_1e007914d071row1_col2\" class=\"data row1 col2\" >93.60%</td>\n",
       "                        <td id=\"T_8dee1948_1402_11ec_aa00_1e007914d071row1_col3\" class=\"data row1 col3\" >96.79%</td>\n",
       "                        <td id=\"T_8dee1948_1402_11ec_aa00_1e007914d071row1_col4\" class=\"data row1 col4\" >90.62%</td>\n",
       "            </tr>\n",
       "            <tr>\n",
       "                        <th id=\"T_8dee1948_1402_11ec_aa00_1e007914d071level0_row2\" class=\"row_heading level0 row2\" >Large (2000-5000)</th>\n",
       "                        <td id=\"T_8dee1948_1402_11ec_aa00_1e007914d071row2_col0\" class=\"data row2 col0\" >77.75</td>\n",
       "                        <td id=\"T_8dee1948_1402_11ec_aa00_1e007914d071row2_col1\" class=\"data row2 col1\" >81.34</td>\n",
       "                        <td id=\"T_8dee1948_1402_11ec_aa00_1e007914d071row2_col2\" class=\"data row2 col2\" >69.96%</td>\n",
       "                        <td id=\"T_8dee1948_1402_11ec_aa00_1e007914d071row2_col3\" class=\"data row2 col3\" >82.77%</td>\n",
       "                        <td id=\"T_8dee1948_1402_11ec_aa00_1e007914d071row2_col4\" class=\"data row2 col4\" >58.29%</td>\n",
       "            </tr>\n",
       "    </tbody></table>"
      ],
      "text/plain": [
       "<pandas.io.formats.style.Styler at 0x7f7f00cd8160>"
      ]
     },
     "execution_count": 104,
     "metadata": {},
     "output_type": "execute_result"
    }
   ],
   "source": [
    "#Format the columns:\n",
    "dfgScoresBySchoolSize.style.format({\n",
    "                                  'Average Math Score': \"{:.2f}\", \n",
    "                                  'Average Reading Score': \"{:.2f}\", \n",
    "                                  \"% Passing Math\": \"{:.2f}%\", \n",
    "                                  \"% Passing Reading\": \"{:.2f}%\", \n",
    "                                  \"% Overall Passing\": \"{:.2f}%\"})"
   ]
  },
  {
   "cell_type": "code",
   "execution_count": null,
   "metadata": {},
   "outputs": [],
   "source": []
  },
  {
   "cell_type": "markdown",
   "metadata": {},
   "source": [
    "## Scores by School Type"
   ]
  },
  {
   "cell_type": "markdown",
   "metadata": {},
   "source": [
    "* Perform the same operations as above, based on school type"
   ]
  },
  {
   "cell_type": "code",
   "execution_count": 105,
   "metadata": {},
   "outputs": [],
   "source": [
    "#As seen below:"
   ]
  },
  {
   "cell_type": "code",
   "execution_count": 106,
   "metadata": {},
   "outputs": [
    {
     "data": {
      "text/html": [
       "<div>\n",
       "<style scoped>\n",
       "    .dataframe tbody tr th:only-of-type {\n",
       "        vertical-align: middle;\n",
       "    }\n",
       "\n",
       "    .dataframe tbody tr th {\n",
       "        vertical-align: top;\n",
       "    }\n",
       "\n",
       "    .dataframe thead th {\n",
       "        text-align: right;\n",
       "    }\n",
       "</style>\n",
       "<table border=\"1\" class=\"dataframe\">\n",
       "  <thead>\n",
       "    <tr style=\"text-align: right;\">\n",
       "      <th></th>\n",
       "      <th>School Type</th>\n",
       "      <th>Total Students</th>\n",
       "      <th>Total School Budget</th>\n",
       "      <th>Per Student Budget</th>\n",
       "      <th>Average Math Score</th>\n",
       "      <th>Average Reading Score</th>\n",
       "      <th>% Passing Math</th>\n",
       "      <th>% Passing Reading</th>\n",
       "      <th>% Overall Passing</th>\n",
       "    </tr>\n",
       "    <tr>\n",
       "      <th></th>\n",
       "      <th></th>\n",
       "      <th></th>\n",
       "      <th></th>\n",
       "      <th></th>\n",
       "      <th></th>\n",
       "      <th></th>\n",
       "      <th></th>\n",
       "      <th></th>\n",
       "      <th></th>\n",
       "    </tr>\n",
       "  </thead>\n",
       "  <tbody>\n",
       "    <tr>\n",
       "      <th>Bailey High School</th>\n",
       "      <td>District</td>\n",
       "      <td>4976</td>\n",
       "      <td>3124928</td>\n",
       "      <td>628.0</td>\n",
       "      <td>77.048432</td>\n",
       "      <td>81.033963</td>\n",
       "      <td>66.680064</td>\n",
       "      <td>81.933280</td>\n",
       "      <td>54.642283</td>\n",
       "    </tr>\n",
       "    <tr>\n",
       "      <th>Cabrera High School</th>\n",
       "      <td>Charter</td>\n",
       "      <td>1858</td>\n",
       "      <td>1081356</td>\n",
       "      <td>582.0</td>\n",
       "      <td>83.061895</td>\n",
       "      <td>83.975780</td>\n",
       "      <td>94.133477</td>\n",
       "      <td>97.039828</td>\n",
       "      <td>91.334769</td>\n",
       "    </tr>\n",
       "    <tr>\n",
       "      <th>Figueroa High School</th>\n",
       "      <td>District</td>\n",
       "      <td>2949</td>\n",
       "      <td>1884411</td>\n",
       "      <td>639.0</td>\n",
       "      <td>76.711767</td>\n",
       "      <td>81.158020</td>\n",
       "      <td>65.988471</td>\n",
       "      <td>80.739234</td>\n",
       "      <td>53.204476</td>\n",
       "    </tr>\n",
       "    <tr>\n",
       "      <th>Ford High School</th>\n",
       "      <td>District</td>\n",
       "      <td>2739</td>\n",
       "      <td>1763916</td>\n",
       "      <td>644.0</td>\n",
       "      <td>77.102592</td>\n",
       "      <td>80.746258</td>\n",
       "      <td>68.309602</td>\n",
       "      <td>79.299014</td>\n",
       "      <td>54.289887</td>\n",
       "    </tr>\n",
       "    <tr>\n",
       "      <th>Griffin High School</th>\n",
       "      <td>Charter</td>\n",
       "      <td>1468</td>\n",
       "      <td>917500</td>\n",
       "      <td>625.0</td>\n",
       "      <td>83.351499</td>\n",
       "      <td>83.816757</td>\n",
       "      <td>93.392371</td>\n",
       "      <td>97.138965</td>\n",
       "      <td>90.599455</td>\n",
       "    </tr>\n",
       "  </tbody>\n",
       "</table>\n",
       "</div>"
      ],
      "text/plain": [
       "                     School Type  Total Students  Total School Budget  \\\n",
       "                                                                        \n",
       "Bailey High School      District            4976              3124928   \n",
       "Cabrera High School      Charter            1858              1081356   \n",
       "Figueroa High School    District            2949              1884411   \n",
       "Ford High School        District            2739              1763916   \n",
       "Griffin High School      Charter            1468               917500   \n",
       "\n",
       "                      Per Student Budget  Average Math Score  \\\n",
       "                                                               \n",
       "Bailey High School                 628.0           77.048432   \n",
       "Cabrera High School                582.0           83.061895   \n",
       "Figueroa High School               639.0           76.711767   \n",
       "Ford High School                   644.0           77.102592   \n",
       "Griffin High School                625.0           83.351499   \n",
       "\n",
       "                      Average Reading Score  % Passing Math  \\\n",
       "                                                              \n",
       "Bailey High School                81.033963       66.680064   \n",
       "Cabrera High School               83.975780       94.133477   \n",
       "Figueroa High School              81.158020       65.988471   \n",
       "Ford High School                  80.746258       68.309602   \n",
       "Griffin High School               83.816757       93.392371   \n",
       "\n",
       "                      % Passing Reading  % Overall Passing  \n",
       "                                                            \n",
       "Bailey High School            81.933280          54.642283  \n",
       "Cabrera High School           97.039828          91.334769  \n",
       "Figueroa High School          80.739234          53.204476  \n",
       "Ford High School              79.299014          54.289887  \n",
       "Griffin High School           97.138965          90.599455  "
      ]
     },
     "execution_count": 106,
     "metadata": {},
     "output_type": "execute_result"
    }
   ],
   "source": [
    "#use the dataframe created\n",
    "dfScoresBySchoolType = school_summary.copy()\n",
    "dfScoresBySchoolType.head()"
   ]
  },
  {
   "cell_type": "code",
   "execution_count": 107,
   "metadata": {},
   "outputs": [
    {
     "data": {
      "text/html": [
       "<div>\n",
       "<style scoped>\n",
       "    .dataframe tbody tr th:only-of-type {\n",
       "        vertical-align: middle;\n",
       "    }\n",
       "\n",
       "    .dataframe tbody tr th {\n",
       "        vertical-align: top;\n",
       "    }\n",
       "\n",
       "    .dataframe thead th {\n",
       "        text-align: right;\n",
       "    }\n",
       "</style>\n",
       "<table border=\"1\" class=\"dataframe\">\n",
       "  <thead>\n",
       "    <tr style=\"text-align: right;\">\n",
       "      <th></th>\n",
       "      <th>School Type</th>\n",
       "      <th>Average Math Score</th>\n",
       "      <th>Average Reading Score</th>\n",
       "      <th>% Passing Math</th>\n",
       "      <th>% Passing Reading</th>\n",
       "      <th>% Overall Passing</th>\n",
       "    </tr>\n",
       "  </thead>\n",
       "  <tbody>\n",
       "    <tr>\n",
       "      <th>0</th>\n",
       "      <td>District</td>\n",
       "      <td>77.048432</td>\n",
       "      <td>81.033963</td>\n",
       "      <td>66.680064</td>\n",
       "      <td>81.93328</td>\n",
       "      <td>54.642283</td>\n",
       "    </tr>\n",
       "  </tbody>\n",
       "</table>\n",
       "</div>"
      ],
      "text/plain": [
       "  School Type  Average Math Score  Average Reading Score  % Passing Math  \\\n",
       "0    District           77.048432              81.033963       66.680064   \n",
       "\n",
       "   % Passing Reading  % Overall Passing  \n",
       "0           81.93328          54.642283  "
      ]
     },
     "execution_count": 107,
     "metadata": {},
     "output_type": "execute_result"
    }
   ],
   "source": [
    "#remove all the columns we don't need:\n",
    "del dfScoresBySchoolType['Total Students'] \n",
    "del dfScoresBySchoolType['Total School Budget']\n",
    "del dfScoresBySchoolType['Per Student Budget']\n",
    "#remove School Name index with default index\n",
    "dfScoresBySchoolType.reset_index(inplace = True, drop = True)\n",
    "dfScoresBySchoolType.head(1)"
   ]
  },
  {
   "cell_type": "markdown",
   "metadata": {},
   "source": [
    "## Scores By School Type (unformatted):"
   ]
  },
  {
   "cell_type": "code",
   "execution_count": 108,
   "metadata": {},
   "outputs": [
    {
     "data": {
      "text/html": [
       "<div>\n",
       "<style scoped>\n",
       "    .dataframe tbody tr th:only-of-type {\n",
       "        vertical-align: middle;\n",
       "    }\n",
       "\n",
       "    .dataframe tbody tr th {\n",
       "        vertical-align: top;\n",
       "    }\n",
       "\n",
       "    .dataframe thead th {\n",
       "        text-align: right;\n",
       "    }\n",
       "</style>\n",
       "<table border=\"1\" class=\"dataframe\">\n",
       "  <thead>\n",
       "    <tr style=\"text-align: right;\">\n",
       "      <th></th>\n",
       "      <th>Average Math Score</th>\n",
       "      <th>Average Reading Score</th>\n",
       "      <th>% Passing Math</th>\n",
       "      <th>% Passing Reading</th>\n",
       "      <th>% Overall Passing</th>\n",
       "    </tr>\n",
       "    <tr>\n",
       "      <th>School Type</th>\n",
       "      <th></th>\n",
       "      <th></th>\n",
       "      <th></th>\n",
       "      <th></th>\n",
       "      <th></th>\n",
       "    </tr>\n",
       "  </thead>\n",
       "  <tbody>\n",
       "    <tr>\n",
       "      <th>Charter</th>\n",
       "      <td>83.473852</td>\n",
       "      <td>83.896421</td>\n",
       "      <td>93.620830</td>\n",
       "      <td>96.586489</td>\n",
       "      <td>90.432244</td>\n",
       "    </tr>\n",
       "    <tr>\n",
       "      <th>District</th>\n",
       "      <td>76.956733</td>\n",
       "      <td>80.966636</td>\n",
       "      <td>66.548453</td>\n",
       "      <td>80.799062</td>\n",
       "      <td>53.672208</td>\n",
       "    </tr>\n",
       "  </tbody>\n",
       "</table>\n",
       "</div>"
      ],
      "text/plain": [
       "             Average Math Score  Average Reading Score  % Passing Math  \\\n",
       "School Type                                                              \n",
       "Charter               83.473852              83.896421       93.620830   \n",
       "District              76.956733              80.966636       66.548453   \n",
       "\n",
       "             % Passing Reading  % Overall Passing  \n",
       "School Type                                        \n",
       "Charter              96.586489          90.432244  \n",
       "District             80.799062          53.672208  "
      ]
     },
     "execution_count": 108,
     "metadata": {},
     "output_type": "execute_result"
    }
   ],
   "source": [
    "#group by the School Type: get the average for aggregation\n",
    "dfgScoresBySchoolType = dfScoresBySchoolType.groupby('School Type').mean()\n",
    "dfgScoresBySchoolType"
   ]
  },
  {
   "cell_type": "markdown",
   "metadata": {},
   "source": [
    "## Scores By School Type (formatted):"
   ]
  },
  {
   "cell_type": "code",
   "execution_count": 109,
   "metadata": {},
   "outputs": [
    {
     "data": {
      "text/html": [
       "<style  type=\"text/css\" >\n",
       "</style><table id=\"T_8df3c064_1402_11ec_aa00_1e007914d071\" ><thead>    <tr>        <th class=\"blank level0\" ></th>        <th class=\"col_heading level0 col0\" >Average Math Score</th>        <th class=\"col_heading level0 col1\" >Average Reading Score</th>        <th class=\"col_heading level0 col2\" >% Passing Math</th>        <th class=\"col_heading level0 col3\" >% Passing Reading</th>        <th class=\"col_heading level0 col4\" >% Overall Passing</th>    </tr>    <tr>        <th class=\"index_name level0\" >School Type</th>        <th class=\"blank\" ></th>        <th class=\"blank\" ></th>        <th class=\"blank\" ></th>        <th class=\"blank\" ></th>        <th class=\"blank\" ></th>    </tr></thead><tbody>\n",
       "                <tr>\n",
       "                        <th id=\"T_8df3c064_1402_11ec_aa00_1e007914d071level0_row0\" class=\"row_heading level0 row0\" >Charter</th>\n",
       "                        <td id=\"T_8df3c064_1402_11ec_aa00_1e007914d071row0_col0\" class=\"data row0 col0\" >83.47</td>\n",
       "                        <td id=\"T_8df3c064_1402_11ec_aa00_1e007914d071row0_col1\" class=\"data row0 col1\" >83.90</td>\n",
       "                        <td id=\"T_8df3c064_1402_11ec_aa00_1e007914d071row0_col2\" class=\"data row0 col2\" >93.62%</td>\n",
       "                        <td id=\"T_8df3c064_1402_11ec_aa00_1e007914d071row0_col3\" class=\"data row0 col3\" >96.59%</td>\n",
       "                        <td id=\"T_8df3c064_1402_11ec_aa00_1e007914d071row0_col4\" class=\"data row0 col4\" >90.43%</td>\n",
       "            </tr>\n",
       "            <tr>\n",
       "                        <th id=\"T_8df3c064_1402_11ec_aa00_1e007914d071level0_row1\" class=\"row_heading level0 row1\" >District</th>\n",
       "                        <td id=\"T_8df3c064_1402_11ec_aa00_1e007914d071row1_col0\" class=\"data row1 col0\" >76.96</td>\n",
       "                        <td id=\"T_8df3c064_1402_11ec_aa00_1e007914d071row1_col1\" class=\"data row1 col1\" >80.97</td>\n",
       "                        <td id=\"T_8df3c064_1402_11ec_aa00_1e007914d071row1_col2\" class=\"data row1 col2\" >66.55%</td>\n",
       "                        <td id=\"T_8df3c064_1402_11ec_aa00_1e007914d071row1_col3\" class=\"data row1 col3\" >80.80%</td>\n",
       "                        <td id=\"T_8df3c064_1402_11ec_aa00_1e007914d071row1_col4\" class=\"data row1 col4\" >53.67%</td>\n",
       "            </tr>\n",
       "    </tbody></table>"
      ],
      "text/plain": [
       "<pandas.io.formats.style.Styler at 0x7f7f014a9b80>"
      ]
     },
     "execution_count": 109,
     "metadata": {},
     "output_type": "execute_result"
    }
   ],
   "source": [
    "#Format the table:\n",
    "#Format the columns:\n",
    "dfgScoresBySchoolType.style.format({\n",
    "                                  'Average Math Score': \"{:.2f}\", \n",
    "                                  'Average Reading Score': \"{:.2f}\", \n",
    "                                  \"% Passing Math\": \"{:.2f}%\", \n",
    "                                  \"% Passing Reading\": \"{:.2f}%\", \n",
    "                                  \"% Overall Passing\": \"{:.2f}%\"})"
   ]
  },
  {
   "cell_type": "code",
   "execution_count": null,
   "metadata": {},
   "outputs": [],
   "source": []
  }
 ],
 "metadata": {
  "anaconda-cloud": {},
  "kernel_info": {
   "name": "python3"
  },
  "kernelspec": {
   "display_name": "Python 3",
   "language": "python",
   "name": "python3"
  },
  "language_info": {
   "codemirror_mode": {
    "name": "ipython",
    "version": 3
   },
   "file_extension": ".py",
   "mimetype": "text/x-python",
   "name": "python",
   "nbconvert_exporter": "python",
   "pygments_lexer": "ipython3",
   "version": "3.8.10"
  },
  "latex_envs": {
   "LaTeX_envs_menu_present": true,
   "autoclose": false,
   "autocomplete": true,
   "bibliofile": "biblio.bib",
   "cite_by": "apalike",
   "current_citInitial": 1,
   "eqLabelWithNumbers": true,
   "eqNumInitial": 1,
   "hotkeys": {
    "equation": "Ctrl-E",
    "itemize": "Ctrl-I"
   },
   "labels_anchors": false,
   "latex_user_defs": false,
   "report_style_numbering": false,
   "user_envs_cfg": false
  },
  "nteract": {
   "version": "0.8.4"
  }
 },
 "nbformat": 4,
 "nbformat_minor": 4
}
